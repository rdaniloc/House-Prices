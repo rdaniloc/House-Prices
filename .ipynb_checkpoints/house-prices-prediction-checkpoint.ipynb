{
 "cells": [
  {
   "cell_type": "markdown",
   "id": "a5675d3a",
   "metadata": {},
   "source": [
    "# Preços de Casas - Técnicas avançadas de Regressão"
   ]
  },
  {
   "cell_type": "markdown",
   "id": "df42e37d",
   "metadata": {},
   "source": [
    "## 1 - Objetivo da Análise"
   ]
  },
  {
   "cell_type": "markdown",
   "id": "60bb8f39",
   "metadata": {},
   "source": [
    "#### Obj.:  Prever o preço de venda de cada casa, para cada ID no conjunto de teste. Será previsto o valor da variável SalePrice."
   ]
  },
  {
   "cell_type": "markdown",
   "id": "5c56af9b",
   "metadata": {},
   "source": [
    "## 2 - Importação das bibliotecas básicas e das bases de dados Train e Test"
   ]
  },
  {
   "cell_type": "markdown",
   "id": "d8516563",
   "metadata": {},
   "source": [
    "#### Importação das Bibliotecas"
   ]
  },
  {
   "cell_type": "code",
   "execution_count": 1,
   "id": "2aca88a8",
   "metadata": {
    "execution": {
     "iopub.execute_input": "2023-06-21T16:49:27.282961Z",
     "iopub.status.busy": "2023-06-21T16:49:27.281533Z",
     "iopub.status.idle": "2023-06-21T16:49:28.114356Z",
     "shell.execute_reply": "2023-06-21T16:49:28.113189Z",
     "shell.execute_reply.started": "2023-06-21T16:49:27.282914Z"
    }
   },
   "outputs": [],
   "source": [
    "import pandas as pd\n",
    "import numpy as np\n",
    "import seaborn as sns\n",
    "import matplotlib.pyplot as plt\n",
    "import plotly.express as px\n",
    "from sklearn.impute import SimpleImputer"
   ]
  },
  {
   "cell_type": "markdown",
   "id": "7c24630a",
   "metadata": {},
   "source": [
    "#### Importação das bases de dados"
   ]
  },
  {
   "cell_type": "code",
   "execution_count": 2,
   "id": "828d47f8",
   "metadata": {
    "execution": {
     "iopub.execute_input": "2023-06-21T16:49:28.119662Z",
     "iopub.status.busy": "2023-06-21T16:49:28.119338Z",
     "iopub.status.idle": "2023-06-21T16:49:28.175660Z",
     "shell.execute_reply": "2023-06-21T16:49:28.174457Z",
     "shell.execute_reply.started": "2023-06-21T16:49:28.119634Z"
    }
   },
   "outputs": [],
   "source": [
    "# Base de dados de treinamento\n",
    "\n",
    "train_data = pd.read_csv('train.csv') # base de teste\n",
    "test_data = pd.read_csv('test.csv') # Base de treinamento"
   ]
  },
  {
   "cell_type": "code",
   "execution_count": 3,
   "id": "0aad79c9",
   "metadata": {
    "execution": {
     "iopub.execute_input": "2023-06-21T16:49:28.177494Z",
     "iopub.status.busy": "2023-06-21T16:49:28.176895Z",
     "iopub.status.idle": "2023-06-21T16:49:28.206112Z",
     "shell.execute_reply": "2023-06-21T16:49:28.204973Z",
     "shell.execute_reply.started": "2023-06-21T16:49:28.177459Z"
    },
    "scrolled": true
   },
   "outputs": [
    {
     "name": "stdout",
     "output_type": "stream",
     "text": [
      "<class 'pandas.core.frame.DataFrame'>\n",
      "RangeIndex: 1460 entries, 0 to 1459\n",
      "Data columns (total 81 columns):\n",
      " #   Column         Non-Null Count  Dtype  \n",
      "---  ------         --------------  -----  \n",
      " 0   Id             1460 non-null   int64  \n",
      " 1   MSSubClass     1460 non-null   int64  \n",
      " 2   MSZoning       1460 non-null   object \n",
      " 3   LotFrontage    1201 non-null   float64\n",
      " 4   LotArea        1460 non-null   int64  \n",
      " 5   Street         1460 non-null   object \n",
      " 6   Alley          91 non-null     object \n",
      " 7   LotShape       1460 non-null   object \n",
      " 8   LandContour    1460 non-null   object \n",
      " 9   Utilities      1460 non-null   object \n",
      " 10  LotConfig      1460 non-null   object \n",
      " 11  LandSlope      1460 non-null   object \n",
      " 12  Neighborhood   1460 non-null   object \n",
      " 13  Condition1     1460 non-null   object \n",
      " 14  Condition2     1460 non-null   object \n",
      " 15  BldgType       1460 non-null   object \n",
      " 16  HouseStyle     1460 non-null   object \n",
      " 17  OverallQual    1460 non-null   int64  \n",
      " 18  OverallCond    1460 non-null   int64  \n",
      " 19  YearBuilt      1460 non-null   int64  \n",
      " 20  YearRemodAdd   1460 non-null   int64  \n",
      " 21  RoofStyle      1460 non-null   object \n",
      " 22  RoofMatl       1460 non-null   object \n",
      " 23  Exterior1st    1460 non-null   object \n",
      " 24  Exterior2nd    1460 non-null   object \n",
      " 25  MasVnrType     1452 non-null   object \n",
      " 26  MasVnrArea     1452 non-null   float64\n",
      " 27  ExterQual      1460 non-null   object \n",
      " 28  ExterCond      1460 non-null   object \n",
      " 29  Foundation     1460 non-null   object \n",
      " 30  BsmtQual       1423 non-null   object \n",
      " 31  BsmtCond       1423 non-null   object \n",
      " 32  BsmtExposure   1422 non-null   object \n",
      " 33  BsmtFinType1   1423 non-null   object \n",
      " 34  BsmtFinSF1     1460 non-null   int64  \n",
      " 35  BsmtFinType2   1422 non-null   object \n",
      " 36  BsmtFinSF2     1460 non-null   int64  \n",
      " 37  BsmtUnfSF      1460 non-null   int64  \n",
      " 38  TotalBsmtSF    1460 non-null   int64  \n",
      " 39  Heating        1460 non-null   object \n",
      " 40  HeatingQC      1460 non-null   object \n",
      " 41  CentralAir     1460 non-null   object \n",
      " 42  Electrical     1459 non-null   object \n",
      " 43  1stFlrSF       1460 non-null   int64  \n",
      " 44  2ndFlrSF       1460 non-null   int64  \n",
      " 45  LowQualFinSF   1460 non-null   int64  \n",
      " 46  GrLivArea      1460 non-null   int64  \n",
      " 47  BsmtFullBath   1460 non-null   int64  \n",
      " 48  BsmtHalfBath   1460 non-null   int64  \n",
      " 49  FullBath       1460 non-null   int64  \n",
      " 50  HalfBath       1460 non-null   int64  \n",
      " 51  BedroomAbvGr   1460 non-null   int64  \n",
      " 52  KitchenAbvGr   1460 non-null   int64  \n",
      " 53  KitchenQual    1460 non-null   object \n",
      " 54  TotRmsAbvGrd   1460 non-null   int64  \n",
      " 55  Functional     1460 non-null   object \n",
      " 56  Fireplaces     1460 non-null   int64  \n",
      " 57  FireplaceQu    770 non-null    object \n",
      " 58  GarageType     1379 non-null   object \n",
      " 59  GarageYrBlt    1379 non-null   float64\n",
      " 60  GarageFinish   1379 non-null   object \n",
      " 61  GarageCars     1460 non-null   int64  \n",
      " 62  GarageArea     1460 non-null   int64  \n",
      " 63  GarageQual     1379 non-null   object \n",
      " 64  GarageCond     1379 non-null   object \n",
      " 65  PavedDrive     1460 non-null   object \n",
      " 66  WoodDeckSF     1460 non-null   int64  \n",
      " 67  OpenPorchSF    1460 non-null   int64  \n",
      " 68  EnclosedPorch  1460 non-null   int64  \n",
      " 69  3SsnPorch      1460 non-null   int64  \n",
      " 70  ScreenPorch    1460 non-null   int64  \n",
      " 71  PoolArea       1460 non-null   int64  \n",
      " 72  PoolQC         7 non-null      object \n",
      " 73  Fence          281 non-null    object \n",
      " 74  MiscFeature    54 non-null     object \n",
      " 75  MiscVal        1460 non-null   int64  \n",
      " 76  MoSold         1460 non-null   int64  \n",
      " 77  YrSold         1460 non-null   int64  \n",
      " 78  SaleType       1460 non-null   object \n",
      " 79  SaleCondition  1460 non-null   object \n",
      " 80  SalePrice      1460 non-null   int64  \n",
      "dtypes: float64(3), int64(35), object(43)\n",
      "memory usage: 924.0+ KB\n"
     ]
    }
   ],
   "source": [
    "train_data.info() # informações das colunas da base de treinamento"
   ]
  },
  {
   "cell_type": "code",
   "execution_count": 4,
   "id": "85a35f99",
   "metadata": {
    "execution": {
     "iopub.execute_input": "2023-06-21T16:49:28.321657Z",
     "iopub.status.busy": "2023-06-21T16:49:28.321291Z",
     "iopub.status.idle": "2023-06-21T16:49:28.348414Z",
     "shell.execute_reply": "2023-06-21T16:49:28.347197Z",
     "shell.execute_reply.started": "2023-06-21T16:49:28.321629Z"
    },
    "scrolled": true
   },
   "outputs": [
    {
     "name": "stdout",
     "output_type": "stream",
     "text": [
      "<class 'pandas.core.frame.DataFrame'>\n",
      "RangeIndex: 1459 entries, 0 to 1458\n",
      "Data columns (total 80 columns):\n",
      " #   Column         Non-Null Count  Dtype  \n",
      "---  ------         --------------  -----  \n",
      " 0   Id             1459 non-null   int64  \n",
      " 1   MSSubClass     1459 non-null   int64  \n",
      " 2   MSZoning       1455 non-null   object \n",
      " 3   LotFrontage    1232 non-null   float64\n",
      " 4   LotArea        1459 non-null   int64  \n",
      " 5   Street         1459 non-null   object \n",
      " 6   Alley          107 non-null    object \n",
      " 7   LotShape       1459 non-null   object \n",
      " 8   LandContour    1459 non-null   object \n",
      " 9   Utilities      1457 non-null   object \n",
      " 10  LotConfig      1459 non-null   object \n",
      " 11  LandSlope      1459 non-null   object \n",
      " 12  Neighborhood   1459 non-null   object \n",
      " 13  Condition1     1459 non-null   object \n",
      " 14  Condition2     1459 non-null   object \n",
      " 15  BldgType       1459 non-null   object \n",
      " 16  HouseStyle     1459 non-null   object \n",
      " 17  OverallQual    1459 non-null   int64  \n",
      " 18  OverallCond    1459 non-null   int64  \n",
      " 19  YearBuilt      1459 non-null   int64  \n",
      " 20  YearRemodAdd   1459 non-null   int64  \n",
      " 21  RoofStyle      1459 non-null   object \n",
      " 22  RoofMatl       1459 non-null   object \n",
      " 23  Exterior1st    1458 non-null   object \n",
      " 24  Exterior2nd    1458 non-null   object \n",
      " 25  MasVnrType     1443 non-null   object \n",
      " 26  MasVnrArea     1444 non-null   float64\n",
      " 27  ExterQual      1459 non-null   object \n",
      " 28  ExterCond      1459 non-null   object \n",
      " 29  Foundation     1459 non-null   object \n",
      " 30  BsmtQual       1415 non-null   object \n",
      " 31  BsmtCond       1414 non-null   object \n",
      " 32  BsmtExposure   1415 non-null   object \n",
      " 33  BsmtFinType1   1417 non-null   object \n",
      " 34  BsmtFinSF1     1458 non-null   float64\n",
      " 35  BsmtFinType2   1417 non-null   object \n",
      " 36  BsmtFinSF2     1458 non-null   float64\n",
      " 37  BsmtUnfSF      1458 non-null   float64\n",
      " 38  TotalBsmtSF    1458 non-null   float64\n",
      " 39  Heating        1459 non-null   object \n",
      " 40  HeatingQC      1459 non-null   object \n",
      " 41  CentralAir     1459 non-null   object \n",
      " 42  Electrical     1459 non-null   object \n",
      " 43  1stFlrSF       1459 non-null   int64  \n",
      " 44  2ndFlrSF       1459 non-null   int64  \n",
      " 45  LowQualFinSF   1459 non-null   int64  \n",
      " 46  GrLivArea      1459 non-null   int64  \n",
      " 47  BsmtFullBath   1457 non-null   float64\n",
      " 48  BsmtHalfBath   1457 non-null   float64\n",
      " 49  FullBath       1459 non-null   int64  \n",
      " 50  HalfBath       1459 non-null   int64  \n",
      " 51  BedroomAbvGr   1459 non-null   int64  \n",
      " 52  KitchenAbvGr   1459 non-null   int64  \n",
      " 53  KitchenQual    1458 non-null   object \n",
      " 54  TotRmsAbvGrd   1459 non-null   int64  \n",
      " 55  Functional     1457 non-null   object \n",
      " 56  Fireplaces     1459 non-null   int64  \n",
      " 57  FireplaceQu    729 non-null    object \n",
      " 58  GarageType     1383 non-null   object \n",
      " 59  GarageYrBlt    1381 non-null   float64\n",
      " 60  GarageFinish   1381 non-null   object \n",
      " 61  GarageCars     1458 non-null   float64\n",
      " 62  GarageArea     1458 non-null   float64\n",
      " 63  GarageQual     1381 non-null   object \n",
      " 64  GarageCond     1381 non-null   object \n",
      " 65  PavedDrive     1459 non-null   object \n",
      " 66  WoodDeckSF     1459 non-null   int64  \n",
      " 67  OpenPorchSF    1459 non-null   int64  \n",
      " 68  EnclosedPorch  1459 non-null   int64  \n",
      " 69  3SsnPorch      1459 non-null   int64  \n",
      " 70  ScreenPorch    1459 non-null   int64  \n",
      " 71  PoolArea       1459 non-null   int64  \n",
      " 72  PoolQC         3 non-null      object \n",
      " 73  Fence          290 non-null    object \n",
      " 74  MiscFeature    51 non-null     object \n",
      " 75  MiscVal        1459 non-null   int64  \n",
      " 76  MoSold         1459 non-null   int64  \n",
      " 77  YrSold         1459 non-null   int64  \n",
      " 78  SaleType       1458 non-null   object \n",
      " 79  SaleCondition  1459 non-null   object \n",
      "dtypes: float64(11), int64(26), object(43)\n",
      "memory usage: 912.0+ KB\n"
     ]
    }
   ],
   "source": [
    "test_data.info() # informações das colunas da base de teste"
   ]
  },
  {
   "cell_type": "code",
   "execution_count": 5,
   "id": "910c93f1",
   "metadata": {
    "execution": {
     "iopub.execute_input": "2023-06-21T16:49:28.617847Z",
     "iopub.status.busy": "2023-06-21T16:49:28.617460Z",
     "iopub.status.idle": "2023-06-21T16:49:28.629099Z",
     "shell.execute_reply": "2023-06-21T16:49:28.627778Z",
     "shell.execute_reply.started": "2023-06-21T16:49:28.617817Z"
    }
   },
   "outputs": [],
   "source": [
    "# Exclusão das colunas que apresentam mais de 15% dos valores nulos base de treinamento e teste\n",
    "\n",
    "train_data = train_data.drop(['LotFrontage', 'Alley', 'FireplaceQu', 'PoolQC', 'Fence', 'MiscFeature', 'MiscVal'], axis = 1)\n",
    "teste_data = test_data.drop(['LotFrontage', 'Alley', 'FireplaceQu', 'PoolQC', 'Fence', 'MiscFeature', 'MiscVal'], axis = 1)\n"
   ]
  },
  {
   "cell_type": "markdown",
   "id": "5e20a398",
   "metadata": {},
   "source": [
    "## 3 - Exploração e processamento da Base de Treinamento"
   ]
  },
  {
   "cell_type": "markdown",
   "id": "8cb59bf4",
   "metadata": {},
   "source": [
    "### 3.1 - Análise Exploratória"
   ]
  },
  {
   "cell_type": "code",
   "execution_count": 6,
   "id": "39395996",
   "metadata": {
    "execution": {
     "iopub.execute_input": "2023-06-21T16:49:29.440510Z",
     "iopub.status.busy": "2023-06-21T16:49:29.440110Z",
     "iopub.status.idle": "2023-06-21T16:49:29.449974Z",
     "shell.execute_reply": "2023-06-21T16:49:29.448719Z",
     "shell.execute_reply.started": "2023-06-21T16:49:29.440478Z"
    },
    "scrolled": false
   },
   "outputs": [
    {
     "data": {
      "text/plain": [
       "Index(['Id', 'MSSubClass', 'MSZoning', 'LotArea', 'Street', 'LotShape',\n",
       "       'LandContour', 'Utilities', 'LotConfig', 'LandSlope', 'Neighborhood',\n",
       "       'Condition1', 'Condition2', 'BldgType', 'HouseStyle', 'OverallQual',\n",
       "       'OverallCond', 'YearBuilt', 'YearRemodAdd', 'RoofStyle', 'RoofMatl',\n",
       "       'Exterior1st', 'Exterior2nd', 'MasVnrType', 'MasVnrArea', 'ExterQual',\n",
       "       'ExterCond', 'Foundation', 'BsmtQual', 'BsmtCond', 'BsmtExposure',\n",
       "       'BsmtFinType1', 'BsmtFinSF1', 'BsmtFinType2', 'BsmtFinSF2', 'BsmtUnfSF',\n",
       "       'TotalBsmtSF', 'Heating', 'HeatingQC', 'CentralAir', 'Electrical',\n",
       "       '1stFlrSF', '2ndFlrSF', 'LowQualFinSF', 'GrLivArea', 'BsmtFullBath',\n",
       "       'BsmtHalfBath', 'FullBath', 'HalfBath', 'BedroomAbvGr', 'KitchenAbvGr',\n",
       "       'KitchenQual', 'TotRmsAbvGrd', 'Functional', 'Fireplaces', 'GarageType',\n",
       "       'GarageYrBlt', 'GarageFinish', 'GarageCars', 'GarageArea', 'GarageQual',\n",
       "       'GarageCond', 'PavedDrive', 'WoodDeckSF', 'OpenPorchSF',\n",
       "       'EnclosedPorch', '3SsnPorch', 'ScreenPorch', 'PoolArea', 'MoSold',\n",
       "       'YrSold', 'SaleType', 'SaleCondition', 'SalePrice'],\n",
       "      dtype='object')"
      ]
     },
     "execution_count": 6,
     "metadata": {},
     "output_type": "execute_result"
    }
   ],
   "source": [
    "# Base de dados de treinamento\n",
    "\n",
    "train_data.head().columns"
   ]
  },
  {
   "cell_type": "code",
   "execution_count": 7,
   "id": "802f1cb7",
   "metadata": {
    "execution": {
     "iopub.execute_input": "2023-06-21T16:49:29.697727Z",
     "iopub.status.busy": "2023-06-21T16:49:29.697116Z",
     "iopub.status.idle": "2023-06-21T16:49:29.730906Z",
     "shell.execute_reply": "2023-06-21T16:49:29.730096Z",
     "shell.execute_reply.started": "2023-06-21T16:49:29.697683Z"
    }
   },
   "outputs": [
    {
     "data": {
      "text/html": [
       "<div>\n",
       "<style scoped>\n",
       "    .dataframe tbody tr th:only-of-type {\n",
       "        vertical-align: middle;\n",
       "    }\n",
       "\n",
       "    .dataframe tbody tr th {\n",
       "        vertical-align: top;\n",
       "    }\n",
       "\n",
       "    .dataframe thead th {\n",
       "        text-align: right;\n",
       "    }\n",
       "</style>\n",
       "<table border=\"1\" class=\"dataframe\">\n",
       "  <thead>\n",
       "    <tr style=\"text-align: right;\">\n",
       "      <th></th>\n",
       "      <th>Id</th>\n",
       "      <th>MSSubClass</th>\n",
       "      <th>MSZoning</th>\n",
       "      <th>LotArea</th>\n",
       "      <th>Street</th>\n",
       "      <th>LotShape</th>\n",
       "      <th>LandContour</th>\n",
       "      <th>Utilities</th>\n",
       "      <th>LotConfig</th>\n",
       "      <th>LandSlope</th>\n",
       "      <th>...</th>\n",
       "      <th>OpenPorchSF</th>\n",
       "      <th>EnclosedPorch</th>\n",
       "      <th>3SsnPorch</th>\n",
       "      <th>ScreenPorch</th>\n",
       "      <th>PoolArea</th>\n",
       "      <th>MoSold</th>\n",
       "      <th>YrSold</th>\n",
       "      <th>SaleType</th>\n",
       "      <th>SaleCondition</th>\n",
       "      <th>SalePrice</th>\n",
       "    </tr>\n",
       "  </thead>\n",
       "  <tbody>\n",
       "    <tr>\n",
       "      <th>1455</th>\n",
       "      <td>1456</td>\n",
       "      <td>60</td>\n",
       "      <td>RL</td>\n",
       "      <td>7917</td>\n",
       "      <td>Pave</td>\n",
       "      <td>Reg</td>\n",
       "      <td>Lvl</td>\n",
       "      <td>AllPub</td>\n",
       "      <td>Inside</td>\n",
       "      <td>Gtl</td>\n",
       "      <td>...</td>\n",
       "      <td>40</td>\n",
       "      <td>0</td>\n",
       "      <td>0</td>\n",
       "      <td>0</td>\n",
       "      <td>0</td>\n",
       "      <td>8</td>\n",
       "      <td>2007</td>\n",
       "      <td>WD</td>\n",
       "      <td>Normal</td>\n",
       "      <td>175000</td>\n",
       "    </tr>\n",
       "    <tr>\n",
       "      <th>1456</th>\n",
       "      <td>1457</td>\n",
       "      <td>20</td>\n",
       "      <td>RL</td>\n",
       "      <td>13175</td>\n",
       "      <td>Pave</td>\n",
       "      <td>Reg</td>\n",
       "      <td>Lvl</td>\n",
       "      <td>AllPub</td>\n",
       "      <td>Inside</td>\n",
       "      <td>Gtl</td>\n",
       "      <td>...</td>\n",
       "      <td>0</td>\n",
       "      <td>0</td>\n",
       "      <td>0</td>\n",
       "      <td>0</td>\n",
       "      <td>0</td>\n",
       "      <td>2</td>\n",
       "      <td>2010</td>\n",
       "      <td>WD</td>\n",
       "      <td>Normal</td>\n",
       "      <td>210000</td>\n",
       "    </tr>\n",
       "    <tr>\n",
       "      <th>1457</th>\n",
       "      <td>1458</td>\n",
       "      <td>70</td>\n",
       "      <td>RL</td>\n",
       "      <td>9042</td>\n",
       "      <td>Pave</td>\n",
       "      <td>Reg</td>\n",
       "      <td>Lvl</td>\n",
       "      <td>AllPub</td>\n",
       "      <td>Inside</td>\n",
       "      <td>Gtl</td>\n",
       "      <td>...</td>\n",
       "      <td>60</td>\n",
       "      <td>0</td>\n",
       "      <td>0</td>\n",
       "      <td>0</td>\n",
       "      <td>0</td>\n",
       "      <td>5</td>\n",
       "      <td>2010</td>\n",
       "      <td>WD</td>\n",
       "      <td>Normal</td>\n",
       "      <td>266500</td>\n",
       "    </tr>\n",
       "    <tr>\n",
       "      <th>1458</th>\n",
       "      <td>1459</td>\n",
       "      <td>20</td>\n",
       "      <td>RL</td>\n",
       "      <td>9717</td>\n",
       "      <td>Pave</td>\n",
       "      <td>Reg</td>\n",
       "      <td>Lvl</td>\n",
       "      <td>AllPub</td>\n",
       "      <td>Inside</td>\n",
       "      <td>Gtl</td>\n",
       "      <td>...</td>\n",
       "      <td>0</td>\n",
       "      <td>112</td>\n",
       "      <td>0</td>\n",
       "      <td>0</td>\n",
       "      <td>0</td>\n",
       "      <td>4</td>\n",
       "      <td>2010</td>\n",
       "      <td>WD</td>\n",
       "      <td>Normal</td>\n",
       "      <td>142125</td>\n",
       "    </tr>\n",
       "    <tr>\n",
       "      <th>1459</th>\n",
       "      <td>1460</td>\n",
       "      <td>20</td>\n",
       "      <td>RL</td>\n",
       "      <td>9937</td>\n",
       "      <td>Pave</td>\n",
       "      <td>Reg</td>\n",
       "      <td>Lvl</td>\n",
       "      <td>AllPub</td>\n",
       "      <td>Inside</td>\n",
       "      <td>Gtl</td>\n",
       "      <td>...</td>\n",
       "      <td>68</td>\n",
       "      <td>0</td>\n",
       "      <td>0</td>\n",
       "      <td>0</td>\n",
       "      <td>0</td>\n",
       "      <td>6</td>\n",
       "      <td>2008</td>\n",
       "      <td>WD</td>\n",
       "      <td>Normal</td>\n",
       "      <td>147500</td>\n",
       "    </tr>\n",
       "  </tbody>\n",
       "</table>\n",
       "<p>5 rows × 74 columns</p>\n",
       "</div>"
      ],
      "text/plain": [
       "        Id  MSSubClass MSZoning  LotArea Street LotShape LandContour  \\\n",
       "1455  1456          60       RL     7917   Pave      Reg         Lvl   \n",
       "1456  1457          20       RL    13175   Pave      Reg         Lvl   \n",
       "1457  1458          70       RL     9042   Pave      Reg         Lvl   \n",
       "1458  1459          20       RL     9717   Pave      Reg         Lvl   \n",
       "1459  1460          20       RL     9937   Pave      Reg         Lvl   \n",
       "\n",
       "     Utilities LotConfig LandSlope  ... OpenPorchSF EnclosedPorch 3SsnPorch  \\\n",
       "1455    AllPub    Inside       Gtl  ...          40             0         0   \n",
       "1456    AllPub    Inside       Gtl  ...           0             0         0   \n",
       "1457    AllPub    Inside       Gtl  ...          60             0         0   \n",
       "1458    AllPub    Inside       Gtl  ...           0           112         0   \n",
       "1459    AllPub    Inside       Gtl  ...          68             0         0   \n",
       "\n",
       "     ScreenPorch PoolArea  MoSold  YrSold  SaleType  SaleCondition SalePrice  \n",
       "1455           0        0       8    2007        WD         Normal    175000  \n",
       "1456           0        0       2    2010        WD         Normal    210000  \n",
       "1457           0        0       5    2010        WD         Normal    266500  \n",
       "1458           0        0       4    2010        WD         Normal    142125  \n",
       "1459           0        0       6    2008        WD         Normal    147500  \n",
       "\n",
       "[5 rows x 74 columns]"
      ]
     },
     "execution_count": 7,
     "metadata": {},
     "output_type": "execute_result"
    }
   ],
   "source": [
    "# Calda da base de dados de treinamento\n",
    "\n",
    "train_data.tail()"
   ]
  },
  {
   "cell_type": "code",
   "execution_count": 8,
   "id": "f45f2886",
   "metadata": {
    "execution": {
     "iopub.execute_input": "2023-06-21T16:49:30.014285Z",
     "iopub.status.busy": "2023-06-21T16:49:30.013779Z",
     "iopub.status.idle": "2023-06-21T16:49:30.021932Z",
     "shell.execute_reply": "2023-06-21T16:49:30.020747Z",
     "shell.execute_reply.started": "2023-06-21T16:49:30.014243Z"
    }
   },
   "outputs": [
    {
     "data": {
      "text/plain": [
       "(1460, 74)"
      ]
     },
     "execution_count": 8,
     "metadata": {},
     "output_type": "execute_result"
    }
   ],
   "source": [
    "# A base de dados tem 1460 linhas e 81 colunas\n",
    "\n",
    "train_data.shape"
   ]
  },
  {
   "cell_type": "markdown",
   "id": "5abd47bd",
   "metadata": {},
   "source": [
    "####  Análise das colunas numéricas"
   ]
  },
  {
   "cell_type": "code",
   "execution_count": 9,
   "id": "f3ff61cf",
   "metadata": {
    "execution": {
     "iopub.execute_input": "2023-06-21T16:49:32.017340Z",
     "iopub.status.busy": "2023-06-21T16:49:32.016947Z",
     "iopub.status.idle": "2023-06-21T16:49:32.038758Z",
     "shell.execute_reply": "2023-06-21T16:49:32.037986Z",
     "shell.execute_reply.started": "2023-06-21T16:49:32.017310Z"
    },
    "scrolled": true
   },
   "outputs": [
    {
     "data": {
      "text/html": [
       "<div>\n",
       "<style scoped>\n",
       "    .dataframe tbody tr th:only-of-type {\n",
       "        vertical-align: middle;\n",
       "    }\n",
       "\n",
       "    .dataframe tbody tr th {\n",
       "        vertical-align: top;\n",
       "    }\n",
       "\n",
       "    .dataframe thead th {\n",
       "        text-align: right;\n",
       "    }\n",
       "</style>\n",
       "<table border=\"1\" class=\"dataframe\">\n",
       "  <thead>\n",
       "    <tr style=\"text-align: right;\">\n",
       "      <th></th>\n",
       "      <th>Id</th>\n",
       "      <th>MSSubClass</th>\n",
       "      <th>LotArea</th>\n",
       "      <th>OverallQual</th>\n",
       "      <th>OverallCond</th>\n",
       "      <th>YearBuilt</th>\n",
       "      <th>YearRemodAdd</th>\n",
       "      <th>MasVnrArea</th>\n",
       "      <th>BsmtFinSF1</th>\n",
       "      <th>BsmtFinSF2</th>\n",
       "      <th>...</th>\n",
       "      <th>GarageArea</th>\n",
       "      <th>WoodDeckSF</th>\n",
       "      <th>OpenPorchSF</th>\n",
       "      <th>EnclosedPorch</th>\n",
       "      <th>3SsnPorch</th>\n",
       "      <th>ScreenPorch</th>\n",
       "      <th>PoolArea</th>\n",
       "      <th>MoSold</th>\n",
       "      <th>YrSold</th>\n",
       "      <th>SalePrice</th>\n",
       "    </tr>\n",
       "  </thead>\n",
       "  <tbody>\n",
       "    <tr>\n",
       "      <th>count</th>\n",
       "      <td>1460.000000</td>\n",
       "      <td>1460.000000</td>\n",
       "      <td>1460.000000</td>\n",
       "      <td>1460.000000</td>\n",
       "      <td>1460.000000</td>\n",
       "      <td>1460.000000</td>\n",
       "      <td>1460.000000</td>\n",
       "      <td>1452.000000</td>\n",
       "      <td>1460.000000</td>\n",
       "      <td>1460.000000</td>\n",
       "      <td>...</td>\n",
       "      <td>1460.000000</td>\n",
       "      <td>1460.000000</td>\n",
       "      <td>1460.000000</td>\n",
       "      <td>1460.000000</td>\n",
       "      <td>1460.000000</td>\n",
       "      <td>1460.000000</td>\n",
       "      <td>1460.000000</td>\n",
       "      <td>1460.000000</td>\n",
       "      <td>1460.000000</td>\n",
       "      <td>1460.000000</td>\n",
       "    </tr>\n",
       "    <tr>\n",
       "      <th>mean</th>\n",
       "      <td>730.500000</td>\n",
       "      <td>56.897260</td>\n",
       "      <td>10516.828082</td>\n",
       "      <td>6.099315</td>\n",
       "      <td>5.575342</td>\n",
       "      <td>1971.267808</td>\n",
       "      <td>1984.865753</td>\n",
       "      <td>103.685262</td>\n",
       "      <td>443.639726</td>\n",
       "      <td>46.549315</td>\n",
       "      <td>...</td>\n",
       "      <td>472.980137</td>\n",
       "      <td>94.244521</td>\n",
       "      <td>46.660274</td>\n",
       "      <td>21.954110</td>\n",
       "      <td>3.409589</td>\n",
       "      <td>15.060959</td>\n",
       "      <td>2.758904</td>\n",
       "      <td>6.321918</td>\n",
       "      <td>2007.815753</td>\n",
       "      <td>180921.195890</td>\n",
       "    </tr>\n",
       "    <tr>\n",
       "      <th>std</th>\n",
       "      <td>421.610009</td>\n",
       "      <td>42.300571</td>\n",
       "      <td>9981.264932</td>\n",
       "      <td>1.382997</td>\n",
       "      <td>1.112799</td>\n",
       "      <td>30.202904</td>\n",
       "      <td>20.645407</td>\n",
       "      <td>181.066207</td>\n",
       "      <td>456.098091</td>\n",
       "      <td>161.319273</td>\n",
       "      <td>...</td>\n",
       "      <td>213.804841</td>\n",
       "      <td>125.338794</td>\n",
       "      <td>66.256028</td>\n",
       "      <td>61.119149</td>\n",
       "      <td>29.317331</td>\n",
       "      <td>55.757415</td>\n",
       "      <td>40.177307</td>\n",
       "      <td>2.703626</td>\n",
       "      <td>1.328095</td>\n",
       "      <td>79442.502883</td>\n",
       "    </tr>\n",
       "    <tr>\n",
       "      <th>min</th>\n",
       "      <td>1.000000</td>\n",
       "      <td>20.000000</td>\n",
       "      <td>1300.000000</td>\n",
       "      <td>1.000000</td>\n",
       "      <td>1.000000</td>\n",
       "      <td>1872.000000</td>\n",
       "      <td>1950.000000</td>\n",
       "      <td>0.000000</td>\n",
       "      <td>0.000000</td>\n",
       "      <td>0.000000</td>\n",
       "      <td>...</td>\n",
       "      <td>0.000000</td>\n",
       "      <td>0.000000</td>\n",
       "      <td>0.000000</td>\n",
       "      <td>0.000000</td>\n",
       "      <td>0.000000</td>\n",
       "      <td>0.000000</td>\n",
       "      <td>0.000000</td>\n",
       "      <td>1.000000</td>\n",
       "      <td>2006.000000</td>\n",
       "      <td>34900.000000</td>\n",
       "    </tr>\n",
       "    <tr>\n",
       "      <th>25%</th>\n",
       "      <td>365.750000</td>\n",
       "      <td>20.000000</td>\n",
       "      <td>7553.500000</td>\n",
       "      <td>5.000000</td>\n",
       "      <td>5.000000</td>\n",
       "      <td>1954.000000</td>\n",
       "      <td>1967.000000</td>\n",
       "      <td>0.000000</td>\n",
       "      <td>0.000000</td>\n",
       "      <td>0.000000</td>\n",
       "      <td>...</td>\n",
       "      <td>334.500000</td>\n",
       "      <td>0.000000</td>\n",
       "      <td>0.000000</td>\n",
       "      <td>0.000000</td>\n",
       "      <td>0.000000</td>\n",
       "      <td>0.000000</td>\n",
       "      <td>0.000000</td>\n",
       "      <td>5.000000</td>\n",
       "      <td>2007.000000</td>\n",
       "      <td>129975.000000</td>\n",
       "    </tr>\n",
       "    <tr>\n",
       "      <th>50%</th>\n",
       "      <td>730.500000</td>\n",
       "      <td>50.000000</td>\n",
       "      <td>9478.500000</td>\n",
       "      <td>6.000000</td>\n",
       "      <td>5.000000</td>\n",
       "      <td>1973.000000</td>\n",
       "      <td>1994.000000</td>\n",
       "      <td>0.000000</td>\n",
       "      <td>383.500000</td>\n",
       "      <td>0.000000</td>\n",
       "      <td>...</td>\n",
       "      <td>480.000000</td>\n",
       "      <td>0.000000</td>\n",
       "      <td>25.000000</td>\n",
       "      <td>0.000000</td>\n",
       "      <td>0.000000</td>\n",
       "      <td>0.000000</td>\n",
       "      <td>0.000000</td>\n",
       "      <td>6.000000</td>\n",
       "      <td>2008.000000</td>\n",
       "      <td>163000.000000</td>\n",
       "    </tr>\n",
       "    <tr>\n",
       "      <th>75%</th>\n",
       "      <td>1095.250000</td>\n",
       "      <td>70.000000</td>\n",
       "      <td>11601.500000</td>\n",
       "      <td>7.000000</td>\n",
       "      <td>6.000000</td>\n",
       "      <td>2000.000000</td>\n",
       "      <td>2004.000000</td>\n",
       "      <td>166.000000</td>\n",
       "      <td>712.250000</td>\n",
       "      <td>0.000000</td>\n",
       "      <td>...</td>\n",
       "      <td>576.000000</td>\n",
       "      <td>168.000000</td>\n",
       "      <td>68.000000</td>\n",
       "      <td>0.000000</td>\n",
       "      <td>0.000000</td>\n",
       "      <td>0.000000</td>\n",
       "      <td>0.000000</td>\n",
       "      <td>8.000000</td>\n",
       "      <td>2009.000000</td>\n",
       "      <td>214000.000000</td>\n",
       "    </tr>\n",
       "    <tr>\n",
       "      <th>max</th>\n",
       "      <td>1460.000000</td>\n",
       "      <td>190.000000</td>\n",
       "      <td>215245.000000</td>\n",
       "      <td>10.000000</td>\n",
       "      <td>9.000000</td>\n",
       "      <td>2010.000000</td>\n",
       "      <td>2010.000000</td>\n",
       "      <td>1600.000000</td>\n",
       "      <td>5644.000000</td>\n",
       "      <td>1474.000000</td>\n",
       "      <td>...</td>\n",
       "      <td>1418.000000</td>\n",
       "      <td>857.000000</td>\n",
       "      <td>547.000000</td>\n",
       "      <td>552.000000</td>\n",
       "      <td>508.000000</td>\n",
       "      <td>480.000000</td>\n",
       "      <td>738.000000</td>\n",
       "      <td>12.000000</td>\n",
       "      <td>2010.000000</td>\n",
       "      <td>755000.000000</td>\n",
       "    </tr>\n",
       "  </tbody>\n",
       "</table>\n",
       "<p>8 rows × 36 columns</p>\n",
       "</div>"
      ],
      "text/plain": [
       "                Id   MSSubClass        LotArea  OverallQual  OverallCond  \\\n",
       "count  1460.000000  1460.000000    1460.000000  1460.000000  1460.000000   \n",
       "mean    730.500000    56.897260   10516.828082     6.099315     5.575342   \n",
       "std     421.610009    42.300571    9981.264932     1.382997     1.112799   \n",
       "min       1.000000    20.000000    1300.000000     1.000000     1.000000   \n",
       "25%     365.750000    20.000000    7553.500000     5.000000     5.000000   \n",
       "50%     730.500000    50.000000    9478.500000     6.000000     5.000000   \n",
       "75%    1095.250000    70.000000   11601.500000     7.000000     6.000000   \n",
       "max    1460.000000   190.000000  215245.000000    10.000000     9.000000   \n",
       "\n",
       "         YearBuilt  YearRemodAdd   MasVnrArea   BsmtFinSF1   BsmtFinSF2  ...  \\\n",
       "count  1460.000000   1460.000000  1452.000000  1460.000000  1460.000000  ...   \n",
       "mean   1971.267808   1984.865753   103.685262   443.639726    46.549315  ...   \n",
       "std      30.202904     20.645407   181.066207   456.098091   161.319273  ...   \n",
       "min    1872.000000   1950.000000     0.000000     0.000000     0.000000  ...   \n",
       "25%    1954.000000   1967.000000     0.000000     0.000000     0.000000  ...   \n",
       "50%    1973.000000   1994.000000     0.000000   383.500000     0.000000  ...   \n",
       "75%    2000.000000   2004.000000   166.000000   712.250000     0.000000  ...   \n",
       "max    2010.000000   2010.000000  1600.000000  5644.000000  1474.000000  ...   \n",
       "\n",
       "        GarageArea   WoodDeckSF  OpenPorchSF  EnclosedPorch    3SsnPorch  \\\n",
       "count  1460.000000  1460.000000  1460.000000    1460.000000  1460.000000   \n",
       "mean    472.980137    94.244521    46.660274      21.954110     3.409589   \n",
       "std     213.804841   125.338794    66.256028      61.119149    29.317331   \n",
       "min       0.000000     0.000000     0.000000       0.000000     0.000000   \n",
       "25%     334.500000     0.000000     0.000000       0.000000     0.000000   \n",
       "50%     480.000000     0.000000    25.000000       0.000000     0.000000   \n",
       "75%     576.000000   168.000000    68.000000       0.000000     0.000000   \n",
       "max    1418.000000   857.000000   547.000000     552.000000   508.000000   \n",
       "\n",
       "       ScreenPorch     PoolArea       MoSold       YrSold      SalePrice  \n",
       "count  1460.000000  1460.000000  1460.000000  1460.000000    1460.000000  \n",
       "mean     15.060959     2.758904     6.321918  2007.815753  180921.195890  \n",
       "std      55.757415    40.177307     2.703626     1.328095   79442.502883  \n",
       "min       0.000000     0.000000     1.000000  2006.000000   34900.000000  \n",
       "25%       0.000000     0.000000     5.000000  2007.000000  129975.000000  \n",
       "50%       0.000000     0.000000     6.000000  2008.000000  163000.000000  \n",
       "75%       0.000000     0.000000     8.000000  2009.000000  214000.000000  \n",
       "max     480.000000   738.000000    12.000000  2010.000000  755000.000000  \n",
       "\n",
       "[8 rows x 36 columns]"
      ]
     },
     "execution_count": 9,
     "metadata": {},
     "output_type": "execute_result"
    }
   ],
   "source": [
    "# Colunas com os dados númericos\n",
    "\n",
    "train_numericos = train_data.select_dtypes(include=['int64', 'float64'])\n",
    "train_numericos.describe()"
   ]
  },
  {
   "cell_type": "code",
   "execution_count": 10,
   "id": "6c6a4aec",
   "metadata": {},
   "outputs": [
    {
     "data": {
      "text/plain": [
       "Index(['Id', 'MSSubClass', 'LotArea', 'OverallQual', 'OverallCond',\n",
       "       'YearBuilt', 'YearRemodAdd', 'MasVnrArea', 'BsmtFinSF1', 'BsmtFinSF2',\n",
       "       'BsmtUnfSF', 'TotalBsmtSF', '1stFlrSF', '2ndFlrSF', 'LowQualFinSF',\n",
       "       'GrLivArea', 'BsmtFullBath', 'BsmtHalfBath', 'FullBath', 'HalfBath',\n",
       "       'BedroomAbvGr', 'KitchenAbvGr', 'TotRmsAbvGrd', 'Fireplaces',\n",
       "       'GarageYrBlt', 'GarageCars', 'GarageArea', 'WoodDeckSF', 'OpenPorchSF',\n",
       "       'EnclosedPorch', '3SsnPorch', 'ScreenPorch', 'PoolArea', 'MoSold',\n",
       "       'YrSold', 'SalePrice'],\n",
       "      dtype='object')"
      ]
     },
     "execution_count": 10,
     "metadata": {},
     "output_type": "execute_result"
    }
   ],
   "source": [
    "# Lista com as colunas numéricas da base de treinamento. As colunas MSSubClass, OverallQuall e OverallCond não entram nessa categória pois\n",
    "# os números representam dados categóricos.\n",
    "\n",
    "train_numericos.columns"
   ]
  },
  {
   "cell_type": "markdown",
   "id": "041cc724",
   "metadata": {},
   "source": [
    "#### Análise colunas categóricas"
   ]
  },
  {
   "cell_type": "code",
   "execution_count": 11,
   "id": "54d70468",
   "metadata": {
    "execution": {
     "iopub.execute_input": "2023-06-21T16:49:37.568869Z",
     "iopub.status.busy": "2023-06-21T16:49:37.568458Z",
     "iopub.status.idle": "2023-06-21T16:49:37.593322Z",
     "shell.execute_reply": "2023-06-21T16:49:37.591962Z",
     "shell.execute_reply.started": "2023-06-21T16:49:37.568834Z"
    },
    "scrolled": true
   },
   "outputs": [
    {
     "data": {
      "text/html": [
       "<div>\n",
       "<style scoped>\n",
       "    .dataframe tbody tr th:only-of-type {\n",
       "        vertical-align: middle;\n",
       "    }\n",
       "\n",
       "    .dataframe tbody tr th {\n",
       "        vertical-align: top;\n",
       "    }\n",
       "\n",
       "    .dataframe thead th {\n",
       "        text-align: right;\n",
       "    }\n",
       "</style>\n",
       "<table border=\"1\" class=\"dataframe\">\n",
       "  <thead>\n",
       "    <tr style=\"text-align: right;\">\n",
       "      <th></th>\n",
       "      <th>MSZoning</th>\n",
       "      <th>Street</th>\n",
       "      <th>LotShape</th>\n",
       "      <th>LandContour</th>\n",
       "      <th>Utilities</th>\n",
       "      <th>LotConfig</th>\n",
       "      <th>LandSlope</th>\n",
       "      <th>Neighborhood</th>\n",
       "      <th>Condition1</th>\n",
       "      <th>Condition2</th>\n",
       "      <th>...</th>\n",
       "      <th>Electrical</th>\n",
       "      <th>KitchenQual</th>\n",
       "      <th>Functional</th>\n",
       "      <th>GarageType</th>\n",
       "      <th>GarageFinish</th>\n",
       "      <th>GarageQual</th>\n",
       "      <th>GarageCond</th>\n",
       "      <th>PavedDrive</th>\n",
       "      <th>SaleType</th>\n",
       "      <th>SaleCondition</th>\n",
       "    </tr>\n",
       "  </thead>\n",
       "  <tbody>\n",
       "    <tr>\n",
       "      <th>count</th>\n",
       "      <td>1460</td>\n",
       "      <td>1460</td>\n",
       "      <td>1460</td>\n",
       "      <td>1460</td>\n",
       "      <td>1460</td>\n",
       "      <td>1460</td>\n",
       "      <td>1460</td>\n",
       "      <td>1460</td>\n",
       "      <td>1460</td>\n",
       "      <td>1460</td>\n",
       "      <td>...</td>\n",
       "      <td>1459</td>\n",
       "      <td>1460</td>\n",
       "      <td>1460</td>\n",
       "      <td>1379</td>\n",
       "      <td>1379</td>\n",
       "      <td>1379</td>\n",
       "      <td>1379</td>\n",
       "      <td>1460</td>\n",
       "      <td>1460</td>\n",
       "      <td>1460</td>\n",
       "    </tr>\n",
       "    <tr>\n",
       "      <th>unique</th>\n",
       "      <td>5</td>\n",
       "      <td>2</td>\n",
       "      <td>4</td>\n",
       "      <td>4</td>\n",
       "      <td>2</td>\n",
       "      <td>5</td>\n",
       "      <td>3</td>\n",
       "      <td>25</td>\n",
       "      <td>9</td>\n",
       "      <td>8</td>\n",
       "      <td>...</td>\n",
       "      <td>5</td>\n",
       "      <td>4</td>\n",
       "      <td>7</td>\n",
       "      <td>6</td>\n",
       "      <td>3</td>\n",
       "      <td>5</td>\n",
       "      <td>5</td>\n",
       "      <td>3</td>\n",
       "      <td>9</td>\n",
       "      <td>6</td>\n",
       "    </tr>\n",
       "    <tr>\n",
       "      <th>top</th>\n",
       "      <td>RL</td>\n",
       "      <td>Pave</td>\n",
       "      <td>Reg</td>\n",
       "      <td>Lvl</td>\n",
       "      <td>AllPub</td>\n",
       "      <td>Inside</td>\n",
       "      <td>Gtl</td>\n",
       "      <td>NAmes</td>\n",
       "      <td>Norm</td>\n",
       "      <td>Norm</td>\n",
       "      <td>...</td>\n",
       "      <td>SBrkr</td>\n",
       "      <td>TA</td>\n",
       "      <td>Typ</td>\n",
       "      <td>Attchd</td>\n",
       "      <td>Unf</td>\n",
       "      <td>TA</td>\n",
       "      <td>TA</td>\n",
       "      <td>Y</td>\n",
       "      <td>WD</td>\n",
       "      <td>Normal</td>\n",
       "    </tr>\n",
       "    <tr>\n",
       "      <th>freq</th>\n",
       "      <td>1151</td>\n",
       "      <td>1454</td>\n",
       "      <td>925</td>\n",
       "      <td>1311</td>\n",
       "      <td>1459</td>\n",
       "      <td>1052</td>\n",
       "      <td>1382</td>\n",
       "      <td>225</td>\n",
       "      <td>1260</td>\n",
       "      <td>1445</td>\n",
       "      <td>...</td>\n",
       "      <td>1334</td>\n",
       "      <td>735</td>\n",
       "      <td>1360</td>\n",
       "      <td>870</td>\n",
       "      <td>605</td>\n",
       "      <td>1311</td>\n",
       "      <td>1326</td>\n",
       "      <td>1340</td>\n",
       "      <td>1267</td>\n",
       "      <td>1198</td>\n",
       "    </tr>\n",
       "  </tbody>\n",
       "</table>\n",
       "<p>4 rows × 38 columns</p>\n",
       "</div>"
      ],
      "text/plain": [
       "       MSZoning Street LotShape LandContour Utilities LotConfig LandSlope  \\\n",
       "count      1460   1460     1460        1460      1460      1460      1460   \n",
       "unique        5      2        4           4         2         5         3   \n",
       "top          RL   Pave      Reg         Lvl    AllPub    Inside       Gtl   \n",
       "freq       1151   1454      925        1311      1459      1052      1382   \n",
       "\n",
       "       Neighborhood Condition1 Condition2  ... Electrical KitchenQual  \\\n",
       "count          1460       1460       1460  ...       1459        1460   \n",
       "unique           25          9          8  ...          5           4   \n",
       "top           NAmes       Norm       Norm  ...      SBrkr          TA   \n",
       "freq            225       1260       1445  ...       1334         735   \n",
       "\n",
       "       Functional GarageType GarageFinish GarageQual GarageCond PavedDrive  \\\n",
       "count        1460       1379         1379       1379       1379       1460   \n",
       "unique          7          6            3          5          5          3   \n",
       "top           Typ     Attchd          Unf         TA         TA          Y   \n",
       "freq         1360        870          605       1311       1326       1340   \n",
       "\n",
       "       SaleType SaleCondition  \n",
       "count      1460          1460  \n",
       "unique        9             6  \n",
       "top          WD        Normal  \n",
       "freq       1267          1198  \n",
       "\n",
       "[4 rows x 38 columns]"
      ]
     },
     "execution_count": 11,
     "metadata": {},
     "output_type": "execute_result"
    }
   ],
   "source": [
    "# Colunas com os dados categôricos\n",
    "\n",
    "train_categoricos = train_data.select_dtypes(include=['object'])\n",
    "train_categoricos.describe()"
   ]
  },
  {
   "cell_type": "code",
   "execution_count": 12,
   "id": "ec787de0",
   "metadata": {},
   "outputs": [
    {
     "data": {
      "text/plain": [
       "Index(['MSZoning', 'Street', 'LotShape', 'LandContour', 'Utilities',\n",
       "       'LotConfig', 'LandSlope', 'Neighborhood', 'Condition1', 'Condition2',\n",
       "       'BldgType', 'HouseStyle', 'RoofStyle', 'RoofMatl', 'Exterior1st',\n",
       "       'Exterior2nd', 'MasVnrType', 'ExterQual', 'ExterCond', 'Foundation',\n",
       "       'BsmtQual', 'BsmtCond', 'BsmtExposure', 'BsmtFinType1', 'BsmtFinType2',\n",
       "       'Heating', 'HeatingQC', 'CentralAir', 'Electrical', 'KitchenQual',\n",
       "       'Functional', 'GarageType', 'GarageFinish', 'GarageQual', 'GarageCond',\n",
       "       'PavedDrive', 'SaleType', 'SaleCondition'],\n",
       "      dtype='object')"
      ]
     },
     "execution_count": 12,
     "metadata": {},
     "output_type": "execute_result"
    }
   ],
   "source": [
    "# Lista com as colunas categóricas da base de treinamento. As colunas MSSubClass, OverallQuall e OverallCond, foram consideradas\n",
    "# categóricas por representar de forma numérica dados categóricos.\n",
    "\n",
    "train_categoricos.columns"
   ]
  },
  {
   "cell_type": "markdown",
   "id": "8af34a80",
   "metadata": {},
   "source": [
    "####  Valores Nulos"
   ]
  },
  {
   "cell_type": "markdown",
   "id": "b9709eba",
   "metadata": {},
   "source": [
    "#### Tratamento de valores numéricos nulos"
   ]
  },
  {
   "cell_type": "code",
   "execution_count": 13,
   "id": "92d2a1d1",
   "metadata": {
    "execution": {
     "iopub.execute_input": "2023-06-21T16:49:30.597881Z",
     "iopub.status.busy": "2023-06-21T16:49:30.597491Z",
     "iopub.status.idle": "2023-06-21T16:49:30.612021Z",
     "shell.execute_reply": "2023-06-21T16:49:30.610900Z",
     "shell.execute_reply.started": "2023-06-21T16:49:30.597849Z"
    },
    "scrolled": false
   },
   "outputs": [],
   "source": [
    "# Colunas com valores nulos\n",
    "\n",
    "nulos = train_numericos.isnull().sum()"
   ]
  },
  {
   "cell_type": "code",
   "execution_count": 14,
   "id": "c14c4629",
   "metadata": {
    "execution": {
     "iopub.execute_input": "2023-06-21T16:49:30.932340Z",
     "iopub.status.busy": "2023-06-21T16:49:30.931899Z",
     "iopub.status.idle": "2023-06-21T16:49:30.941528Z",
     "shell.execute_reply": "2023-06-21T16:49:30.940317Z",
     "shell.execute_reply.started": "2023-06-21T16:49:30.932304Z"
    },
    "scrolled": true
   },
   "outputs": [
    {
     "data": {
      "text/plain": [
       "Id                0\n",
       "MSSubClass        0\n",
       "LotArea           0\n",
       "OverallQual       0\n",
       "OverallCond       0\n",
       "YearBuilt         0\n",
       "YearRemodAdd      0\n",
       "MasVnrArea        8\n",
       "BsmtFinSF1        0\n",
       "BsmtFinSF2        0\n",
       "BsmtUnfSF         0\n",
       "TotalBsmtSF       0\n",
       "1stFlrSF          0\n",
       "2ndFlrSF          0\n",
       "LowQualFinSF      0\n",
       "GrLivArea         0\n",
       "BsmtFullBath      0\n",
       "BsmtHalfBath      0\n",
       "FullBath          0\n",
       "HalfBath          0\n",
       "BedroomAbvGr      0\n",
       "KitchenAbvGr      0\n",
       "TotRmsAbvGrd      0\n",
       "Fireplaces        0\n",
       "GarageYrBlt      81\n",
       "GarageCars        0\n",
       "GarageArea        0\n",
       "WoodDeckSF        0\n",
       "OpenPorchSF       0\n",
       "EnclosedPorch     0\n",
       "3SsnPorch         0\n",
       "ScreenPorch       0\n",
       "PoolArea          0\n",
       "MoSold            0\n",
       "YrSold            0\n",
       "SalePrice         0\n",
       "dtype: int64"
      ]
     },
     "execution_count": 14,
     "metadata": {},
     "output_type": "execute_result"
    }
   ],
   "source": [
    "# Quantidade de valores nulos\n",
    "\n",
    "nulos.head(50)"
   ]
  },
  {
   "cell_type": "markdown",
   "id": "53a41ef0",
   "metadata": {},
   "source": [
    "##### O tratamento de valores nulos para colunas númericas consistirá em substituir os valores nulos pela mediana dos valores da coluna. As colunas numéricas que apresentam dados nulos são: MasVnrArea eGarageYrBlt."
   ]
  },
  {
   "cell_type": "markdown",
   "id": "a7679f47",
   "metadata": {},
   "source": [
    "#### Tratando a coluna MasVnrArea"
   ]
  },
  {
   "cell_type": "code",
   "execution_count": 15,
   "id": "22afeded",
   "metadata": {
    "execution": {
     "iopub.execute_input": "2023-06-21T16:49:33.688857Z",
     "iopub.status.busy": "2023-06-21T16:49:33.688468Z",
     "iopub.status.idle": "2023-06-21T16:49:33.695096Z",
     "shell.execute_reply": "2023-06-21T16:49:33.694325Z",
     "shell.execute_reply.started": "2023-06-21T16:49:33.688827Z"
    }
   },
   "outputs": [
    {
     "name": "stdout",
     "output_type": "stream",
     "text": [
      "A mediana da coluna MasVnrArea é 0.0\n"
     ]
    }
   ],
   "source": [
    "# Mediana dos valores na coluna MasVnrArea\n",
    "\n",
    "print(f'A mediana da coluna MasVnrArea é {train_numericos[\"MasVnrArea\"].median()}')\n"
   ]
  },
  {
   "cell_type": "code",
   "execution_count": 16,
   "id": "f042535d",
   "metadata": {
    "execution": {
     "iopub.execute_input": "2023-06-21T16:49:34.406474Z",
     "iopub.status.busy": "2023-06-21T16:49:34.405269Z",
     "iopub.status.idle": "2023-06-21T16:49:34.422713Z",
     "shell.execute_reply": "2023-06-21T16:49:34.421575Z",
     "shell.execute_reply.started": "2023-06-21T16:49:34.406421Z"
    },
    "scrolled": false
   },
   "outputs": [
    {
     "data": {
      "text/html": [
       "<div>\n",
       "<style scoped>\n",
       "    .dataframe tbody tr th:only-of-type {\n",
       "        vertical-align: middle;\n",
       "    }\n",
       "\n",
       "    .dataframe tbody tr th {\n",
       "        vertical-align: top;\n",
       "    }\n",
       "\n",
       "    .dataframe thead th {\n",
       "        text-align: right;\n",
       "    }\n",
       "</style>\n",
       "<table border=\"1\" class=\"dataframe\">\n",
       "  <thead>\n",
       "    <tr style=\"text-align: right;\">\n",
       "      <th></th>\n",
       "      <th>Id</th>\n",
       "      <th>MSSubClass</th>\n",
       "      <th>MSZoning</th>\n",
       "      <th>LotArea</th>\n",
       "      <th>Street</th>\n",
       "      <th>LotShape</th>\n",
       "      <th>LandContour</th>\n",
       "      <th>Utilities</th>\n",
       "      <th>LotConfig</th>\n",
       "      <th>LandSlope</th>\n",
       "      <th>...</th>\n",
       "      <th>OpenPorchSF</th>\n",
       "      <th>EnclosedPorch</th>\n",
       "      <th>3SsnPorch</th>\n",
       "      <th>ScreenPorch</th>\n",
       "      <th>PoolArea</th>\n",
       "      <th>MoSold</th>\n",
       "      <th>YrSold</th>\n",
       "      <th>SaleType</th>\n",
       "      <th>SaleCondition</th>\n",
       "      <th>SalePrice</th>\n",
       "    </tr>\n",
       "  </thead>\n",
       "  <tbody>\n",
       "  </tbody>\n",
       "</table>\n",
       "<p>0 rows × 74 columns</p>\n",
       "</div>"
      ],
      "text/plain": [
       "Empty DataFrame\n",
       "Columns: [Id, MSSubClass, MSZoning, LotArea, Street, LotShape, LandContour, Utilities, LotConfig, LandSlope, Neighborhood, Condition1, Condition2, BldgType, HouseStyle, OverallQual, OverallCond, YearBuilt, YearRemodAdd, RoofStyle, RoofMatl, Exterior1st, Exterior2nd, MasVnrType, MasVnrArea, ExterQual, ExterCond, Foundation, BsmtQual, BsmtCond, BsmtExposure, BsmtFinType1, BsmtFinSF1, BsmtFinType2, BsmtFinSF2, BsmtUnfSF, TotalBsmtSF, Heating, HeatingQC, CentralAir, Electrical, 1stFlrSF, 2ndFlrSF, LowQualFinSF, GrLivArea, BsmtFullBath, BsmtHalfBath, FullBath, HalfBath, BedroomAbvGr, KitchenAbvGr, KitchenQual, TotRmsAbvGrd, Functional, Fireplaces, GarageType, GarageYrBlt, GarageFinish, GarageCars, GarageArea, GarageQual, GarageCond, PavedDrive, WoodDeckSF, OpenPorchSF, EnclosedPorch, 3SsnPorch, ScreenPorch, PoolArea, MoSold, YrSold, SaleType, SaleCondition, SalePrice]\n",
       "Index: []\n",
       "\n",
       "[0 rows x 74 columns]"
      ]
     },
     "execution_count": 16,
     "metadata": {},
     "output_type": "execute_result"
    }
   ],
   "source": [
    "# Atibuindo a mediana às celulas com valores nulos na coluna MasVnrArea\n",
    "\n",
    "train_data[\"MasVnrArea\"].fillna(train_data[\"MasVnrArea\"].median(), inplace=True)\n",
    "train_data[train_data[\"MasVnrArea\"].isnull()]"
   ]
  },
  {
   "cell_type": "markdown",
   "id": "9645ecc6",
   "metadata": {},
   "source": [
    "#### Tratando a coluna GarageYrBlt"
   ]
  },
  {
   "cell_type": "code",
   "execution_count": 17,
   "id": "383c6e03",
   "metadata": {
    "execution": {
     "iopub.execute_input": "2023-06-21T16:49:35.376469Z",
     "iopub.status.busy": "2023-06-21T16:49:35.376085Z",
     "iopub.status.idle": "2023-06-21T16:49:35.384289Z",
     "shell.execute_reply": "2023-06-21T16:49:35.383129Z",
     "shell.execute_reply.started": "2023-06-21T16:49:35.376438Z"
    }
   },
   "outputs": [
    {
     "name": "stdout",
     "output_type": "stream",
     "text": [
      "A mediana dos valores na coluna GarageYrBlt é 1980.0\n"
     ]
    }
   ],
   "source": [
    "# Mediana dos valores na colunas GarageYrBlt\n",
    "\n",
    "print(f'A mediana dos valores na coluna GarageYrBlt é {train_numericos[\"GarageYrBlt\"].median()}')"
   ]
  },
  {
   "cell_type": "code",
   "execution_count": 18,
   "id": "70ab351b",
   "metadata": {
    "execution": {
     "iopub.execute_input": "2023-06-21T16:49:36.026586Z",
     "iopub.status.busy": "2023-06-21T16:49:36.026055Z",
     "iopub.status.idle": "2023-06-21T16:49:36.045202Z",
     "shell.execute_reply": "2023-06-21T16:49:36.043967Z",
     "shell.execute_reply.started": "2023-06-21T16:49:36.026542Z"
    }
   },
   "outputs": [
    {
     "data": {
      "text/html": [
       "<div>\n",
       "<style scoped>\n",
       "    .dataframe tbody tr th:only-of-type {\n",
       "        vertical-align: middle;\n",
       "    }\n",
       "\n",
       "    .dataframe tbody tr th {\n",
       "        vertical-align: top;\n",
       "    }\n",
       "\n",
       "    .dataframe thead th {\n",
       "        text-align: right;\n",
       "    }\n",
       "</style>\n",
       "<table border=\"1\" class=\"dataframe\">\n",
       "  <thead>\n",
       "    <tr style=\"text-align: right;\">\n",
       "      <th></th>\n",
       "      <th>Id</th>\n",
       "      <th>MSSubClass</th>\n",
       "      <th>MSZoning</th>\n",
       "      <th>LotArea</th>\n",
       "      <th>Street</th>\n",
       "      <th>LotShape</th>\n",
       "      <th>LandContour</th>\n",
       "      <th>Utilities</th>\n",
       "      <th>LotConfig</th>\n",
       "      <th>LandSlope</th>\n",
       "      <th>...</th>\n",
       "      <th>OpenPorchSF</th>\n",
       "      <th>EnclosedPorch</th>\n",
       "      <th>3SsnPorch</th>\n",
       "      <th>ScreenPorch</th>\n",
       "      <th>PoolArea</th>\n",
       "      <th>MoSold</th>\n",
       "      <th>YrSold</th>\n",
       "      <th>SaleType</th>\n",
       "      <th>SaleCondition</th>\n",
       "      <th>SalePrice</th>\n",
       "    </tr>\n",
       "  </thead>\n",
       "  <tbody>\n",
       "  </tbody>\n",
       "</table>\n",
       "<p>0 rows × 74 columns</p>\n",
       "</div>"
      ],
      "text/plain": [
       "Empty DataFrame\n",
       "Columns: [Id, MSSubClass, MSZoning, LotArea, Street, LotShape, LandContour, Utilities, LotConfig, LandSlope, Neighborhood, Condition1, Condition2, BldgType, HouseStyle, OverallQual, OverallCond, YearBuilt, YearRemodAdd, RoofStyle, RoofMatl, Exterior1st, Exterior2nd, MasVnrType, MasVnrArea, ExterQual, ExterCond, Foundation, BsmtQual, BsmtCond, BsmtExposure, BsmtFinType1, BsmtFinSF1, BsmtFinType2, BsmtFinSF2, BsmtUnfSF, TotalBsmtSF, Heating, HeatingQC, CentralAir, Electrical, 1stFlrSF, 2ndFlrSF, LowQualFinSF, GrLivArea, BsmtFullBath, BsmtHalfBath, FullBath, HalfBath, BedroomAbvGr, KitchenAbvGr, KitchenQual, TotRmsAbvGrd, Functional, Fireplaces, GarageType, GarageYrBlt, GarageFinish, GarageCars, GarageArea, GarageQual, GarageCond, PavedDrive, WoodDeckSF, OpenPorchSF, EnclosedPorch, 3SsnPorch, ScreenPorch, PoolArea, MoSold, YrSold, SaleType, SaleCondition, SalePrice]\n",
       "Index: []\n",
       "\n",
       "[0 rows x 74 columns]"
      ]
     },
     "execution_count": 18,
     "metadata": {},
     "output_type": "execute_result"
    }
   ],
   "source": [
    "# Atibuindo a média às celulas com valores nulos na coluna GarageYrBlt\n",
    "\n",
    "train_data[\"GarageYrBlt\"].fillna(train_data[\"GarageYrBlt\"].median(), inplace=True)\n",
    "train_data[train_data[\"GarageYrBlt\"].isnull()]"
   ]
  },
  {
   "cell_type": "markdown",
   "id": "49d0e444",
   "metadata": {},
   "source": [
    "#### Tratamento de valores categoricos nulos"
   ]
  },
  {
   "cell_type": "markdown",
   "id": "559f5c69",
   "metadata": {},
   "source": [
    "###### O traramento de variáveis categóricas nulas será realizado utilizando o algorítimo simple imputer da biblioteca do Sklearn. Um dos parâmetros do SimpleImputer e a strategy, no qual é definido se você quer usar a média, a mediana, a moda ou constant, para preechencer os dados faltantes, sendo a constant a opção a ser utilizada. Essa estratégia consiste em preencher a célula com o dado faltante, com o valor da célula acíma."
   ]
  },
  {
   "cell_type": "code",
   "execution_count": 19,
   "id": "fe0129ca",
   "metadata": {},
   "outputs": [],
   "source": [
    "from sklearn.impute import SimpleImputer # Importação da biblioteca usada para imputação "
   ]
  },
  {
   "cell_type": "code",
   "execution_count": 20,
   "id": "6b58c224",
   "metadata": {},
   "outputs": [],
   "source": [
    "imp_constat = SimpleImputer(missing_values=np.nan, strategy='constant')"
   ]
  },
  {
   "cell_type": "markdown",
   "id": "6e810043",
   "metadata": {},
   "source": [
    "##### Quantidade de valores nulos por coluna categórica"
   ]
  },
  {
   "cell_type": "code",
   "execution_count": 21,
   "id": "c9985adb",
   "metadata": {
    "scrolled": true
   },
   "outputs": [
    {
     "data": {
      "text/plain": [
       "MSZoning          0\n",
       "Street            0\n",
       "LotShape          0\n",
       "LandContour       0\n",
       "Utilities         0\n",
       "LotConfig         0\n",
       "LandSlope         0\n",
       "Neighborhood      0\n",
       "Condition1        0\n",
       "Condition2        0\n",
       "BldgType          0\n",
       "HouseStyle        0\n",
       "RoofStyle         0\n",
       "RoofMatl          0\n",
       "Exterior1st       0\n",
       "Exterior2nd       0\n",
       "MasVnrType        8\n",
       "ExterQual         0\n",
       "ExterCond         0\n",
       "Foundation        0\n",
       "BsmtQual         37\n",
       "BsmtCond         37\n",
       "BsmtExposure     38\n",
       "BsmtFinType1     37\n",
       "BsmtFinType2     38\n",
       "Heating           0\n",
       "HeatingQC         0\n",
       "CentralAir        0\n",
       "Electrical        1\n",
       "KitchenQual       0\n",
       "Functional        0\n",
       "GarageType       81\n",
       "GarageFinish     81\n",
       "GarageQual       81\n",
       "GarageCond       81\n",
       "PavedDrive        0\n",
       "SaleType          0\n",
       "SaleCondition     0\n",
       "dtype: int64"
      ]
     },
     "execution_count": 21,
     "metadata": {},
     "output_type": "execute_result"
    }
   ],
   "source": [
    "nulos2 = train_categoricos.isnull().sum()\n",
    "nulos2.head(50)"
   ]
  },
  {
   "cell_type": "code",
   "execution_count": 22,
   "id": "071d7cb8",
   "metadata": {},
   "outputs": [
    {
     "data": {
      "text/plain": [
       "['MasVnrType',\n",
       " 'BsmtQual',\n",
       " 'BsmtCond',\n",
       " 'BsmtExposure',\n",
       " 'BsmtFinType1',\n",
       " 'BsmtFinType2',\n",
       " 'Electrical',\n",
       " 'GarageType',\n",
       " 'GarageFinish',\n",
       " 'GarageQual',\n",
       " 'GarageCond']"
      ]
     },
     "execution_count": 22,
     "metadata": {},
     "output_type": "execute_result"
    }
   ],
   "source": [
    "nulos2 = train_categoricos.isnull().sum()\n",
    "colunas_com_valores_nulos = []\n",
    "for c in nulos2.items():\n",
    "    if c[1] > 0:\n",
    "        colunas_com_valores_nulos.append(c[0])\n",
    "colunas_com_valores_nulos"
   ]
  },
  {
   "cell_type": "code",
   "execution_count": 23,
   "id": "53f7d681",
   "metadata": {},
   "outputs": [],
   "source": [
    "imputer = imp_constat.fit(train_data[colunas_com_valores_nulos])\n",
    "train_data[colunas_com_valores_nulos] = imputer.transform(train_data[colunas_com_valores_nulos])"
   ]
  },
  {
   "cell_type": "code",
   "execution_count": 24,
   "id": "c2fead64",
   "metadata": {
    "scrolled": true
   },
   "outputs": [
    {
     "data": {
      "text/html": [
       "<div>\n",
       "<style scoped>\n",
       "    .dataframe tbody tr th:only-of-type {\n",
       "        vertical-align: middle;\n",
       "    }\n",
       "\n",
       "    .dataframe tbody tr th {\n",
       "        vertical-align: top;\n",
       "    }\n",
       "\n",
       "    .dataframe thead th {\n",
       "        text-align: right;\n",
       "    }\n",
       "</style>\n",
       "<table border=\"1\" class=\"dataframe\">\n",
       "  <thead>\n",
       "    <tr style=\"text-align: right;\">\n",
       "      <th></th>\n",
       "      <th>MSZoning</th>\n",
       "      <th>Street</th>\n",
       "      <th>LotShape</th>\n",
       "      <th>LandContour</th>\n",
       "      <th>Utilities</th>\n",
       "      <th>LotConfig</th>\n",
       "      <th>LandSlope</th>\n",
       "      <th>Neighborhood</th>\n",
       "      <th>Condition1</th>\n",
       "      <th>Condition2</th>\n",
       "      <th>...</th>\n",
       "      <th>Electrical</th>\n",
       "      <th>KitchenQual</th>\n",
       "      <th>Functional</th>\n",
       "      <th>GarageType</th>\n",
       "      <th>GarageFinish</th>\n",
       "      <th>GarageQual</th>\n",
       "      <th>GarageCond</th>\n",
       "      <th>PavedDrive</th>\n",
       "      <th>SaleType</th>\n",
       "      <th>SaleCondition</th>\n",
       "    </tr>\n",
       "  </thead>\n",
       "  <tbody>\n",
       "    <tr>\n",
       "      <th>0</th>\n",
       "      <td>RL</td>\n",
       "      <td>Pave</td>\n",
       "      <td>Reg</td>\n",
       "      <td>Lvl</td>\n",
       "      <td>AllPub</td>\n",
       "      <td>Inside</td>\n",
       "      <td>Gtl</td>\n",
       "      <td>CollgCr</td>\n",
       "      <td>Norm</td>\n",
       "      <td>Norm</td>\n",
       "      <td>...</td>\n",
       "      <td>SBrkr</td>\n",
       "      <td>Gd</td>\n",
       "      <td>Typ</td>\n",
       "      <td>Attchd</td>\n",
       "      <td>RFn</td>\n",
       "      <td>TA</td>\n",
       "      <td>TA</td>\n",
       "      <td>Y</td>\n",
       "      <td>WD</td>\n",
       "      <td>Normal</td>\n",
       "    </tr>\n",
       "    <tr>\n",
       "      <th>1</th>\n",
       "      <td>RL</td>\n",
       "      <td>Pave</td>\n",
       "      <td>Reg</td>\n",
       "      <td>Lvl</td>\n",
       "      <td>AllPub</td>\n",
       "      <td>FR2</td>\n",
       "      <td>Gtl</td>\n",
       "      <td>Veenker</td>\n",
       "      <td>Feedr</td>\n",
       "      <td>Norm</td>\n",
       "      <td>...</td>\n",
       "      <td>SBrkr</td>\n",
       "      <td>TA</td>\n",
       "      <td>Typ</td>\n",
       "      <td>Attchd</td>\n",
       "      <td>RFn</td>\n",
       "      <td>TA</td>\n",
       "      <td>TA</td>\n",
       "      <td>Y</td>\n",
       "      <td>WD</td>\n",
       "      <td>Normal</td>\n",
       "    </tr>\n",
       "    <tr>\n",
       "      <th>2</th>\n",
       "      <td>RL</td>\n",
       "      <td>Pave</td>\n",
       "      <td>IR1</td>\n",
       "      <td>Lvl</td>\n",
       "      <td>AllPub</td>\n",
       "      <td>Inside</td>\n",
       "      <td>Gtl</td>\n",
       "      <td>CollgCr</td>\n",
       "      <td>Norm</td>\n",
       "      <td>Norm</td>\n",
       "      <td>...</td>\n",
       "      <td>SBrkr</td>\n",
       "      <td>Gd</td>\n",
       "      <td>Typ</td>\n",
       "      <td>Attchd</td>\n",
       "      <td>RFn</td>\n",
       "      <td>TA</td>\n",
       "      <td>TA</td>\n",
       "      <td>Y</td>\n",
       "      <td>WD</td>\n",
       "      <td>Normal</td>\n",
       "    </tr>\n",
       "    <tr>\n",
       "      <th>3</th>\n",
       "      <td>RL</td>\n",
       "      <td>Pave</td>\n",
       "      <td>IR1</td>\n",
       "      <td>Lvl</td>\n",
       "      <td>AllPub</td>\n",
       "      <td>Corner</td>\n",
       "      <td>Gtl</td>\n",
       "      <td>Crawfor</td>\n",
       "      <td>Norm</td>\n",
       "      <td>Norm</td>\n",
       "      <td>...</td>\n",
       "      <td>SBrkr</td>\n",
       "      <td>Gd</td>\n",
       "      <td>Typ</td>\n",
       "      <td>Detchd</td>\n",
       "      <td>Unf</td>\n",
       "      <td>TA</td>\n",
       "      <td>TA</td>\n",
       "      <td>Y</td>\n",
       "      <td>WD</td>\n",
       "      <td>Abnorml</td>\n",
       "    </tr>\n",
       "    <tr>\n",
       "      <th>4</th>\n",
       "      <td>RL</td>\n",
       "      <td>Pave</td>\n",
       "      <td>IR1</td>\n",
       "      <td>Lvl</td>\n",
       "      <td>AllPub</td>\n",
       "      <td>FR2</td>\n",
       "      <td>Gtl</td>\n",
       "      <td>NoRidge</td>\n",
       "      <td>Norm</td>\n",
       "      <td>Norm</td>\n",
       "      <td>...</td>\n",
       "      <td>SBrkr</td>\n",
       "      <td>Gd</td>\n",
       "      <td>Typ</td>\n",
       "      <td>Attchd</td>\n",
       "      <td>RFn</td>\n",
       "      <td>TA</td>\n",
       "      <td>TA</td>\n",
       "      <td>Y</td>\n",
       "      <td>WD</td>\n",
       "      <td>Normal</td>\n",
       "    </tr>\n",
       "  </tbody>\n",
       "</table>\n",
       "<p>5 rows × 38 columns</p>\n",
       "</div>"
      ],
      "text/plain": [
       "  MSZoning Street LotShape LandContour Utilities LotConfig LandSlope  \\\n",
       "0       RL   Pave      Reg         Lvl    AllPub    Inside       Gtl   \n",
       "1       RL   Pave      Reg         Lvl    AllPub       FR2       Gtl   \n",
       "2       RL   Pave      IR1         Lvl    AllPub    Inside       Gtl   \n",
       "3       RL   Pave      IR1         Lvl    AllPub    Corner       Gtl   \n",
       "4       RL   Pave      IR1         Lvl    AllPub       FR2       Gtl   \n",
       "\n",
       "  Neighborhood Condition1 Condition2  ... Electrical KitchenQual Functional  \\\n",
       "0      CollgCr       Norm       Norm  ...      SBrkr          Gd        Typ   \n",
       "1      Veenker      Feedr       Norm  ...      SBrkr          TA        Typ   \n",
       "2      CollgCr       Norm       Norm  ...      SBrkr          Gd        Typ   \n",
       "3      Crawfor       Norm       Norm  ...      SBrkr          Gd        Typ   \n",
       "4      NoRidge       Norm       Norm  ...      SBrkr          Gd        Typ   \n",
       "\n",
       "  GarageType GarageFinish GarageQual GarageCond PavedDrive SaleType  \\\n",
       "0     Attchd          RFn         TA         TA          Y       WD   \n",
       "1     Attchd          RFn         TA         TA          Y       WD   \n",
       "2     Attchd          RFn         TA         TA          Y       WD   \n",
       "3     Detchd          Unf         TA         TA          Y       WD   \n",
       "4     Attchd          RFn         TA         TA          Y       WD   \n",
       "\n",
       "  SaleCondition  \n",
       "0        Normal  \n",
       "1        Normal  \n",
       "2        Normal  \n",
       "3       Abnorml  \n",
       "4        Normal  \n",
       "\n",
       "[5 rows x 38 columns]"
      ]
     },
     "execution_count": 24,
     "metadata": {},
     "output_type": "execute_result"
    }
   ],
   "source": [
    "train_categoricos.head()"
   ]
  },
  {
   "cell_type": "code",
   "execution_count": 25,
   "id": "bdc7d598",
   "metadata": {
    "scrolled": true
   },
   "outputs": [
    {
     "name": "stdout",
     "output_type": "stream",
     "text": [
      "<class 'pandas.core.frame.DataFrame'>\n",
      "RangeIndex: 1460 entries, 0 to 1459\n",
      "Data columns (total 74 columns):\n",
      " #   Column         Non-Null Count  Dtype  \n",
      "---  ------         --------------  -----  \n",
      " 0   Id             1460 non-null   int64  \n",
      " 1   MSSubClass     1460 non-null   int64  \n",
      " 2   MSZoning       1460 non-null   object \n",
      " 3   LotArea        1460 non-null   int64  \n",
      " 4   Street         1460 non-null   object \n",
      " 5   LotShape       1460 non-null   object \n",
      " 6   LandContour    1460 non-null   object \n",
      " 7   Utilities      1460 non-null   object \n",
      " 8   LotConfig      1460 non-null   object \n",
      " 9   LandSlope      1460 non-null   object \n",
      " 10  Neighborhood   1460 non-null   object \n",
      " 11  Condition1     1460 non-null   object \n",
      " 12  Condition2     1460 non-null   object \n",
      " 13  BldgType       1460 non-null   object \n",
      " 14  HouseStyle     1460 non-null   object \n",
      " 15  OverallQual    1460 non-null   int64  \n",
      " 16  OverallCond    1460 non-null   int64  \n",
      " 17  YearBuilt      1460 non-null   int64  \n",
      " 18  YearRemodAdd   1460 non-null   int64  \n",
      " 19  RoofStyle      1460 non-null   object \n",
      " 20  RoofMatl       1460 non-null   object \n",
      " 21  Exterior1st    1460 non-null   object \n",
      " 22  Exterior2nd    1460 non-null   object \n",
      " 23  MasVnrType     1460 non-null   object \n",
      " 24  MasVnrArea     1460 non-null   float64\n",
      " 25  ExterQual      1460 non-null   object \n",
      " 26  ExterCond      1460 non-null   object \n",
      " 27  Foundation     1460 non-null   object \n",
      " 28  BsmtQual       1460 non-null   object \n",
      " 29  BsmtCond       1460 non-null   object \n",
      " 30  BsmtExposure   1460 non-null   object \n",
      " 31  BsmtFinType1   1460 non-null   object \n",
      " 32  BsmtFinSF1     1460 non-null   int64  \n",
      " 33  BsmtFinType2   1460 non-null   object \n",
      " 34  BsmtFinSF2     1460 non-null   int64  \n",
      " 35  BsmtUnfSF      1460 non-null   int64  \n",
      " 36  TotalBsmtSF    1460 non-null   int64  \n",
      " 37  Heating        1460 non-null   object \n",
      " 38  HeatingQC      1460 non-null   object \n",
      " 39  CentralAir     1460 non-null   object \n",
      " 40  Electrical     1460 non-null   object \n",
      " 41  1stFlrSF       1460 non-null   int64  \n",
      " 42  2ndFlrSF       1460 non-null   int64  \n",
      " 43  LowQualFinSF   1460 non-null   int64  \n",
      " 44  GrLivArea      1460 non-null   int64  \n",
      " 45  BsmtFullBath   1460 non-null   int64  \n",
      " 46  BsmtHalfBath   1460 non-null   int64  \n",
      " 47  FullBath       1460 non-null   int64  \n",
      " 48  HalfBath       1460 non-null   int64  \n",
      " 49  BedroomAbvGr   1460 non-null   int64  \n",
      " 50  KitchenAbvGr   1460 non-null   int64  \n",
      " 51  KitchenQual    1460 non-null   object \n",
      " 52  TotRmsAbvGrd   1460 non-null   int64  \n",
      " 53  Functional     1460 non-null   object \n",
      " 54  Fireplaces     1460 non-null   int64  \n",
      " 55  GarageType     1460 non-null   object \n",
      " 56  GarageYrBlt    1460 non-null   float64\n",
      " 57  GarageFinish   1460 non-null   object \n",
      " 58  GarageCars     1460 non-null   int64  \n",
      " 59  GarageArea     1460 non-null   int64  \n",
      " 60  GarageQual     1460 non-null   object \n",
      " 61  GarageCond     1460 non-null   object \n",
      " 62  PavedDrive     1460 non-null   object \n",
      " 63  WoodDeckSF     1460 non-null   int64  \n",
      " 64  OpenPorchSF    1460 non-null   int64  \n",
      " 65  EnclosedPorch  1460 non-null   int64  \n",
      " 66  3SsnPorch      1460 non-null   int64  \n",
      " 67  ScreenPorch    1460 non-null   int64  \n",
      " 68  PoolArea       1460 non-null   int64  \n",
      " 69  MoSold         1460 non-null   int64  \n",
      " 70  YrSold         1460 non-null   int64  \n",
      " 71  SaleType       1460 non-null   object \n",
      " 72  SaleCondition  1460 non-null   object \n",
      " 73  SalePrice      1460 non-null   int64  \n",
      "dtypes: float64(2), int64(34), object(38)\n",
      "memory usage: 844.2+ KB\n"
     ]
    }
   ],
   "source": [
    "train_data.info()"
   ]
  },
  {
   "cell_type": "markdown",
   "id": "e35af53d",
   "metadata": {},
   "source": [
    "### 3.2 - Pré-processamento dos dados"
   ]
  },
  {
   "cell_type": "code",
   "execution_count": 26,
   "id": "8f21ab1b",
   "metadata": {
    "execution": {
     "iopub.execute_input": "2023-06-21T16:49:44.370693Z",
     "iopub.status.busy": "2023-06-21T16:49:44.369852Z",
     "iopub.status.idle": "2023-06-21T16:49:44.391926Z",
     "shell.execute_reply": "2023-06-21T16:49:44.390726Z",
     "shell.execute_reply.started": "2023-06-21T16:49:44.370648Z"
    }
   },
   "outputs": [
    {
     "data": {
      "text/html": [
       "<div>\n",
       "<style scoped>\n",
       "    .dataframe tbody tr th:only-of-type {\n",
       "        vertical-align: middle;\n",
       "    }\n",
       "\n",
       "    .dataframe tbody tr th {\n",
       "        vertical-align: top;\n",
       "    }\n",
       "\n",
       "    .dataframe thead th {\n",
       "        text-align: right;\n",
       "    }\n",
       "</style>\n",
       "<table border=\"1\" class=\"dataframe\">\n",
       "  <thead>\n",
       "    <tr style=\"text-align: right;\">\n",
       "      <th></th>\n",
       "      <th>Id</th>\n",
       "      <th>MSSubClass</th>\n",
       "      <th>MSZoning</th>\n",
       "      <th>LotArea</th>\n",
       "      <th>Street</th>\n",
       "      <th>LotShape</th>\n",
       "      <th>LandContour</th>\n",
       "      <th>Utilities</th>\n",
       "      <th>LotConfig</th>\n",
       "      <th>LandSlope</th>\n",
       "      <th>...</th>\n",
       "      <th>OpenPorchSF</th>\n",
       "      <th>EnclosedPorch</th>\n",
       "      <th>3SsnPorch</th>\n",
       "      <th>ScreenPorch</th>\n",
       "      <th>PoolArea</th>\n",
       "      <th>MoSold</th>\n",
       "      <th>YrSold</th>\n",
       "      <th>SaleType</th>\n",
       "      <th>SaleCondition</th>\n",
       "      <th>SalePrice</th>\n",
       "    </tr>\n",
       "  </thead>\n",
       "  <tbody>\n",
       "    <tr>\n",
       "      <th>0</th>\n",
       "      <td>1</td>\n",
       "      <td>60</td>\n",
       "      <td>RL</td>\n",
       "      <td>8450</td>\n",
       "      <td>Pave</td>\n",
       "      <td>Reg</td>\n",
       "      <td>Lvl</td>\n",
       "      <td>AllPub</td>\n",
       "      <td>Inside</td>\n",
       "      <td>Gtl</td>\n",
       "      <td>...</td>\n",
       "      <td>61</td>\n",
       "      <td>0</td>\n",
       "      <td>0</td>\n",
       "      <td>0</td>\n",
       "      <td>0</td>\n",
       "      <td>2</td>\n",
       "      <td>2008</td>\n",
       "      <td>WD</td>\n",
       "      <td>Normal</td>\n",
       "      <td>208500</td>\n",
       "    </tr>\n",
       "    <tr>\n",
       "      <th>1</th>\n",
       "      <td>2</td>\n",
       "      <td>20</td>\n",
       "      <td>RL</td>\n",
       "      <td>9600</td>\n",
       "      <td>Pave</td>\n",
       "      <td>Reg</td>\n",
       "      <td>Lvl</td>\n",
       "      <td>AllPub</td>\n",
       "      <td>FR2</td>\n",
       "      <td>Gtl</td>\n",
       "      <td>...</td>\n",
       "      <td>0</td>\n",
       "      <td>0</td>\n",
       "      <td>0</td>\n",
       "      <td>0</td>\n",
       "      <td>0</td>\n",
       "      <td>5</td>\n",
       "      <td>2007</td>\n",
       "      <td>WD</td>\n",
       "      <td>Normal</td>\n",
       "      <td>181500</td>\n",
       "    </tr>\n",
       "    <tr>\n",
       "      <th>2</th>\n",
       "      <td>3</td>\n",
       "      <td>60</td>\n",
       "      <td>RL</td>\n",
       "      <td>11250</td>\n",
       "      <td>Pave</td>\n",
       "      <td>IR1</td>\n",
       "      <td>Lvl</td>\n",
       "      <td>AllPub</td>\n",
       "      <td>Inside</td>\n",
       "      <td>Gtl</td>\n",
       "      <td>...</td>\n",
       "      <td>42</td>\n",
       "      <td>0</td>\n",
       "      <td>0</td>\n",
       "      <td>0</td>\n",
       "      <td>0</td>\n",
       "      <td>9</td>\n",
       "      <td>2008</td>\n",
       "      <td>WD</td>\n",
       "      <td>Normal</td>\n",
       "      <td>223500</td>\n",
       "    </tr>\n",
       "    <tr>\n",
       "      <th>3</th>\n",
       "      <td>4</td>\n",
       "      <td>70</td>\n",
       "      <td>RL</td>\n",
       "      <td>9550</td>\n",
       "      <td>Pave</td>\n",
       "      <td>IR1</td>\n",
       "      <td>Lvl</td>\n",
       "      <td>AllPub</td>\n",
       "      <td>Corner</td>\n",
       "      <td>Gtl</td>\n",
       "      <td>...</td>\n",
       "      <td>35</td>\n",
       "      <td>272</td>\n",
       "      <td>0</td>\n",
       "      <td>0</td>\n",
       "      <td>0</td>\n",
       "      <td>2</td>\n",
       "      <td>2006</td>\n",
       "      <td>WD</td>\n",
       "      <td>Abnorml</td>\n",
       "      <td>140000</td>\n",
       "    </tr>\n",
       "    <tr>\n",
       "      <th>4</th>\n",
       "      <td>5</td>\n",
       "      <td>60</td>\n",
       "      <td>RL</td>\n",
       "      <td>14260</td>\n",
       "      <td>Pave</td>\n",
       "      <td>IR1</td>\n",
       "      <td>Lvl</td>\n",
       "      <td>AllPub</td>\n",
       "      <td>FR2</td>\n",
       "      <td>Gtl</td>\n",
       "      <td>...</td>\n",
       "      <td>84</td>\n",
       "      <td>0</td>\n",
       "      <td>0</td>\n",
       "      <td>0</td>\n",
       "      <td>0</td>\n",
       "      <td>12</td>\n",
       "      <td>2008</td>\n",
       "      <td>WD</td>\n",
       "      <td>Normal</td>\n",
       "      <td>250000</td>\n",
       "    </tr>\n",
       "  </tbody>\n",
       "</table>\n",
       "<p>5 rows × 74 columns</p>\n",
       "</div>"
      ],
      "text/plain": [
       "   Id  MSSubClass MSZoning  LotArea Street LotShape LandContour Utilities  \\\n",
       "0   1          60       RL     8450   Pave      Reg         Lvl    AllPub   \n",
       "1   2          20       RL     9600   Pave      Reg         Lvl    AllPub   \n",
       "2   3          60       RL    11250   Pave      IR1         Lvl    AllPub   \n",
       "3   4          70       RL     9550   Pave      IR1         Lvl    AllPub   \n",
       "4   5          60       RL    14260   Pave      IR1         Lvl    AllPub   \n",
       "\n",
       "  LotConfig LandSlope  ... OpenPorchSF EnclosedPorch 3SsnPorch ScreenPorch  \\\n",
       "0    Inside       Gtl  ...          61             0         0           0   \n",
       "1       FR2       Gtl  ...           0             0         0           0   \n",
       "2    Inside       Gtl  ...          42             0         0           0   \n",
       "3    Corner       Gtl  ...          35           272         0           0   \n",
       "4       FR2       Gtl  ...          84             0         0           0   \n",
       "\n",
       "  PoolArea  MoSold  YrSold  SaleType  SaleCondition SalePrice  \n",
       "0        0       2    2008        WD         Normal    208500  \n",
       "1        0       5    2007        WD         Normal    181500  \n",
       "2        0       9    2008        WD         Normal    223500  \n",
       "3        0       2    2006        WD        Abnorml    140000  \n",
       "4        0      12    2008        WD         Normal    250000  \n",
       "\n",
       "[5 rows x 74 columns]"
      ]
     },
     "execution_count": 26,
     "metadata": {},
     "output_type": "execute_result"
    }
   ],
   "source": [
    "train_data.head()"
   ]
  },
  {
   "cell_type": "code",
   "execution_count": 27,
   "id": "1d9a5015",
   "metadata": {
    "execution": {
     "iopub.execute_input": "2023-06-21T16:49:44.692611Z",
     "iopub.status.busy": "2023-06-21T16:49:44.691687Z",
     "iopub.status.idle": "2023-06-21T16:49:44.702902Z",
     "shell.execute_reply": "2023-06-21T16:49:44.701611Z",
     "shell.execute_reply.started": "2023-06-21T16:49:44.692573Z"
    }
   },
   "outputs": [],
   "source": [
    "X_train_data = train_data.iloc[:, 1:73].values"
   ]
  },
  {
   "cell_type": "code",
   "execution_count": 28,
   "id": "fa8dec1b",
   "metadata": {
    "execution": {
     "iopub.execute_input": "2023-06-21T16:49:45.735396Z",
     "iopub.status.busy": "2023-06-21T16:49:45.734683Z",
     "iopub.status.idle": "2023-06-21T16:49:45.742458Z",
     "shell.execute_reply": "2023-06-21T16:49:45.741182Z",
     "shell.execute_reply.started": "2023-06-21T16:49:45.735357Z"
    }
   },
   "outputs": [
    {
     "data": {
      "text/plain": [
       "array([[60, 'RL', 8450, ..., 2008, 'WD', 'Normal'],\n",
       "       [20, 'RL', 9600, ..., 2007, 'WD', 'Normal'],\n",
       "       [60, 'RL', 11250, ..., 2008, 'WD', 'Normal'],\n",
       "       ...,\n",
       "       [70, 'RL', 9042, ..., 2010, 'WD', 'Normal'],\n",
       "       [20, 'RL', 9717, ..., 2010, 'WD', 'Normal'],\n",
       "       [20, 'RL', 9937, ..., 2008, 'WD', 'Normal']], dtype=object)"
      ]
     },
     "execution_count": 28,
     "metadata": {},
     "output_type": "execute_result"
    }
   ],
   "source": [
    "X_train_data"
   ]
  },
  {
   "cell_type": "code",
   "execution_count": 29,
   "id": "9fae7b86",
   "metadata": {
    "execution": {
     "iopub.execute_input": "2023-06-21T16:49:46.328378Z",
     "iopub.status.busy": "2023-06-21T16:49:46.327973Z",
     "iopub.status.idle": "2023-06-21T16:49:46.333216Z",
     "shell.execute_reply": "2023-06-21T16:49:46.331919Z",
     "shell.execute_reply.started": "2023-06-21T16:49:46.328346Z"
    }
   },
   "outputs": [],
   "source": [
    "y_train_data = train_data.iloc[:, -1].values"
   ]
  },
  {
   "cell_type": "code",
   "execution_count": 30,
   "id": "7558ba29",
   "metadata": {
    "execution": {
     "iopub.execute_input": "2023-06-21T16:49:48.219617Z",
     "iopub.status.busy": "2023-06-21T16:49:48.219242Z",
     "iopub.status.idle": "2023-06-21T16:49:48.225734Z",
     "shell.execute_reply": "2023-06-21T16:49:48.224450Z",
     "shell.execute_reply.started": "2023-06-21T16:49:48.219588Z"
    }
   },
   "outputs": [
    {
     "data": {
      "text/plain": [
       "array([208500, 181500, 223500, ..., 266500, 142125, 147500], dtype=int64)"
      ]
     },
     "execution_count": 30,
     "metadata": {},
     "output_type": "execute_result"
    }
   ],
   "source": [
    "y_train_data"
   ]
  },
  {
   "cell_type": "markdown",
   "id": "a9b258c8",
   "metadata": {},
   "source": [
    "### 3.3 - Tratamento de atributos categóricos"
   ]
  },
  {
   "cell_type": "markdown",
   "id": "99ee4556",
   "metadata": {},
   "source": [
    "#### LabelEncoder"
   ]
  },
  {
   "cell_type": "code",
   "execution_count": 31,
   "id": "ba819239",
   "metadata": {
    "execution": {
     "iopub.execute_input": "2023-06-21T16:49:52.761857Z",
     "iopub.status.busy": "2023-06-21T16:49:52.761431Z",
     "iopub.status.idle": "2023-06-21T16:49:52.813234Z",
     "shell.execute_reply": "2023-06-21T16:49:52.812099Z",
     "shell.execute_reply.started": "2023-06-21T16:49:52.761821Z"
    }
   },
   "outputs": [],
   "source": [
    "from sklearn.preprocessing import LabelEncoder"
   ]
  },
  {
   "cell_type": "code",
   "execution_count": 32,
   "id": "08472bc6",
   "metadata": {
    "execution": {
     "iopub.execute_input": "2023-06-21T16:49:53.377925Z",
     "iopub.status.busy": "2023-06-21T16:49:53.377535Z",
     "iopub.status.idle": "2023-06-21T16:49:53.385637Z",
     "shell.execute_reply": "2023-06-21T16:49:53.384443Z",
     "shell.execute_reply.started": "2023-06-21T16:49:53.377893Z"
    }
   },
   "outputs": [
    {
     "data": {
      "text/plain": [
       "array([60, 'RL', 8450, 'Pave', 'Reg', 'Lvl', 'AllPub', 'Inside', 'Gtl',\n",
       "       'CollgCr', 'Norm', 'Norm', '1Fam', '2Story', 7, 5, 2003, 2003,\n",
       "       'Gable', 'CompShg', 'VinylSd', 'VinylSd', 'BrkFace', 196.0, 'Gd',\n",
       "       'TA', 'PConc', 'Gd', 'TA', 'No', 'GLQ', 706, 'Unf', 0, 150, 856,\n",
       "       'GasA', 'Ex', 'Y', 'SBrkr', 856, 854, 0, 1710, 1, 0, 2, 1, 3, 1,\n",
       "       'Gd', 8, 'Typ', 0, 'Attchd', 2003.0, 'RFn', 2, 548, 'TA', 'TA',\n",
       "       'Y', 0, 61, 0, 0, 0, 0, 2, 2008, 'WD', 'Normal'], dtype=object)"
      ]
     },
     "execution_count": 32,
     "metadata": {},
     "output_type": "execute_result"
    }
   ],
   "source": [
    "X_train_data[0]"
   ]
  },
  {
   "cell_type": "code",
   "execution_count": 33,
   "id": "18e2418a",
   "metadata": {
    "execution": {
     "iopub.execute_input": "2023-06-21T16:49:59.498493Z",
     "iopub.status.busy": "2023-06-21T16:49:59.498079Z",
     "iopub.status.idle": "2023-06-21T16:49:59.527842Z",
     "shell.execute_reply": "2023-06-21T16:49:59.527098Z",
     "shell.execute_reply.started": "2023-06-21T16:49:59.498458Z"
    },
    "scrolled": true
   },
   "outputs": [
    {
     "data": {
      "text/html": [
       "<div>\n",
       "<style scoped>\n",
       "    .dataframe tbody tr th:only-of-type {\n",
       "        vertical-align: middle;\n",
       "    }\n",
       "\n",
       "    .dataframe tbody tr th {\n",
       "        vertical-align: top;\n",
       "    }\n",
       "\n",
       "    .dataframe thead th {\n",
       "        text-align: right;\n",
       "    }\n",
       "</style>\n",
       "<table border=\"1\" class=\"dataframe\">\n",
       "  <thead>\n",
       "    <tr style=\"text-align: right;\">\n",
       "      <th></th>\n",
       "      <th>MSSubClass</th>\n",
       "      <th>MSZoning</th>\n",
       "      <th>LotArea</th>\n",
       "      <th>Street</th>\n",
       "      <th>LotShape</th>\n",
       "      <th>LandContour</th>\n",
       "      <th>Utilities</th>\n",
       "      <th>LotConfig</th>\n",
       "      <th>LandSlope</th>\n",
       "      <th>Neighborhood</th>\n",
       "      <th>...</th>\n",
       "      <th>WoodDeckSF</th>\n",
       "      <th>OpenPorchSF</th>\n",
       "      <th>EnclosedPorch</th>\n",
       "      <th>3SsnPorch</th>\n",
       "      <th>ScreenPorch</th>\n",
       "      <th>PoolArea</th>\n",
       "      <th>MoSold</th>\n",
       "      <th>YrSold</th>\n",
       "      <th>SaleType</th>\n",
       "      <th>SaleCondition</th>\n",
       "    </tr>\n",
       "  </thead>\n",
       "  <tbody>\n",
       "    <tr>\n",
       "      <th>0</th>\n",
       "      <td>60</td>\n",
       "      <td>RL</td>\n",
       "      <td>8450</td>\n",
       "      <td>Pave</td>\n",
       "      <td>Reg</td>\n",
       "      <td>Lvl</td>\n",
       "      <td>AllPub</td>\n",
       "      <td>Inside</td>\n",
       "      <td>Gtl</td>\n",
       "      <td>CollgCr</td>\n",
       "      <td>...</td>\n",
       "      <td>0</td>\n",
       "      <td>61</td>\n",
       "      <td>0</td>\n",
       "      <td>0</td>\n",
       "      <td>0</td>\n",
       "      <td>0</td>\n",
       "      <td>2</td>\n",
       "      <td>2008</td>\n",
       "      <td>WD</td>\n",
       "      <td>Normal</td>\n",
       "    </tr>\n",
       "    <tr>\n",
       "      <th>1</th>\n",
       "      <td>20</td>\n",
       "      <td>RL</td>\n",
       "      <td>9600</td>\n",
       "      <td>Pave</td>\n",
       "      <td>Reg</td>\n",
       "      <td>Lvl</td>\n",
       "      <td>AllPub</td>\n",
       "      <td>FR2</td>\n",
       "      <td>Gtl</td>\n",
       "      <td>Veenker</td>\n",
       "      <td>...</td>\n",
       "      <td>298</td>\n",
       "      <td>0</td>\n",
       "      <td>0</td>\n",
       "      <td>0</td>\n",
       "      <td>0</td>\n",
       "      <td>0</td>\n",
       "      <td>5</td>\n",
       "      <td>2007</td>\n",
       "      <td>WD</td>\n",
       "      <td>Normal</td>\n",
       "    </tr>\n",
       "    <tr>\n",
       "      <th>2</th>\n",
       "      <td>60</td>\n",
       "      <td>RL</td>\n",
       "      <td>11250</td>\n",
       "      <td>Pave</td>\n",
       "      <td>IR1</td>\n",
       "      <td>Lvl</td>\n",
       "      <td>AllPub</td>\n",
       "      <td>Inside</td>\n",
       "      <td>Gtl</td>\n",
       "      <td>CollgCr</td>\n",
       "      <td>...</td>\n",
       "      <td>0</td>\n",
       "      <td>42</td>\n",
       "      <td>0</td>\n",
       "      <td>0</td>\n",
       "      <td>0</td>\n",
       "      <td>0</td>\n",
       "      <td>9</td>\n",
       "      <td>2008</td>\n",
       "      <td>WD</td>\n",
       "      <td>Normal</td>\n",
       "    </tr>\n",
       "    <tr>\n",
       "      <th>3</th>\n",
       "      <td>70</td>\n",
       "      <td>RL</td>\n",
       "      <td>9550</td>\n",
       "      <td>Pave</td>\n",
       "      <td>IR1</td>\n",
       "      <td>Lvl</td>\n",
       "      <td>AllPub</td>\n",
       "      <td>Corner</td>\n",
       "      <td>Gtl</td>\n",
       "      <td>Crawfor</td>\n",
       "      <td>...</td>\n",
       "      <td>0</td>\n",
       "      <td>35</td>\n",
       "      <td>272</td>\n",
       "      <td>0</td>\n",
       "      <td>0</td>\n",
       "      <td>0</td>\n",
       "      <td>2</td>\n",
       "      <td>2006</td>\n",
       "      <td>WD</td>\n",
       "      <td>Abnorml</td>\n",
       "    </tr>\n",
       "    <tr>\n",
       "      <th>4</th>\n",
       "      <td>60</td>\n",
       "      <td>RL</td>\n",
       "      <td>14260</td>\n",
       "      <td>Pave</td>\n",
       "      <td>IR1</td>\n",
       "      <td>Lvl</td>\n",
       "      <td>AllPub</td>\n",
       "      <td>FR2</td>\n",
       "      <td>Gtl</td>\n",
       "      <td>NoRidge</td>\n",
       "      <td>...</td>\n",
       "      <td>192</td>\n",
       "      <td>84</td>\n",
       "      <td>0</td>\n",
       "      <td>0</td>\n",
       "      <td>0</td>\n",
       "      <td>0</td>\n",
       "      <td>12</td>\n",
       "      <td>2008</td>\n",
       "      <td>WD</td>\n",
       "      <td>Normal</td>\n",
       "    </tr>\n",
       "    <tr>\n",
       "      <th>...</th>\n",
       "      <td>...</td>\n",
       "      <td>...</td>\n",
       "      <td>...</td>\n",
       "      <td>...</td>\n",
       "      <td>...</td>\n",
       "      <td>...</td>\n",
       "      <td>...</td>\n",
       "      <td>...</td>\n",
       "      <td>...</td>\n",
       "      <td>...</td>\n",
       "      <td>...</td>\n",
       "      <td>...</td>\n",
       "      <td>...</td>\n",
       "      <td>...</td>\n",
       "      <td>...</td>\n",
       "      <td>...</td>\n",
       "      <td>...</td>\n",
       "      <td>...</td>\n",
       "      <td>...</td>\n",
       "      <td>...</td>\n",
       "      <td>...</td>\n",
       "    </tr>\n",
       "    <tr>\n",
       "      <th>1455</th>\n",
       "      <td>60</td>\n",
       "      <td>RL</td>\n",
       "      <td>7917</td>\n",
       "      <td>Pave</td>\n",
       "      <td>Reg</td>\n",
       "      <td>Lvl</td>\n",
       "      <td>AllPub</td>\n",
       "      <td>Inside</td>\n",
       "      <td>Gtl</td>\n",
       "      <td>Gilbert</td>\n",
       "      <td>...</td>\n",
       "      <td>0</td>\n",
       "      <td>40</td>\n",
       "      <td>0</td>\n",
       "      <td>0</td>\n",
       "      <td>0</td>\n",
       "      <td>0</td>\n",
       "      <td>8</td>\n",
       "      <td>2007</td>\n",
       "      <td>WD</td>\n",
       "      <td>Normal</td>\n",
       "    </tr>\n",
       "    <tr>\n",
       "      <th>1456</th>\n",
       "      <td>20</td>\n",
       "      <td>RL</td>\n",
       "      <td>13175</td>\n",
       "      <td>Pave</td>\n",
       "      <td>Reg</td>\n",
       "      <td>Lvl</td>\n",
       "      <td>AllPub</td>\n",
       "      <td>Inside</td>\n",
       "      <td>Gtl</td>\n",
       "      <td>NWAmes</td>\n",
       "      <td>...</td>\n",
       "      <td>349</td>\n",
       "      <td>0</td>\n",
       "      <td>0</td>\n",
       "      <td>0</td>\n",
       "      <td>0</td>\n",
       "      <td>0</td>\n",
       "      <td>2</td>\n",
       "      <td>2010</td>\n",
       "      <td>WD</td>\n",
       "      <td>Normal</td>\n",
       "    </tr>\n",
       "    <tr>\n",
       "      <th>1457</th>\n",
       "      <td>70</td>\n",
       "      <td>RL</td>\n",
       "      <td>9042</td>\n",
       "      <td>Pave</td>\n",
       "      <td>Reg</td>\n",
       "      <td>Lvl</td>\n",
       "      <td>AllPub</td>\n",
       "      <td>Inside</td>\n",
       "      <td>Gtl</td>\n",
       "      <td>Crawfor</td>\n",
       "      <td>...</td>\n",
       "      <td>0</td>\n",
       "      <td>60</td>\n",
       "      <td>0</td>\n",
       "      <td>0</td>\n",
       "      <td>0</td>\n",
       "      <td>0</td>\n",
       "      <td>5</td>\n",
       "      <td>2010</td>\n",
       "      <td>WD</td>\n",
       "      <td>Normal</td>\n",
       "    </tr>\n",
       "    <tr>\n",
       "      <th>1458</th>\n",
       "      <td>20</td>\n",
       "      <td>RL</td>\n",
       "      <td>9717</td>\n",
       "      <td>Pave</td>\n",
       "      <td>Reg</td>\n",
       "      <td>Lvl</td>\n",
       "      <td>AllPub</td>\n",
       "      <td>Inside</td>\n",
       "      <td>Gtl</td>\n",
       "      <td>NAmes</td>\n",
       "      <td>...</td>\n",
       "      <td>366</td>\n",
       "      <td>0</td>\n",
       "      <td>112</td>\n",
       "      <td>0</td>\n",
       "      <td>0</td>\n",
       "      <td>0</td>\n",
       "      <td>4</td>\n",
       "      <td>2010</td>\n",
       "      <td>WD</td>\n",
       "      <td>Normal</td>\n",
       "    </tr>\n",
       "    <tr>\n",
       "      <th>1459</th>\n",
       "      <td>20</td>\n",
       "      <td>RL</td>\n",
       "      <td>9937</td>\n",
       "      <td>Pave</td>\n",
       "      <td>Reg</td>\n",
       "      <td>Lvl</td>\n",
       "      <td>AllPub</td>\n",
       "      <td>Inside</td>\n",
       "      <td>Gtl</td>\n",
       "      <td>Edwards</td>\n",
       "      <td>...</td>\n",
       "      <td>736</td>\n",
       "      <td>68</td>\n",
       "      <td>0</td>\n",
       "      <td>0</td>\n",
       "      <td>0</td>\n",
       "      <td>0</td>\n",
       "      <td>6</td>\n",
       "      <td>2008</td>\n",
       "      <td>WD</td>\n",
       "      <td>Normal</td>\n",
       "    </tr>\n",
       "  </tbody>\n",
       "</table>\n",
       "<p>1460 rows × 72 columns</p>\n",
       "</div>"
      ],
      "text/plain": [
       "      MSSubClass MSZoning  LotArea Street LotShape LandContour Utilities  \\\n",
       "0             60       RL     8450   Pave      Reg         Lvl    AllPub   \n",
       "1             20       RL     9600   Pave      Reg         Lvl    AllPub   \n",
       "2             60       RL    11250   Pave      IR1         Lvl    AllPub   \n",
       "3             70       RL     9550   Pave      IR1         Lvl    AllPub   \n",
       "4             60       RL    14260   Pave      IR1         Lvl    AllPub   \n",
       "...          ...      ...      ...    ...      ...         ...       ...   \n",
       "1455          60       RL     7917   Pave      Reg         Lvl    AllPub   \n",
       "1456          20       RL    13175   Pave      Reg         Lvl    AllPub   \n",
       "1457          70       RL     9042   Pave      Reg         Lvl    AllPub   \n",
       "1458          20       RL     9717   Pave      Reg         Lvl    AllPub   \n",
       "1459          20       RL     9937   Pave      Reg         Lvl    AllPub   \n",
       "\n",
       "     LotConfig LandSlope Neighborhood  ... WoodDeckSF OpenPorchSF  \\\n",
       "0       Inside       Gtl      CollgCr  ...          0          61   \n",
       "1          FR2       Gtl      Veenker  ...        298           0   \n",
       "2       Inside       Gtl      CollgCr  ...          0          42   \n",
       "3       Corner       Gtl      Crawfor  ...          0          35   \n",
       "4          FR2       Gtl      NoRidge  ...        192          84   \n",
       "...        ...       ...          ...  ...        ...         ...   \n",
       "1455    Inside       Gtl      Gilbert  ...          0          40   \n",
       "1456    Inside       Gtl       NWAmes  ...        349           0   \n",
       "1457    Inside       Gtl      Crawfor  ...          0          60   \n",
       "1458    Inside       Gtl        NAmes  ...        366           0   \n",
       "1459    Inside       Gtl      Edwards  ...        736          68   \n",
       "\n",
       "     EnclosedPorch 3SsnPorch  ScreenPorch  PoolArea  MoSold  YrSold SaleType  \\\n",
       "0                0         0            0         0       2    2008       WD   \n",
       "1                0         0            0         0       5    2007       WD   \n",
       "2                0         0            0         0       9    2008       WD   \n",
       "3              272         0            0         0       2    2006       WD   \n",
       "4                0         0            0         0      12    2008       WD   \n",
       "...            ...       ...          ...       ...     ...     ...      ...   \n",
       "1455             0         0            0         0       8    2007       WD   \n",
       "1456             0         0            0         0       2    2010       WD   \n",
       "1457             0         0            0         0       5    2010       WD   \n",
       "1458           112         0            0         0       4    2010       WD   \n",
       "1459             0         0            0         0       6    2008       WD   \n",
       "\n",
       "     SaleCondition  \n",
       "0           Normal  \n",
       "1           Normal  \n",
       "2           Normal  \n",
       "3          Abnorml  \n",
       "4           Normal  \n",
       "...            ...  \n",
       "1455        Normal  \n",
       "1456        Normal  \n",
       "1457        Normal  \n",
       "1458        Normal  \n",
       "1459        Normal  \n",
       "\n",
       "[1460 rows x 72 columns]"
      ]
     },
     "execution_count": 33,
     "metadata": {},
     "output_type": "execute_result"
    }
   ],
   "source": [
    "train_data.columns\n",
    "train_data_X_train = train_data.drop(columns=['Id', 'SalePrice'], axis=1)\n",
    "train_data_X_train"
   ]
  },
  {
   "cell_type": "code",
   "execution_count": 34,
   "id": "b2204b43",
   "metadata": {
    "execution": {
     "iopub.execute_input": "2023-06-21T16:50:04.322056Z",
     "iopub.status.busy": "2023-06-21T16:50:04.321238Z",
     "iopub.status.idle": "2023-06-21T16:50:04.328969Z",
     "shell.execute_reply": "2023-06-21T16:50:04.328140Z",
     "shell.execute_reply.started": "2023-06-21T16:50:04.322006Z"
    },
    "scrolled": false
   },
   "outputs": [
    {
     "data": {
      "text/plain": [
       "['MSZoning',\n",
       " 'Street',\n",
       " 'LotShape',\n",
       " 'LandContour',\n",
       " 'Utilities',\n",
       " 'LotConfig',\n",
       " 'LandSlope',\n",
       " 'Neighborhood',\n",
       " 'Condition1',\n",
       " 'Condition2',\n",
       " 'BldgType',\n",
       " 'HouseStyle',\n",
       " 'RoofStyle',\n",
       " 'RoofMatl',\n",
       " 'Exterior1st',\n",
       " 'Exterior2nd',\n",
       " 'MasVnrType',\n",
       " 'ExterQual',\n",
       " 'ExterCond',\n",
       " 'Foundation',\n",
       " 'BsmtQual',\n",
       " 'BsmtCond',\n",
       " 'BsmtExposure',\n",
       " 'BsmtFinType1',\n",
       " 'BsmtFinType2',\n",
       " 'Heating',\n",
       " 'HeatingQC',\n",
       " 'CentralAir',\n",
       " 'Electrical',\n",
       " 'KitchenQual',\n",
       " 'Functional',\n",
       " 'GarageType',\n",
       " 'GarageFinish',\n",
       " 'GarageQual',\n",
       " 'GarageCond',\n",
       " 'PavedDrive',\n",
       " 'SaleType',\n",
       " 'SaleCondition']"
      ]
     },
     "execution_count": 34,
     "metadata": {},
     "output_type": "execute_result"
    }
   ],
   "source": [
    "lista = list(train_categoricos.columns)\n",
    "lista"
   ]
  },
  {
   "cell_type": "code",
   "execution_count": 35,
   "id": "c17f8ad0",
   "metadata": {
    "execution": {
     "iopub.execute_input": "2023-06-21T16:50:15.833995Z",
     "iopub.status.busy": "2023-06-21T16:50:15.833407Z",
     "iopub.status.idle": "2023-06-21T16:50:15.841106Z",
     "shell.execute_reply": "2023-06-21T16:50:15.839866Z",
     "shell.execute_reply.started": "2023-06-21T16:50:15.833954Z"
    },
    "scrolled": false
   },
   "outputs": [
    {
     "name": "stdout",
     "output_type": "stream",
     "text": [
      "label_encoder_MSZoning = LabelEncoder()\n",
      "label_encoder_Street = LabelEncoder()\n",
      "label_encoder_LotShape = LabelEncoder()\n",
      "label_encoder_LandContour = LabelEncoder()\n",
      "label_encoder_Utilities = LabelEncoder()\n",
      "label_encoder_LotConfig = LabelEncoder()\n",
      "label_encoder_LandSlope = LabelEncoder()\n",
      "label_encoder_Neighborhood = LabelEncoder()\n",
      "label_encoder_Condition1 = LabelEncoder()\n",
      "label_encoder_Condition2 = LabelEncoder()\n",
      "label_encoder_BldgType = LabelEncoder()\n",
      "label_encoder_HouseStyle = LabelEncoder()\n",
      "label_encoder_RoofStyle = LabelEncoder()\n",
      "label_encoder_RoofMatl = LabelEncoder()\n",
      "label_encoder_Exterior1st = LabelEncoder()\n",
      "label_encoder_Exterior2nd = LabelEncoder()\n",
      "label_encoder_MasVnrType = LabelEncoder()\n",
      "label_encoder_ExterQual = LabelEncoder()\n",
      "label_encoder_ExterCond = LabelEncoder()\n",
      "label_encoder_Foundation = LabelEncoder()\n",
      "label_encoder_BsmtQual = LabelEncoder()\n",
      "label_encoder_BsmtCond = LabelEncoder()\n",
      "label_encoder_BsmtExposure = LabelEncoder()\n",
      "label_encoder_BsmtFinType1 = LabelEncoder()\n",
      "label_encoder_BsmtFinType2 = LabelEncoder()\n",
      "label_encoder_Heating = LabelEncoder()\n",
      "label_encoder_HeatingQC = LabelEncoder()\n",
      "label_encoder_CentralAir = LabelEncoder()\n",
      "label_encoder_Electrical = LabelEncoder()\n",
      "label_encoder_KitchenQual = LabelEncoder()\n",
      "label_encoder_Functional = LabelEncoder()\n",
      "label_encoder_GarageType = LabelEncoder()\n",
      "label_encoder_GarageFinish = LabelEncoder()\n",
      "label_encoder_GarageQual = LabelEncoder()\n",
      "label_encoder_GarageCond = LabelEncoder()\n",
      "label_encoder_PavedDrive = LabelEncoder()\n",
      "label_encoder_SaleType = LabelEncoder()\n",
      "label_encoder_SaleCondition = LabelEncoder()\n"
     ]
    }
   ],
   "source": [
    "for c in lista:\n",
    "    print(f'label_encoder_{c} = LabelEncoder()')"
   ]
  },
  {
   "cell_type": "code",
   "execution_count": 36,
   "id": "2c1dace2",
   "metadata": {
    "execution": {
     "iopub.execute_input": "2023-06-21T16:50:42.708587Z",
     "iopub.status.busy": "2023-06-21T16:50:42.707974Z",
     "iopub.status.idle": "2023-06-21T16:50:42.717833Z",
     "shell.execute_reply": "2023-06-21T16:50:42.716725Z",
     "shell.execute_reply.started": "2023-06-21T16:50:42.708544Z"
    }
   },
   "outputs": [],
   "source": [
    "label_encoder_MSZoning = LabelEncoder()\n",
    "label_encoder_Street = LabelEncoder()\n",
    "label_encoder_LotShape = LabelEncoder()\n",
    "label_encoder_LandContour = LabelEncoder()\n",
    "label_encoder_Utilities = LabelEncoder()\n",
    "label_encoder_LotConfig = LabelEncoder()\n",
    "label_encoder_LandSlope = LabelEncoder()\n",
    "label_encoder_Neighborhood = LabelEncoder()\n",
    "label_encoder_Condition1 = LabelEncoder()\n",
    "label_encoder_Condition2 = LabelEncoder()\n",
    "label_encoder_BldgType = LabelEncoder()\n",
    "label_encoder_HouseStyle = LabelEncoder()\n",
    "label_encoder_RoofStyle = LabelEncoder()\n",
    "label_encoder_RoofMatl = LabelEncoder()\n",
    "label_encoder_Exterior1st = LabelEncoder()\n",
    "label_encoder_Exterior2nd = LabelEncoder()\n",
    "label_encoder_MasVnrType = LabelEncoder()\n",
    "label_encoder_ExterQual = LabelEncoder()\n",
    "label_encoder_ExterCond = LabelEncoder()\n",
    "label_encoder_Foundation = LabelEncoder()\n",
    "label_encoder_BsmtQual = LabelEncoder()\n",
    "label_encoder_BsmtCond = LabelEncoder()\n",
    "label_encoder_BsmtExposure = LabelEncoder()\n",
    "label_encoder_BsmtFinType1 = LabelEncoder()\n",
    "label_encoder_BsmtFinType2 = LabelEncoder()\n",
    "label_encoder_Heating = LabelEncoder()\n",
    "label_encoder_HeatingQC = LabelEncoder()\n",
    "label_encoder_CentralAir = LabelEncoder()\n",
    "label_encoder_Electrical = LabelEncoder()\n",
    "label_encoder_KitchenQual = LabelEncoder()\n",
    "label_encoder_Functional = LabelEncoder()\n",
    "label_encoder_GarageType = LabelEncoder()\n",
    "label_encoder_GarageFinish = LabelEncoder()\n",
    "label_encoder_GarageQual = LabelEncoder()\n",
    "label_encoder_GarageCond = LabelEncoder()\n",
    "label_encoder_PavedDrive = LabelEncoder()\n",
    "label_encoder_SaleType = LabelEncoder()\n",
    "label_encoder_SaleCondition = LabelEncoder()"
   ]
  },
  {
   "cell_type": "code",
   "execution_count": 37,
   "id": "9506d16c",
   "metadata": {
    "execution": {
     "iopub.execute_input": "2023-06-21T16:50:49.573336Z",
     "iopub.status.busy": "2023-06-21T16:50:49.572899Z",
     "iopub.status.idle": "2023-06-21T16:50:49.580972Z",
     "shell.execute_reply": "2023-06-21T16:50:49.579881Z",
     "shell.execute_reply.started": "2023-06-21T16:50:49.573304Z"
    }
   },
   "outputs": [
    {
     "data": {
      "text/plain": [
       "{'MSZoning': 'label_encoder_MSZoning',\n",
       " 'Street': 'label_encoder_Street',\n",
       " 'LotShape': 'label_encoder_LotShape',\n",
       " 'LandContour': 'label_encoder_LandContour',\n",
       " 'Utilities': 'label_encoder_Utilities',\n",
       " 'LotConfig': 'label_encoder_LotConfig',\n",
       " 'LandSlope': 'label_encoder_LandSlope',\n",
       " 'Neighborhood': 'label_encoder_Neighborhood',\n",
       " 'Condition1': 'label_encoder_Condition1',\n",
       " 'Condition2': 'label_encoder_Condition2',\n",
       " 'BldgType': 'label_encoder_BldgType',\n",
       " 'HouseStyle': 'label_encoder_HouseStyle',\n",
       " 'RoofStyle': 'label_encoder_RoofStyle',\n",
       " 'RoofMatl': 'label_encoder_RoofMatl',\n",
       " 'Exterior1st': 'label_encoder_Exterior1st',\n",
       " 'Exterior2nd': 'label_encoder_Exterior2nd',\n",
       " 'MasVnrType': 'label_encoder_MasVnrType',\n",
       " 'ExterQual': 'label_encoder_ExterQual',\n",
       " 'ExterCond': 'label_encoder_ExterCond',\n",
       " 'Foundation': 'label_encoder_Foundation',\n",
       " 'BsmtQual': 'label_encoder_BsmtQual',\n",
       " 'BsmtCond': 'label_encoder_BsmtCond',\n",
       " 'BsmtExposure': 'label_encoder_BsmtExposure',\n",
       " 'BsmtFinType1': 'label_encoder_BsmtFinType1',\n",
       " 'BsmtFinType2': 'label_encoder_BsmtFinType2',\n",
       " 'Heating': 'label_encoder_Heating',\n",
       " 'HeatingQC': 'label_encoder_HeatingQC',\n",
       " 'CentralAir': 'label_encoder_CentralAir',\n",
       " 'Electrical': 'label_encoder_Electrical',\n",
       " 'KitchenQual': 'label_encoder_KitchenQual',\n",
       " 'Functional': 'label_encoder_Functional',\n",
       " 'GarageType': 'label_encoder_GarageType',\n",
       " 'GarageFinish': 'label_encoder_GarageFinish',\n",
       " 'GarageQual': 'label_encoder_GarageQual',\n",
       " 'GarageCond': 'label_encoder_GarageCond',\n",
       " 'PavedDrive': 'label_encoder_PavedDrive',\n",
       " 'SaleType': 'label_encoder_SaleType',\n",
       " 'SaleCondition': 'label_encoder_SaleCondition'}"
      ]
     },
     "execution_count": 37,
     "metadata": {},
     "output_type": "execute_result"
    }
   ],
   "source": [
    "dict_label_cat = dict()\n",
    "\n",
    "for c in lista:\n",
    "    dict_label_cat[c] = f'label_encoder_{c}'\n",
    "dict_label_cat"
   ]
  },
  {
   "cell_type": "code",
   "execution_count": 38,
   "id": "33e537b9",
   "metadata": {
    "execution": {
     "iopub.execute_input": "2023-06-21T16:50:52.927706Z",
     "iopub.status.busy": "2023-06-21T16:50:52.927333Z",
     "iopub.status.idle": "2023-06-21T16:50:52.935281Z",
     "shell.execute_reply": "2023-06-21T16:50:52.934084Z",
     "shell.execute_reply.started": "2023-06-21T16:50:52.927677Z"
    }
   },
   "outputs": [
    {
     "name": "stdout",
     "output_type": "stream",
     "text": [
      "X_train_data[:,1] = label_encoder_MSZoning.fit_transform(X_train_data[:,1])\n",
      "X_train_data[:,3] = label_encoder_Street.fit_transform(X_train_data[:,3])\n",
      "X_train_data[:,4] = label_encoder_LotShape.fit_transform(X_train_data[:,4])\n",
      "X_train_data[:,5] = label_encoder_LandContour.fit_transform(X_train_data[:,5])\n",
      "X_train_data[:,6] = label_encoder_Utilities.fit_transform(X_train_data[:,6])\n",
      "X_train_data[:,7] = label_encoder_LotConfig.fit_transform(X_train_data[:,7])\n",
      "X_train_data[:,8] = label_encoder_LandSlope.fit_transform(X_train_data[:,8])\n",
      "X_train_data[:,9] = label_encoder_Neighborhood.fit_transform(X_train_data[:,9])\n",
      "X_train_data[:,10] = label_encoder_Condition1.fit_transform(X_train_data[:,10])\n",
      "X_train_data[:,11] = label_encoder_Condition2.fit_transform(X_train_data[:,11])\n",
      "X_train_data[:,12] = label_encoder_BldgType.fit_transform(X_train_data[:,12])\n",
      "X_train_data[:,13] = label_encoder_HouseStyle.fit_transform(X_train_data[:,13])\n",
      "X_train_data[:,18] = label_encoder_RoofStyle.fit_transform(X_train_data[:,18])\n",
      "X_train_data[:,19] = label_encoder_RoofMatl.fit_transform(X_train_data[:,19])\n",
      "X_train_data[:,20] = label_encoder_Exterior1st.fit_transform(X_train_data[:,20])\n",
      "X_train_data[:,21] = label_encoder_Exterior2nd.fit_transform(X_train_data[:,21])\n",
      "X_train_data[:,22] = label_encoder_MasVnrType.fit_transform(X_train_data[:,22])\n",
      "X_train_data[:,24] = label_encoder_ExterQual.fit_transform(X_train_data[:,24])\n",
      "X_train_data[:,25] = label_encoder_ExterCond.fit_transform(X_train_data[:,25])\n",
      "X_train_data[:,26] = label_encoder_Foundation.fit_transform(X_train_data[:,26])\n",
      "X_train_data[:,27] = label_encoder_BsmtQual.fit_transform(X_train_data[:,27])\n",
      "X_train_data[:,28] = label_encoder_BsmtCond.fit_transform(X_train_data[:,28])\n",
      "X_train_data[:,29] = label_encoder_BsmtExposure.fit_transform(X_train_data[:,29])\n",
      "X_train_data[:,30] = label_encoder_BsmtFinType1.fit_transform(X_train_data[:,30])\n",
      "X_train_data[:,32] = label_encoder_BsmtFinType2.fit_transform(X_train_data[:,32])\n",
      "X_train_data[:,36] = label_encoder_Heating.fit_transform(X_train_data[:,36])\n",
      "X_train_data[:,37] = label_encoder_HeatingQC.fit_transform(X_train_data[:,37])\n",
      "X_train_data[:,38] = label_encoder_CentralAir.fit_transform(X_train_data[:,38])\n",
      "X_train_data[:,39] = label_encoder_Electrical.fit_transform(X_train_data[:,39])\n",
      "X_train_data[:,50] = label_encoder_KitchenQual.fit_transform(X_train_data[:,50])\n",
      "X_train_data[:,52] = label_encoder_Functional.fit_transform(X_train_data[:,52])\n",
      "X_train_data[:,54] = label_encoder_GarageType.fit_transform(X_train_data[:,54])\n",
      "X_train_data[:,56] = label_encoder_GarageFinish.fit_transform(X_train_data[:,56])\n",
      "X_train_data[:,59] = label_encoder_GarageQual.fit_transform(X_train_data[:,59])\n",
      "X_train_data[:,60] = label_encoder_GarageCond.fit_transform(X_train_data[:,60])\n",
      "X_train_data[:,61] = label_encoder_PavedDrive.fit_transform(X_train_data[:,61])\n",
      "X_train_data[:,70] = label_encoder_SaleType.fit_transform(X_train_data[:,70])\n",
      "X_train_data[:,71] = label_encoder_SaleCondition.fit_transform(X_train_data[:,71])\n"
     ]
    }
   ],
   "source": [
    "lista_train_data = list()\n",
    "count = 0\n",
    "for c in train_data_X_train.columns:\n",
    "    for d in lista:\n",
    "        if c == d:\n",
    "            for a in dict_label_cat.keys():\n",
    "                if d == a:\n",
    "                    print(f'X_train_data[:,{count}] = {dict_label_cat[a]}.fit_transform(X_train_data[:,{count}])')\n",
    "    count+=1"
   ]
  },
  {
   "cell_type": "code",
   "execution_count": 39,
   "id": "7125f7b8",
   "metadata": {
    "execution": {
     "iopub.execute_input": "2023-06-21T16:51:22.262651Z",
     "iopub.status.busy": "2023-06-21T16:51:22.262217Z",
     "iopub.status.idle": "2023-06-21T16:51:22.297392Z",
     "shell.execute_reply": "2023-06-21T16:51:22.296257Z",
     "shell.execute_reply.started": "2023-06-21T16:51:22.262617Z"
    }
   },
   "outputs": [],
   "source": [
    "X_train_data[:,1] = label_encoder_MSZoning.fit_transform(X_train_data[:,1])\n",
    "X_train_data[:,3] = label_encoder_Street.fit_transform(X_train_data[:,3])\n",
    "X_train_data[:,4] = label_encoder_LotShape.fit_transform(X_train_data[:,4])\n",
    "X_train_data[:,5] = label_encoder_LandContour.fit_transform(X_train_data[:,5])\n",
    "X_train_data[:,6] = label_encoder_Utilities.fit_transform(X_train_data[:,6])\n",
    "X_train_data[:,7] = label_encoder_LotConfig.fit_transform(X_train_data[:,7])\n",
    "X_train_data[:,8] = label_encoder_LandSlope.fit_transform(X_train_data[:,8])\n",
    "X_train_data[:,9] = label_encoder_Neighborhood.fit_transform(X_train_data[:,9])\n",
    "X_train_data[:,10] = label_encoder_Condition1.fit_transform(X_train_data[:,10])\n",
    "X_train_data[:,11] = label_encoder_Condition2.fit_transform(X_train_data[:,11])\n",
    "X_train_data[:,12] = label_encoder_BldgType.fit_transform(X_train_data[:,12])\n",
    "X_train_data[:,13] = label_encoder_HouseStyle.fit_transform(X_train_data[:,13])\n",
    "X_train_data[:,18] = label_encoder_RoofStyle.fit_transform(X_train_data[:,18])\n",
    "X_train_data[:,19] = label_encoder_RoofMatl.fit_transform(X_train_data[:,19])\n",
    "X_train_data[:,20] = label_encoder_Exterior1st.fit_transform(X_train_data[:,20])\n",
    "X_train_data[:,21] = label_encoder_Exterior2nd.fit_transform(X_train_data[:,21])\n",
    "X_train_data[:,22] = label_encoder_MasVnrType.fit_transform(X_train_data[:,22])\n",
    "X_train_data[:,24] = label_encoder_ExterQual.fit_transform(X_train_data[:,24])\n",
    "X_train_data[:,25] = label_encoder_ExterCond.fit_transform(X_train_data[:,25])\n",
    "X_train_data[:,26] = label_encoder_Foundation.fit_transform(X_train_data[:,26])\n",
    "X_train_data[:,27] = label_encoder_BsmtQual.fit_transform(X_train_data[:,27])\n",
    "X_train_data[:,28] = label_encoder_BsmtCond.fit_transform(X_train_data[:,28])\n",
    "X_train_data[:,29] = label_encoder_BsmtExposure.fit_transform(X_train_data[:,29])\n",
    "X_train_data[:,30] = label_encoder_BsmtFinType1.fit_transform(X_train_data[:,30])\n",
    "X_train_data[:,32] = label_encoder_BsmtFinType2.fit_transform(X_train_data[:,32])\n",
    "X_train_data[:,36] = label_encoder_Heating.fit_transform(X_train_data[:,36])\n",
    "X_train_data[:,37] = label_encoder_HeatingQC.fit_transform(X_train_data[:,37])\n",
    "X_train_data[:,38] = label_encoder_CentralAir.fit_transform(X_train_data[:,38])\n",
    "X_train_data[:,39] = label_encoder_Electrical.fit_transform(X_train_data[:,39])\n",
    "X_train_data[:,50] = label_encoder_KitchenQual.fit_transform(X_train_data[:,50])\n",
    "X_train_data[:,52] = label_encoder_Functional.fit_transform(X_train_data[:,52])\n",
    "X_train_data[:,54] = label_encoder_GarageType.fit_transform(X_train_data[:,54])\n",
    "X_train_data[:,56] = label_encoder_GarageFinish.fit_transform(X_train_data[:,56])\n",
    "X_train_data[:,59] = label_encoder_GarageQual.fit_transform(X_train_data[:,59])\n",
    "X_train_data[:,60] = label_encoder_GarageCond.fit_transform(X_train_data[:,60])\n",
    "X_train_data[:,61] = label_encoder_PavedDrive.fit_transform(X_train_data[:,61])\n",
    "X_train_data[:,70] = label_encoder_SaleType.fit_transform(X_train_data[:,70])\n",
    "X_train_data[:,71] = label_encoder_SaleCondition.fit_transform(X_train_data[:,71])"
   ]
  },
  {
   "cell_type": "code",
   "execution_count": 40,
   "id": "a206e2db",
   "metadata": {
    "execution": {
     "iopub.execute_input": "2023-06-21T16:51:26.812606Z",
     "iopub.status.busy": "2023-06-21T16:51:26.811863Z",
     "iopub.status.idle": "2023-06-21T16:51:26.820048Z",
     "shell.execute_reply": "2023-06-21T16:51:26.818783Z",
     "shell.execute_reply.started": "2023-06-21T16:51:26.812565Z"
    }
   },
   "outputs": [
    {
     "name": "stdout",
     "output_type": "stream",
     "text": [
      "1, 3, 4, 5, 6, 7, 8, 9, 10, 11, 12, 13, 18, 19, 20, 21, 22, 24, 25, 26, 27, 28, 29, 30, 32, 36, 37, 38, 39, 50, 52, 54, 56, 59, 60, 61, 70, 71, "
     ]
    }
   ],
   "source": [
    "count = 0\n",
    "for c in train_data_X_train.columns:\n",
    "    for d in lista:\n",
    "        if c == d:\n",
    "            print(f'{count}, ', end='')\n",
    "    count+=1"
   ]
  },
  {
   "cell_type": "code",
   "execution_count": 41,
   "id": "1ba7cc52",
   "metadata": {
    "execution": {
     "iopub.execute_input": "2023-06-21T16:51:29.437626Z",
     "iopub.status.busy": "2023-06-21T16:51:29.437237Z",
     "iopub.status.idle": "2023-06-21T16:51:29.445078Z",
     "shell.execute_reply": "2023-06-21T16:51:29.443951Z",
     "shell.execute_reply.started": "2023-06-21T16:51:29.437596Z"
    }
   },
   "outputs": [
    {
     "data": {
      "text/plain": [
       "array([60, 3, 11250, 1, 0, 3, 0, 4, 0, 5, 2, 2, 0, 5, 7, 5, 2001, 2002, 1,\n",
       "       1, 12, 13, 1, 162.0, 2, 4, 2, 2, 3, 2, 2, 486, 5, 0, 434, 920, 1,\n",
       "       0, 1, 4, 920, 866, 0, 1786, 1, 0, 2, 1, 3, 1, 2, 6, 6, 1, 1,\n",
       "       2001.0, 1, 2, 608, 4, 4, 2, 0, 42, 0, 0, 0, 0, 9, 2008, 8, 4],\n",
       "      dtype=object)"
      ]
     },
     "execution_count": 41,
     "metadata": {},
     "output_type": "execute_result"
    }
   ],
   "source": [
    "X_train_data[2]"
   ]
  },
  {
   "cell_type": "markdown",
   "id": "2f2eadd9",
   "metadata": {},
   "source": [
    "#### OneHotEncoder "
   ]
  },
  {
   "cell_type": "code",
   "execution_count": 42,
   "id": "a1bc6c1a",
   "metadata": {
    "execution": {
     "iopub.execute_input": "2023-06-21T16:51:31.682516Z",
     "iopub.status.busy": "2023-06-21T16:51:31.681665Z",
     "iopub.status.idle": "2023-06-21T16:51:31.690592Z",
     "shell.execute_reply": "2023-06-21T16:51:31.689421Z",
     "shell.execute_reply.started": "2023-06-21T16:51:31.682475Z"
    }
   },
   "outputs": [],
   "source": [
    "from sklearn.compose import ColumnTransformer\n",
    "from sklearn.preprocessing import OneHotEncoder"
   ]
  },
  {
   "cell_type": "code",
   "execution_count": 43,
   "id": "6dfac88f",
   "metadata": {
    "execution": {
     "iopub.execute_input": "2023-06-21T16:52:10.192474Z",
     "iopub.status.busy": "2023-06-21T16:52:10.192067Z",
     "iopub.status.idle": "2023-06-21T16:52:10.199288Z",
     "shell.execute_reply": "2023-06-21T16:52:10.198012Z",
     "shell.execute_reply.started": "2023-06-21T16:52:10.192441Z"
    }
   },
   "outputs": [],
   "source": [
    "onehotencoder_train_data = ColumnTransformer(transformers=[('OneHot', OneHotEncoder(), [1, 3, 4, 5, 6, 7, 8, 9, 10, 11, 12, 13, 18, 19, 20, 21, 22, 24, 25, 26, 27, 28, 29, 30, 32, 36, 37, 38, 39, 50, 52, 54, 56, 59, 60, 61, 70, 71])], remainder='passthrough')"
   ]
  },
  {
   "cell_type": "code",
   "execution_count": 44,
   "id": "9e3f87e0",
   "metadata": {
    "execution": {
     "iopub.execute_input": "2023-06-21T16:52:12.476776Z",
     "iopub.status.busy": "2023-06-21T16:52:12.476406Z",
     "iopub.status.idle": "2023-06-21T16:52:12.523800Z",
     "shell.execute_reply": "2023-06-21T16:52:12.522713Z",
     "shell.execute_reply.started": "2023-06-21T16:52:12.476749Z"
    }
   },
   "outputs": [
    {
     "data": {
      "text/plain": [
       "array([[0.000e+00, 0.000e+00, 0.000e+00, ..., 0.000e+00, 2.000e+00,\n",
       "        2.008e+03],\n",
       "       [0.000e+00, 0.000e+00, 0.000e+00, ..., 0.000e+00, 5.000e+00,\n",
       "        2.007e+03],\n",
       "       [0.000e+00, 0.000e+00, 0.000e+00, ..., 0.000e+00, 9.000e+00,\n",
       "        2.008e+03],\n",
       "       ...,\n",
       "       [0.000e+00, 0.000e+00, 0.000e+00, ..., 0.000e+00, 5.000e+00,\n",
       "        2.010e+03],\n",
       "       [0.000e+00, 0.000e+00, 0.000e+00, ..., 0.000e+00, 4.000e+00,\n",
       "        2.010e+03],\n",
       "       [0.000e+00, 0.000e+00, 0.000e+00, ..., 0.000e+00, 6.000e+00,\n",
       "        2.008e+03]])"
      ]
     },
     "execution_count": 44,
     "metadata": {},
     "output_type": "execute_result"
    }
   ],
   "source": [
    "X_train_data\n",
    "X_train_data = onehotencoder_train_data.fit_transform(X_train_data).toarray()\n",
    "X_train_data"
   ]
  },
  {
   "cell_type": "code",
   "execution_count": 45,
   "id": "fa78dbf1",
   "metadata": {
    "execution": {
     "iopub.execute_input": "2023-06-21T16:52:17.581433Z",
     "iopub.status.busy": "2023-06-21T16:52:17.581020Z",
     "iopub.status.idle": "2023-06-21T16:52:17.591405Z",
     "shell.execute_reply": "2023-06-21T16:52:17.590209Z",
     "shell.execute_reply.started": "2023-06-21T16:52:17.581404Z"
    }
   },
   "outputs": [
    {
     "data": {
      "text/plain": [
       "array([0.000e+00, 0.000e+00, 0.000e+00, 1.000e+00, 0.000e+00, 0.000e+00,\n",
       "       1.000e+00, 0.000e+00, 0.000e+00, 0.000e+00, 1.000e+00, 0.000e+00,\n",
       "       0.000e+00, 0.000e+00, 1.000e+00, 1.000e+00, 0.000e+00, 0.000e+00,\n",
       "       0.000e+00, 0.000e+00, 0.000e+00, 1.000e+00, 1.000e+00, 0.000e+00,\n",
       "       0.000e+00, 0.000e+00, 0.000e+00, 0.000e+00, 0.000e+00, 0.000e+00,\n",
       "       1.000e+00, 0.000e+00, 0.000e+00, 0.000e+00, 0.000e+00, 0.000e+00,\n",
       "       0.000e+00, 0.000e+00, 0.000e+00, 0.000e+00, 0.000e+00, 0.000e+00,\n",
       "       0.000e+00, 0.000e+00, 0.000e+00, 0.000e+00, 0.000e+00, 0.000e+00,\n",
       "       0.000e+00, 0.000e+00, 0.000e+00, 0.000e+00, 1.000e+00, 0.000e+00,\n",
       "       0.000e+00, 0.000e+00, 0.000e+00, 0.000e+00, 0.000e+00, 0.000e+00,\n",
       "       0.000e+00, 1.000e+00, 0.000e+00, 0.000e+00, 0.000e+00, 0.000e+00,\n",
       "       0.000e+00, 1.000e+00, 0.000e+00, 0.000e+00, 0.000e+00, 0.000e+00,\n",
       "       0.000e+00, 0.000e+00, 0.000e+00, 0.000e+00, 0.000e+00, 1.000e+00,\n",
       "       0.000e+00, 0.000e+00, 0.000e+00, 1.000e+00, 0.000e+00, 0.000e+00,\n",
       "       0.000e+00, 0.000e+00, 0.000e+00, 1.000e+00, 0.000e+00, 0.000e+00,\n",
       "       0.000e+00, 0.000e+00, 0.000e+00, 0.000e+00, 0.000e+00, 0.000e+00,\n",
       "       0.000e+00, 0.000e+00, 0.000e+00, 0.000e+00, 0.000e+00, 0.000e+00,\n",
       "       0.000e+00, 0.000e+00, 0.000e+00, 0.000e+00, 1.000e+00, 0.000e+00,\n",
       "       0.000e+00, 0.000e+00, 0.000e+00, 0.000e+00, 0.000e+00, 0.000e+00,\n",
       "       0.000e+00, 0.000e+00, 0.000e+00, 0.000e+00, 0.000e+00, 0.000e+00,\n",
       "       0.000e+00, 0.000e+00, 1.000e+00, 0.000e+00, 0.000e+00, 0.000e+00,\n",
       "       1.000e+00, 0.000e+00, 0.000e+00, 0.000e+00, 0.000e+00, 0.000e+00,\n",
       "       1.000e+00, 0.000e+00, 0.000e+00, 0.000e+00, 0.000e+00, 0.000e+00,\n",
       "       1.000e+00, 0.000e+00, 0.000e+00, 1.000e+00, 0.000e+00, 0.000e+00,\n",
       "       0.000e+00, 0.000e+00, 0.000e+00, 1.000e+00, 0.000e+00, 0.000e+00,\n",
       "       0.000e+00, 0.000e+00, 0.000e+00, 1.000e+00, 0.000e+00, 0.000e+00,\n",
       "       0.000e+00, 0.000e+00, 1.000e+00, 0.000e+00, 0.000e+00, 0.000e+00,\n",
       "       1.000e+00, 0.000e+00, 0.000e+00, 0.000e+00, 0.000e+00, 0.000e+00,\n",
       "       0.000e+00, 0.000e+00, 0.000e+00, 0.000e+00, 1.000e+00, 0.000e+00,\n",
       "       0.000e+00, 1.000e+00, 0.000e+00, 0.000e+00, 0.000e+00, 0.000e+00,\n",
       "       1.000e+00, 0.000e+00, 0.000e+00, 0.000e+00, 0.000e+00, 0.000e+00,\n",
       "       1.000e+00, 0.000e+00, 0.000e+00, 0.000e+00, 0.000e+00, 1.000e+00,\n",
       "       0.000e+00, 0.000e+00, 0.000e+00, 1.000e+00, 0.000e+00, 0.000e+00,\n",
       "       0.000e+00, 0.000e+00, 0.000e+00, 0.000e+00, 0.000e+00, 1.000e+00,\n",
       "       0.000e+00, 1.000e+00, 0.000e+00, 0.000e+00, 0.000e+00, 0.000e+00,\n",
       "       0.000e+00, 0.000e+00, 1.000e+00, 0.000e+00, 0.000e+00, 0.000e+00,\n",
       "       0.000e+00, 0.000e+00, 0.000e+00, 1.000e+00, 0.000e+00, 0.000e+00,\n",
       "       0.000e+00, 0.000e+00, 0.000e+00, 1.000e+00, 0.000e+00, 0.000e+00,\n",
       "       0.000e+00, 1.000e+00, 0.000e+00, 0.000e+00, 0.000e+00, 0.000e+00,\n",
       "       0.000e+00, 0.000e+00, 0.000e+00, 0.000e+00, 1.000e+00, 0.000e+00,\n",
       "       0.000e+00, 0.000e+00, 0.000e+00, 1.000e+00, 0.000e+00, 6.000e+01,\n",
       "       8.450e+03, 7.000e+00, 5.000e+00, 2.003e+03, 2.003e+03, 1.960e+02,\n",
       "       7.060e+02, 0.000e+00, 1.500e+02, 8.560e+02, 8.560e+02, 8.540e+02,\n",
       "       0.000e+00, 1.710e+03, 1.000e+00, 0.000e+00, 2.000e+00, 1.000e+00,\n",
       "       3.000e+00, 1.000e+00, 8.000e+00, 0.000e+00, 2.003e+03, 2.000e+00,\n",
       "       5.480e+02, 0.000e+00, 6.100e+01, 0.000e+00, 0.000e+00, 0.000e+00,\n",
       "       0.000e+00, 2.000e+00, 2.008e+03])"
      ]
     },
     "execution_count": 45,
     "metadata": {},
     "output_type": "execute_result"
    }
   ],
   "source": [
    "X_train_data[0]"
   ]
  },
  {
   "cell_type": "code",
   "execution_count": 46,
   "id": "9077cf4c",
   "metadata": {
    "execution": {
     "iopub.execute_input": "2023-06-21T16:52:22.263013Z",
     "iopub.status.busy": "2023-06-21T16:52:22.262618Z",
     "iopub.status.idle": "2023-06-21T16:52:22.269358Z",
     "shell.execute_reply": "2023-06-21T16:52:22.268232Z",
     "shell.execute_reply.started": "2023-06-21T16:52:22.262981Z"
    }
   },
   "outputs": [
    {
     "data": {
      "text/plain": [
       "(1460, 279)"
      ]
     },
     "execution_count": 46,
     "metadata": {},
     "output_type": "execute_result"
    }
   ],
   "source": [
    "X_train_data.shape"
   ]
  },
  {
   "cell_type": "markdown",
   "id": "f6fb3318",
   "metadata": {},
   "source": [
    "### 3.4 - Escalonamento dos Valores"
   ]
  },
  {
   "cell_type": "code",
   "execution_count": 47,
   "id": "e2f62b33",
   "metadata": {
    "execution": {
     "iopub.execute_input": "2023-06-21T16:52:27.120325Z",
     "iopub.status.busy": "2023-06-21T16:52:27.119789Z",
     "iopub.status.idle": "2023-06-21T16:52:27.135505Z",
     "shell.execute_reply": "2023-06-21T16:52:27.134254Z",
     "shell.execute_reply.started": "2023-06-21T16:52:27.120284Z"
    }
   },
   "outputs": [],
   "source": [
    "from sklearn.preprocessing import StandardScaler\n",
    "scaler_census = StandardScaler()\n",
    "X_train_data = scaler_census.fit_transform(X_train_data)"
   ]
  },
  {
   "cell_type": "code",
   "execution_count": 48,
   "id": "a7a57389",
   "metadata": {
    "execution": {
     "iopub.execute_input": "2023-06-21T16:52:29.942249Z",
     "iopub.status.busy": "2023-06-21T16:52:29.941838Z",
     "iopub.status.idle": "2023-06-21T16:52:29.951339Z",
     "shell.execute_reply": "2023-06-21T16:52:29.950200Z",
     "shell.execute_reply.started": "2023-06-21T16:52:29.942216Z"
    },
    "scrolled": true
   },
   "outputs": [
    {
     "data": {
      "text/plain": [
       "array([-0.08304548, -0.21585871, -0.10526316,  0.51813339, -0.41895507,\n",
       "       -0.06423821,  0.06423821, -0.70420284, -0.16998114, -0.08304548,\n",
       "        0.76051192, -0.21235968, -0.18831089, -0.15899968,  0.33712564,\n",
       "        0.02618016, -0.02618016, -0.46873869, -0.26232433, -0.18238027,\n",
       "       -0.05241424,  0.62276215,  0.23757092, -0.21585871, -0.09478452,\n",
       "       -0.10854037, -0.03703704, -0.10526316, -0.20339487, -0.1398323 ,\n",
       "        2.95522137, -0.19025216, -0.27116307, -0.23917551, -0.16124951,\n",
       "       -0.10854037, -0.1863522 , -0.42683279, -0.07875671, -0.22941573,\n",
       "       -0.16998114, -0.23595776, -0.28963792, -0.13199092, -0.23106504,\n",
       "       -0.20521398, -0.25018188, -0.13199092, -0.16347148, -0.08712888,\n",
       "       -0.18437553, -0.24235968,  0.39840954, -0.07422696, -0.11482721,\n",
       "       -0.08712888, -0.13465178, -0.03703704, -0.05862104, -0.03703704,\n",
       "       -0.06423821,  0.10188534, -0.02618016, -0.03703704, -0.02618016,\n",
       "       -0.02618016, -0.03703704,  0.44353276, -0.14728711, -0.19217653,\n",
       "       -0.17420046, -0.29102473, -0.34339089, -0.09839655, -0.99453548,\n",
       "       -0.07422696, -0.08712888,  1.51026451, -0.16124951, -0.21585871,\n",
       "       -0.09478452,  0.5287526 , -0.08712888, -0.49357024, -0.06940907,\n",
       "       -0.03703704, -0.02618016,  0.13465178, -0.02618016, -0.02618016,\n",
       "       -0.02618016, -0.08712888, -0.05862104, -0.06423821, -0.11785113,\n",
       "       -0.02618016, -0.03703704, -0.18831089, -0.02618016, -0.20881229,\n",
       "       -0.42346368, -0.02618016, -0.42121177, -0.28263343, -0.03703704,\n",
       "       -0.13199092,  1.3546038 , -0.40530769, -0.13465178, -0.11785113,\n",
       "       -0.04537649, -0.06940907, -0.13199092, -0.02618016, -0.20701967,\n",
       "       -0.40645235, -0.08304548, -0.41442683, -0.02618016, -0.32823619,\n",
       "       -0.05862104, -0.13465178,  1.37725284, -0.39494029, -0.16347148,\n",
       "       -0.10188534,  1.51026451, -1.20402011, -0.3099937 , -0.07422696,\n",
       "       -0.19217653, -0.09839655,  1.41131261, -1.2788194 , -0.04537649,\n",
       "       -0.1398323 , -0.33333333, -0.02618016,  0.37261985, -0.33333333,\n",
       "       -0.87610187,  1.12096779, -0.12927912, -0.06423821, -0.04537649,\n",
       "       -0.30060929, -0.15672078,  1.16724442, -0.89456504, -0.16124951,\n",
       "       -0.17833149, -0.21585871, -0.03703704,  0.33712564, -0.16124951,\n",
       "       -0.42233832, -0.31789276, -0.29102473,  0.72938618, -0.16347148,\n",
       "       -0.42121177, -0.33586437,  1.57886762, -0.23106504, -0.31658502,\n",
       "       -0.64612362, -0.16124951, -0.11482721, -0.1520705 , -0.09839655,\n",
       "       -0.18036581, -0.1959766 ,  0.40301412, -0.16347148, -0.02618016,\n",
       "        0.14969624, -0.11172584, -0.06940907, -0.03703704, -0.05241424,\n",
       "        0.98504334, -0.1863522 , -0.44463809, -0.02618016, -0.64399432,\n",
       "       -0.26381257,  0.26381257, -0.26232433, -0.13726468, -0.04537649,\n",
       "       -0.02618016,  0.3073317 , -0.02618016, -0.27116307, -0.16566672,\n",
       "        1.22125656, -1.00687293, -0.09839655, -0.05862104, -0.14728711,\n",
       "       -0.15441152, -0.10188534, -0.02618016,  0.27116307, -0.06423821,\n",
       "        0.82350526, -0.11482721, -0.25325865, -0.07875671, -0.60055892,\n",
       "       -0.24235968, -0.56363954,  1.56834806, -0.84119102, -0.24235968,\n",
       "       -0.04537649, -0.18437553, -0.09839655, -0.04537649,  0.33712564,\n",
       "       -0.24235968, -0.03703704, -0.15672078, -0.07875671, -0.06940907,\n",
       "        0.31789276, -0.24235968, -0.2563073 , -0.14484136,  0.2992528 ,\n",
       "       -0.17420046, -0.05241424, -0.03703704, -0.07875671, -0.05862104,\n",
       "       -0.05862104, -0.3019617 , -0.04537649,  0.39029263, -0.27261576,\n",
       "       -0.05241424, -0.09103457, -0.11785113,  0.4676514 , -0.30599503,\n",
       "        0.07337496, -0.20714171,  0.65147924, -0.51719981,  1.05099379,\n",
       "        0.87866809,  0.51410389,  0.57542484, -0.28865283, -0.94459061,\n",
       "       -0.45930254, -0.79343379,  1.16185159, -0.12024172,  0.37033344,\n",
       "        1.10781015, -0.24106104,  0.78974052,  1.22758538,  0.16377912,\n",
       "       -0.21145358,  0.91220977, -0.95122649,  1.01759808,  0.31172464,\n",
       "        0.35100032, -0.75217584,  0.21650316, -0.3593249 , -0.11633929,\n",
       "       -0.27020835, -0.06869175, -1.5991111 ,  0.13877749])"
      ]
     },
     "execution_count": 48,
     "metadata": {},
     "output_type": "execute_result"
    }
   ],
   "source": [
    "X_train_data[0]"
   ]
  },
  {
   "cell_type": "markdown",
   "id": "3736eeee",
   "metadata": {},
   "source": [
    "## 4 - Exploração e processamento da base de teste"
   ]
  },
  {
   "cell_type": "markdown",
   "id": "04752010",
   "metadata": {},
   "source": [
    "### 4.1 - Análise Exploratória"
   ]
  },
  {
   "cell_type": "code",
   "execution_count": 49,
   "id": "a213c831",
   "metadata": {
    "execution": {
     "iopub.execute_input": "2023-06-21T16:49:29.440510Z",
     "iopub.status.busy": "2023-06-21T16:49:29.440110Z",
     "iopub.status.idle": "2023-06-21T16:49:29.449974Z",
     "shell.execute_reply": "2023-06-21T16:49:29.448719Z",
     "shell.execute_reply.started": "2023-06-21T16:49:29.440478Z"
    },
    "scrolled": false
   },
   "outputs": [
    {
     "data": {
      "text/plain": [
       "Index(['Id', 'MSSubClass', 'MSZoning', 'LotArea', 'Street', 'LotShape',\n",
       "       'LandContour', 'Utilities', 'LotConfig', 'LandSlope', 'Neighborhood',\n",
       "       'Condition1', 'Condition2', 'BldgType', 'HouseStyle', 'OverallQual',\n",
       "       'OverallCond', 'YearBuilt', 'YearRemodAdd', 'RoofStyle', 'RoofMatl',\n",
       "       'Exterior1st', 'Exterior2nd', 'MasVnrType', 'MasVnrArea', 'ExterQual',\n",
       "       'ExterCond', 'Foundation', 'BsmtQual', 'BsmtCond', 'BsmtExposure',\n",
       "       'BsmtFinType1', 'BsmtFinSF1', 'BsmtFinType2', 'BsmtFinSF2', 'BsmtUnfSF',\n",
       "       'TotalBsmtSF', 'Heating', 'HeatingQC', 'CentralAir', 'Electrical',\n",
       "       '1stFlrSF', '2ndFlrSF', 'LowQualFinSF', 'GrLivArea', 'BsmtFullBath',\n",
       "       'BsmtHalfBath', 'FullBath', 'HalfBath', 'BedroomAbvGr', 'KitchenAbvGr',\n",
       "       'KitchenQual', 'TotRmsAbvGrd', 'Functional', 'Fireplaces', 'GarageType',\n",
       "       'GarageYrBlt', 'GarageFinish', 'GarageCars', 'GarageArea', 'GarageQual',\n",
       "       'GarageCond', 'PavedDrive', 'WoodDeckSF', 'OpenPorchSF',\n",
       "       'EnclosedPorch', '3SsnPorch', 'ScreenPorch', 'PoolArea', 'MoSold',\n",
       "       'YrSold', 'SaleType', 'SaleCondition'],\n",
       "      dtype='object')"
      ]
     },
     "execution_count": 49,
     "metadata": {},
     "output_type": "execute_result"
    }
   ],
   "source": [
    "# Base de dados de treinamento\n",
    "\n",
    "teste_data.head().columns"
   ]
  },
  {
   "cell_type": "code",
   "execution_count": 50,
   "id": "f1a9cc43",
   "metadata": {
    "execution": {
     "iopub.execute_input": "2023-06-21T16:49:29.697727Z",
     "iopub.status.busy": "2023-06-21T16:49:29.697116Z",
     "iopub.status.idle": "2023-06-21T16:49:29.730906Z",
     "shell.execute_reply": "2023-06-21T16:49:29.730096Z",
     "shell.execute_reply.started": "2023-06-21T16:49:29.697683Z"
    }
   },
   "outputs": [
    {
     "data": {
      "text/html": [
       "<div>\n",
       "<style scoped>\n",
       "    .dataframe tbody tr th:only-of-type {\n",
       "        vertical-align: middle;\n",
       "    }\n",
       "\n",
       "    .dataframe tbody tr th {\n",
       "        vertical-align: top;\n",
       "    }\n",
       "\n",
       "    .dataframe thead th {\n",
       "        text-align: right;\n",
       "    }\n",
       "</style>\n",
       "<table border=\"1\" class=\"dataframe\">\n",
       "  <thead>\n",
       "    <tr style=\"text-align: right;\">\n",
       "      <th></th>\n",
       "      <th>Id</th>\n",
       "      <th>MSSubClass</th>\n",
       "      <th>MSZoning</th>\n",
       "      <th>LotArea</th>\n",
       "      <th>Street</th>\n",
       "      <th>LotShape</th>\n",
       "      <th>LandContour</th>\n",
       "      <th>Utilities</th>\n",
       "      <th>LotConfig</th>\n",
       "      <th>LandSlope</th>\n",
       "      <th>...</th>\n",
       "      <th>WoodDeckSF</th>\n",
       "      <th>OpenPorchSF</th>\n",
       "      <th>EnclosedPorch</th>\n",
       "      <th>3SsnPorch</th>\n",
       "      <th>ScreenPorch</th>\n",
       "      <th>PoolArea</th>\n",
       "      <th>MoSold</th>\n",
       "      <th>YrSold</th>\n",
       "      <th>SaleType</th>\n",
       "      <th>SaleCondition</th>\n",
       "    </tr>\n",
       "  </thead>\n",
       "  <tbody>\n",
       "    <tr>\n",
       "      <th>0</th>\n",
       "      <td>1461</td>\n",
       "      <td>20</td>\n",
       "      <td>RH</td>\n",
       "      <td>11622</td>\n",
       "      <td>Pave</td>\n",
       "      <td>Reg</td>\n",
       "      <td>Lvl</td>\n",
       "      <td>AllPub</td>\n",
       "      <td>Inside</td>\n",
       "      <td>Gtl</td>\n",
       "      <td>...</td>\n",
       "      <td>140</td>\n",
       "      <td>0</td>\n",
       "      <td>0</td>\n",
       "      <td>0</td>\n",
       "      <td>120</td>\n",
       "      <td>0</td>\n",
       "      <td>6</td>\n",
       "      <td>2010</td>\n",
       "      <td>WD</td>\n",
       "      <td>Normal</td>\n",
       "    </tr>\n",
       "    <tr>\n",
       "      <th>1</th>\n",
       "      <td>1462</td>\n",
       "      <td>20</td>\n",
       "      <td>RL</td>\n",
       "      <td>14267</td>\n",
       "      <td>Pave</td>\n",
       "      <td>IR1</td>\n",
       "      <td>Lvl</td>\n",
       "      <td>AllPub</td>\n",
       "      <td>Corner</td>\n",
       "      <td>Gtl</td>\n",
       "      <td>...</td>\n",
       "      <td>393</td>\n",
       "      <td>36</td>\n",
       "      <td>0</td>\n",
       "      <td>0</td>\n",
       "      <td>0</td>\n",
       "      <td>0</td>\n",
       "      <td>6</td>\n",
       "      <td>2010</td>\n",
       "      <td>WD</td>\n",
       "      <td>Normal</td>\n",
       "    </tr>\n",
       "    <tr>\n",
       "      <th>2</th>\n",
       "      <td>1463</td>\n",
       "      <td>60</td>\n",
       "      <td>RL</td>\n",
       "      <td>13830</td>\n",
       "      <td>Pave</td>\n",
       "      <td>IR1</td>\n",
       "      <td>Lvl</td>\n",
       "      <td>AllPub</td>\n",
       "      <td>Inside</td>\n",
       "      <td>Gtl</td>\n",
       "      <td>...</td>\n",
       "      <td>212</td>\n",
       "      <td>34</td>\n",
       "      <td>0</td>\n",
       "      <td>0</td>\n",
       "      <td>0</td>\n",
       "      <td>0</td>\n",
       "      <td>3</td>\n",
       "      <td>2010</td>\n",
       "      <td>WD</td>\n",
       "      <td>Normal</td>\n",
       "    </tr>\n",
       "    <tr>\n",
       "      <th>3</th>\n",
       "      <td>1464</td>\n",
       "      <td>60</td>\n",
       "      <td>RL</td>\n",
       "      <td>9978</td>\n",
       "      <td>Pave</td>\n",
       "      <td>IR1</td>\n",
       "      <td>Lvl</td>\n",
       "      <td>AllPub</td>\n",
       "      <td>Inside</td>\n",
       "      <td>Gtl</td>\n",
       "      <td>...</td>\n",
       "      <td>360</td>\n",
       "      <td>36</td>\n",
       "      <td>0</td>\n",
       "      <td>0</td>\n",
       "      <td>0</td>\n",
       "      <td>0</td>\n",
       "      <td>6</td>\n",
       "      <td>2010</td>\n",
       "      <td>WD</td>\n",
       "      <td>Normal</td>\n",
       "    </tr>\n",
       "    <tr>\n",
       "      <th>4</th>\n",
       "      <td>1465</td>\n",
       "      <td>120</td>\n",
       "      <td>RL</td>\n",
       "      <td>5005</td>\n",
       "      <td>Pave</td>\n",
       "      <td>IR1</td>\n",
       "      <td>HLS</td>\n",
       "      <td>AllPub</td>\n",
       "      <td>Inside</td>\n",
       "      <td>Gtl</td>\n",
       "      <td>...</td>\n",
       "      <td>0</td>\n",
       "      <td>82</td>\n",
       "      <td>0</td>\n",
       "      <td>0</td>\n",
       "      <td>144</td>\n",
       "      <td>0</td>\n",
       "      <td>1</td>\n",
       "      <td>2010</td>\n",
       "      <td>WD</td>\n",
       "      <td>Normal</td>\n",
       "    </tr>\n",
       "  </tbody>\n",
       "</table>\n",
       "<p>5 rows × 73 columns</p>\n",
       "</div>"
      ],
      "text/plain": [
       "     Id  MSSubClass MSZoning  LotArea Street LotShape LandContour Utilities  \\\n",
       "0  1461          20       RH    11622   Pave      Reg         Lvl    AllPub   \n",
       "1  1462          20       RL    14267   Pave      IR1         Lvl    AllPub   \n",
       "2  1463          60       RL    13830   Pave      IR1         Lvl    AllPub   \n",
       "3  1464          60       RL     9978   Pave      IR1         Lvl    AllPub   \n",
       "4  1465         120       RL     5005   Pave      IR1         HLS    AllPub   \n",
       "\n",
       "  LotConfig LandSlope  ... WoodDeckSF OpenPorchSF EnclosedPorch 3SsnPorch  \\\n",
       "0    Inside       Gtl  ...        140           0             0         0   \n",
       "1    Corner       Gtl  ...        393          36             0         0   \n",
       "2    Inside       Gtl  ...        212          34             0         0   \n",
       "3    Inside       Gtl  ...        360          36             0         0   \n",
       "4    Inside       Gtl  ...          0          82             0         0   \n",
       "\n",
       "  ScreenPorch  PoolArea  MoSold  YrSold  SaleType SaleCondition  \n",
       "0         120         0       6    2010        WD        Normal  \n",
       "1           0         0       6    2010        WD        Normal  \n",
       "2           0         0       3    2010        WD        Normal  \n",
       "3           0         0       6    2010        WD        Normal  \n",
       "4         144         0       1    2010        WD        Normal  \n",
       "\n",
       "[5 rows x 73 columns]"
      ]
     },
     "execution_count": 50,
     "metadata": {},
     "output_type": "execute_result"
    }
   ],
   "source": [
    "# Calda da base de dados de treinamento\n",
    "\n",
    "teste_data.head()"
   ]
  },
  {
   "cell_type": "code",
   "execution_count": 51,
   "id": "8151a1b9",
   "metadata": {
    "execution": {
     "iopub.execute_input": "2023-06-21T16:49:30.014285Z",
     "iopub.status.busy": "2023-06-21T16:49:30.013779Z",
     "iopub.status.idle": "2023-06-21T16:49:30.021932Z",
     "shell.execute_reply": "2023-06-21T16:49:30.020747Z",
     "shell.execute_reply.started": "2023-06-21T16:49:30.014243Z"
    }
   },
   "outputs": [
    {
     "data": {
      "text/plain": [
       "(1459, 73)"
      ]
     },
     "execution_count": 51,
     "metadata": {},
     "output_type": "execute_result"
    }
   ],
   "source": [
    "# A base de dados tem 1460 linhas e 81 colunas\n",
    "\n",
    "teste_data.shape"
   ]
  },
  {
   "cell_type": "markdown",
   "id": "8355f419",
   "metadata": {},
   "source": [
    "####  Análise das colunas numéricas"
   ]
  },
  {
   "cell_type": "code",
   "execution_count": 52,
   "id": "d0d2a69b",
   "metadata": {
    "execution": {
     "iopub.execute_input": "2023-06-21T16:49:32.017340Z",
     "iopub.status.busy": "2023-06-21T16:49:32.016947Z",
     "iopub.status.idle": "2023-06-21T16:49:32.038758Z",
     "shell.execute_reply": "2023-06-21T16:49:32.037986Z",
     "shell.execute_reply.started": "2023-06-21T16:49:32.017310Z"
    },
    "scrolled": true
   },
   "outputs": [
    {
     "data": {
      "text/html": [
       "<div>\n",
       "<style scoped>\n",
       "    .dataframe tbody tr th:only-of-type {\n",
       "        vertical-align: middle;\n",
       "    }\n",
       "\n",
       "    .dataframe tbody tr th {\n",
       "        vertical-align: top;\n",
       "    }\n",
       "\n",
       "    .dataframe thead th {\n",
       "        text-align: right;\n",
       "    }\n",
       "</style>\n",
       "<table border=\"1\" class=\"dataframe\">\n",
       "  <thead>\n",
       "    <tr style=\"text-align: right;\">\n",
       "      <th></th>\n",
       "      <th>Id</th>\n",
       "      <th>MSSubClass</th>\n",
       "      <th>LotArea</th>\n",
       "      <th>OverallQual</th>\n",
       "      <th>OverallCond</th>\n",
       "      <th>YearBuilt</th>\n",
       "      <th>YearRemodAdd</th>\n",
       "      <th>MasVnrArea</th>\n",
       "      <th>BsmtFinSF1</th>\n",
       "      <th>BsmtFinSF2</th>\n",
       "      <th>...</th>\n",
       "      <th>GarageCars</th>\n",
       "      <th>GarageArea</th>\n",
       "      <th>WoodDeckSF</th>\n",
       "      <th>OpenPorchSF</th>\n",
       "      <th>EnclosedPorch</th>\n",
       "      <th>3SsnPorch</th>\n",
       "      <th>ScreenPorch</th>\n",
       "      <th>PoolArea</th>\n",
       "      <th>MoSold</th>\n",
       "      <th>YrSold</th>\n",
       "    </tr>\n",
       "  </thead>\n",
       "  <tbody>\n",
       "    <tr>\n",
       "      <th>count</th>\n",
       "      <td>1459.000000</td>\n",
       "      <td>1459.000000</td>\n",
       "      <td>1459.000000</td>\n",
       "      <td>1459.000000</td>\n",
       "      <td>1459.000000</td>\n",
       "      <td>1459.000000</td>\n",
       "      <td>1459.000000</td>\n",
       "      <td>1444.000000</td>\n",
       "      <td>1458.000000</td>\n",
       "      <td>1458.000000</td>\n",
       "      <td>...</td>\n",
       "      <td>1458.000000</td>\n",
       "      <td>1458.000000</td>\n",
       "      <td>1459.000000</td>\n",
       "      <td>1459.000000</td>\n",
       "      <td>1459.000000</td>\n",
       "      <td>1459.000000</td>\n",
       "      <td>1459.000000</td>\n",
       "      <td>1459.000000</td>\n",
       "      <td>1459.000000</td>\n",
       "      <td>1459.000000</td>\n",
       "    </tr>\n",
       "    <tr>\n",
       "      <th>mean</th>\n",
       "      <td>2190.000000</td>\n",
       "      <td>57.378341</td>\n",
       "      <td>9819.161069</td>\n",
       "      <td>6.078821</td>\n",
       "      <td>5.553804</td>\n",
       "      <td>1971.357779</td>\n",
       "      <td>1983.662783</td>\n",
       "      <td>100.709141</td>\n",
       "      <td>439.203704</td>\n",
       "      <td>52.619342</td>\n",
       "      <td>...</td>\n",
       "      <td>1.766118</td>\n",
       "      <td>472.768861</td>\n",
       "      <td>93.174777</td>\n",
       "      <td>48.313914</td>\n",
       "      <td>24.243317</td>\n",
       "      <td>1.794380</td>\n",
       "      <td>17.064428</td>\n",
       "      <td>1.744345</td>\n",
       "      <td>6.104181</td>\n",
       "      <td>2007.769705</td>\n",
       "    </tr>\n",
       "    <tr>\n",
       "      <th>std</th>\n",
       "      <td>421.321334</td>\n",
       "      <td>42.746880</td>\n",
       "      <td>4955.517327</td>\n",
       "      <td>1.436812</td>\n",
       "      <td>1.113740</td>\n",
       "      <td>30.390071</td>\n",
       "      <td>21.130467</td>\n",
       "      <td>177.625900</td>\n",
       "      <td>455.268042</td>\n",
       "      <td>176.753926</td>\n",
       "      <td>...</td>\n",
       "      <td>0.775945</td>\n",
       "      <td>217.048611</td>\n",
       "      <td>127.744882</td>\n",
       "      <td>68.883364</td>\n",
       "      <td>67.227765</td>\n",
       "      <td>20.207842</td>\n",
       "      <td>56.609763</td>\n",
       "      <td>30.491646</td>\n",
       "      <td>2.722432</td>\n",
       "      <td>1.301740</td>\n",
       "    </tr>\n",
       "    <tr>\n",
       "      <th>min</th>\n",
       "      <td>1461.000000</td>\n",
       "      <td>20.000000</td>\n",
       "      <td>1470.000000</td>\n",
       "      <td>1.000000</td>\n",
       "      <td>1.000000</td>\n",
       "      <td>1879.000000</td>\n",
       "      <td>1950.000000</td>\n",
       "      <td>0.000000</td>\n",
       "      <td>0.000000</td>\n",
       "      <td>0.000000</td>\n",
       "      <td>...</td>\n",
       "      <td>0.000000</td>\n",
       "      <td>0.000000</td>\n",
       "      <td>0.000000</td>\n",
       "      <td>0.000000</td>\n",
       "      <td>0.000000</td>\n",
       "      <td>0.000000</td>\n",
       "      <td>0.000000</td>\n",
       "      <td>0.000000</td>\n",
       "      <td>1.000000</td>\n",
       "      <td>2006.000000</td>\n",
       "    </tr>\n",
       "    <tr>\n",
       "      <th>25%</th>\n",
       "      <td>1825.500000</td>\n",
       "      <td>20.000000</td>\n",
       "      <td>7391.000000</td>\n",
       "      <td>5.000000</td>\n",
       "      <td>5.000000</td>\n",
       "      <td>1953.000000</td>\n",
       "      <td>1963.000000</td>\n",
       "      <td>0.000000</td>\n",
       "      <td>0.000000</td>\n",
       "      <td>0.000000</td>\n",
       "      <td>...</td>\n",
       "      <td>1.000000</td>\n",
       "      <td>318.000000</td>\n",
       "      <td>0.000000</td>\n",
       "      <td>0.000000</td>\n",
       "      <td>0.000000</td>\n",
       "      <td>0.000000</td>\n",
       "      <td>0.000000</td>\n",
       "      <td>0.000000</td>\n",
       "      <td>4.000000</td>\n",
       "      <td>2007.000000</td>\n",
       "    </tr>\n",
       "    <tr>\n",
       "      <th>50%</th>\n",
       "      <td>2190.000000</td>\n",
       "      <td>50.000000</td>\n",
       "      <td>9399.000000</td>\n",
       "      <td>6.000000</td>\n",
       "      <td>5.000000</td>\n",
       "      <td>1973.000000</td>\n",
       "      <td>1992.000000</td>\n",
       "      <td>0.000000</td>\n",
       "      <td>350.500000</td>\n",
       "      <td>0.000000</td>\n",
       "      <td>...</td>\n",
       "      <td>2.000000</td>\n",
       "      <td>480.000000</td>\n",
       "      <td>0.000000</td>\n",
       "      <td>28.000000</td>\n",
       "      <td>0.000000</td>\n",
       "      <td>0.000000</td>\n",
       "      <td>0.000000</td>\n",
       "      <td>0.000000</td>\n",
       "      <td>6.000000</td>\n",
       "      <td>2008.000000</td>\n",
       "    </tr>\n",
       "    <tr>\n",
       "      <th>75%</th>\n",
       "      <td>2554.500000</td>\n",
       "      <td>70.000000</td>\n",
       "      <td>11517.500000</td>\n",
       "      <td>7.000000</td>\n",
       "      <td>6.000000</td>\n",
       "      <td>2001.000000</td>\n",
       "      <td>2004.000000</td>\n",
       "      <td>164.000000</td>\n",
       "      <td>753.500000</td>\n",
       "      <td>0.000000</td>\n",
       "      <td>...</td>\n",
       "      <td>2.000000</td>\n",
       "      <td>576.000000</td>\n",
       "      <td>168.000000</td>\n",
       "      <td>72.000000</td>\n",
       "      <td>0.000000</td>\n",
       "      <td>0.000000</td>\n",
       "      <td>0.000000</td>\n",
       "      <td>0.000000</td>\n",
       "      <td>8.000000</td>\n",
       "      <td>2009.000000</td>\n",
       "    </tr>\n",
       "    <tr>\n",
       "      <th>max</th>\n",
       "      <td>2919.000000</td>\n",
       "      <td>190.000000</td>\n",
       "      <td>56600.000000</td>\n",
       "      <td>10.000000</td>\n",
       "      <td>9.000000</td>\n",
       "      <td>2010.000000</td>\n",
       "      <td>2010.000000</td>\n",
       "      <td>1290.000000</td>\n",
       "      <td>4010.000000</td>\n",
       "      <td>1526.000000</td>\n",
       "      <td>...</td>\n",
       "      <td>5.000000</td>\n",
       "      <td>1488.000000</td>\n",
       "      <td>1424.000000</td>\n",
       "      <td>742.000000</td>\n",
       "      <td>1012.000000</td>\n",
       "      <td>360.000000</td>\n",
       "      <td>576.000000</td>\n",
       "      <td>800.000000</td>\n",
       "      <td>12.000000</td>\n",
       "      <td>2010.000000</td>\n",
       "    </tr>\n",
       "  </tbody>\n",
       "</table>\n",
       "<p>8 rows × 35 columns</p>\n",
       "</div>"
      ],
      "text/plain": [
       "                Id   MSSubClass       LotArea  OverallQual  OverallCond  \\\n",
       "count  1459.000000  1459.000000   1459.000000  1459.000000  1459.000000   \n",
       "mean   2190.000000    57.378341   9819.161069     6.078821     5.553804   \n",
       "std     421.321334    42.746880   4955.517327     1.436812     1.113740   \n",
       "min    1461.000000    20.000000   1470.000000     1.000000     1.000000   \n",
       "25%    1825.500000    20.000000   7391.000000     5.000000     5.000000   \n",
       "50%    2190.000000    50.000000   9399.000000     6.000000     5.000000   \n",
       "75%    2554.500000    70.000000  11517.500000     7.000000     6.000000   \n",
       "max    2919.000000   190.000000  56600.000000    10.000000     9.000000   \n",
       "\n",
       "         YearBuilt  YearRemodAdd   MasVnrArea   BsmtFinSF1   BsmtFinSF2  ...  \\\n",
       "count  1459.000000   1459.000000  1444.000000  1458.000000  1458.000000  ...   \n",
       "mean   1971.357779   1983.662783   100.709141   439.203704    52.619342  ...   \n",
       "std      30.390071     21.130467   177.625900   455.268042   176.753926  ...   \n",
       "min    1879.000000   1950.000000     0.000000     0.000000     0.000000  ...   \n",
       "25%    1953.000000   1963.000000     0.000000     0.000000     0.000000  ...   \n",
       "50%    1973.000000   1992.000000     0.000000   350.500000     0.000000  ...   \n",
       "75%    2001.000000   2004.000000   164.000000   753.500000     0.000000  ...   \n",
       "max    2010.000000   2010.000000  1290.000000  4010.000000  1526.000000  ...   \n",
       "\n",
       "        GarageCars   GarageArea   WoodDeckSF  OpenPorchSF  EnclosedPorch  \\\n",
       "count  1458.000000  1458.000000  1459.000000  1459.000000    1459.000000   \n",
       "mean      1.766118   472.768861    93.174777    48.313914      24.243317   \n",
       "std       0.775945   217.048611   127.744882    68.883364      67.227765   \n",
       "min       0.000000     0.000000     0.000000     0.000000       0.000000   \n",
       "25%       1.000000   318.000000     0.000000     0.000000       0.000000   \n",
       "50%       2.000000   480.000000     0.000000    28.000000       0.000000   \n",
       "75%       2.000000   576.000000   168.000000    72.000000       0.000000   \n",
       "max       5.000000  1488.000000  1424.000000   742.000000    1012.000000   \n",
       "\n",
       "         3SsnPorch  ScreenPorch     PoolArea       MoSold       YrSold  \n",
       "count  1459.000000  1459.000000  1459.000000  1459.000000  1459.000000  \n",
       "mean      1.794380    17.064428     1.744345     6.104181  2007.769705  \n",
       "std      20.207842    56.609763    30.491646     2.722432     1.301740  \n",
       "min       0.000000     0.000000     0.000000     1.000000  2006.000000  \n",
       "25%       0.000000     0.000000     0.000000     4.000000  2007.000000  \n",
       "50%       0.000000     0.000000     0.000000     6.000000  2008.000000  \n",
       "75%       0.000000     0.000000     0.000000     8.000000  2009.000000  \n",
       "max     360.000000   576.000000   800.000000    12.000000  2010.000000  \n",
       "\n",
       "[8 rows x 35 columns]"
      ]
     },
     "execution_count": 52,
     "metadata": {},
     "output_type": "execute_result"
    }
   ],
   "source": [
    "# Colunas com os dados númericos\n",
    "\n",
    "teste_numericos = teste_data.select_dtypes(include=['int64', 'float64'])\n",
    "teste_numericos.describe()"
   ]
  },
  {
   "cell_type": "code",
   "execution_count": 53,
   "id": "7189b759",
   "metadata": {},
   "outputs": [
    {
     "data": {
      "text/plain": [
       "Index(['Id', 'MSSubClass', 'LotArea', 'OverallQual', 'OverallCond',\n",
       "       'YearBuilt', 'YearRemodAdd', 'MasVnrArea', 'BsmtFinSF1', 'BsmtFinSF2',\n",
       "       'BsmtUnfSF', 'TotalBsmtSF', '1stFlrSF', '2ndFlrSF', 'LowQualFinSF',\n",
       "       'GrLivArea', 'BsmtFullBath', 'BsmtHalfBath', 'FullBath', 'HalfBath',\n",
       "       'BedroomAbvGr', 'KitchenAbvGr', 'TotRmsAbvGrd', 'Fireplaces',\n",
       "       'GarageYrBlt', 'GarageCars', 'GarageArea', 'WoodDeckSF', 'OpenPorchSF',\n",
       "       'EnclosedPorch', '3SsnPorch', 'ScreenPorch', 'PoolArea', 'MoSold',\n",
       "       'YrSold'],\n",
       "      dtype='object')"
      ]
     },
     "execution_count": 53,
     "metadata": {},
     "output_type": "execute_result"
    }
   ],
   "source": [
    "# Lista com as colunas numéricas da base de treinamento. As colunas MSSubClass, OverallQuall e OverallCond não entram nessa categória pois\n",
    "# os números representam dados categóricos.\n",
    "\n",
    "teste_numericos.columns"
   ]
  },
  {
   "cell_type": "markdown",
   "id": "741d1ce3",
   "metadata": {},
   "source": [
    "#### Análise colunas categóricas"
   ]
  },
  {
   "cell_type": "code",
   "execution_count": 54,
   "id": "59ff11be",
   "metadata": {
    "execution": {
     "iopub.execute_input": "2023-06-21T16:49:37.568869Z",
     "iopub.status.busy": "2023-06-21T16:49:37.568458Z",
     "iopub.status.idle": "2023-06-21T16:49:37.593322Z",
     "shell.execute_reply": "2023-06-21T16:49:37.591962Z",
     "shell.execute_reply.started": "2023-06-21T16:49:37.568834Z"
    },
    "scrolled": true
   },
   "outputs": [
    {
     "data": {
      "text/html": [
       "<div>\n",
       "<style scoped>\n",
       "    .dataframe tbody tr th:only-of-type {\n",
       "        vertical-align: middle;\n",
       "    }\n",
       "\n",
       "    .dataframe tbody tr th {\n",
       "        vertical-align: top;\n",
       "    }\n",
       "\n",
       "    .dataframe thead th {\n",
       "        text-align: right;\n",
       "    }\n",
       "</style>\n",
       "<table border=\"1\" class=\"dataframe\">\n",
       "  <thead>\n",
       "    <tr style=\"text-align: right;\">\n",
       "      <th></th>\n",
       "      <th>MSZoning</th>\n",
       "      <th>Street</th>\n",
       "      <th>LotShape</th>\n",
       "      <th>LandContour</th>\n",
       "      <th>Utilities</th>\n",
       "      <th>LotConfig</th>\n",
       "      <th>LandSlope</th>\n",
       "      <th>Neighborhood</th>\n",
       "      <th>Condition1</th>\n",
       "      <th>Condition2</th>\n",
       "      <th>...</th>\n",
       "      <th>Electrical</th>\n",
       "      <th>KitchenQual</th>\n",
       "      <th>Functional</th>\n",
       "      <th>GarageType</th>\n",
       "      <th>GarageFinish</th>\n",
       "      <th>GarageQual</th>\n",
       "      <th>GarageCond</th>\n",
       "      <th>PavedDrive</th>\n",
       "      <th>SaleType</th>\n",
       "      <th>SaleCondition</th>\n",
       "    </tr>\n",
       "  </thead>\n",
       "  <tbody>\n",
       "    <tr>\n",
       "      <th>count</th>\n",
       "      <td>1455</td>\n",
       "      <td>1459</td>\n",
       "      <td>1459</td>\n",
       "      <td>1459</td>\n",
       "      <td>1457</td>\n",
       "      <td>1459</td>\n",
       "      <td>1459</td>\n",
       "      <td>1459</td>\n",
       "      <td>1459</td>\n",
       "      <td>1459</td>\n",
       "      <td>...</td>\n",
       "      <td>1459</td>\n",
       "      <td>1458</td>\n",
       "      <td>1457</td>\n",
       "      <td>1383</td>\n",
       "      <td>1381</td>\n",
       "      <td>1381</td>\n",
       "      <td>1381</td>\n",
       "      <td>1459</td>\n",
       "      <td>1458</td>\n",
       "      <td>1459</td>\n",
       "    </tr>\n",
       "    <tr>\n",
       "      <th>unique</th>\n",
       "      <td>5</td>\n",
       "      <td>2</td>\n",
       "      <td>4</td>\n",
       "      <td>4</td>\n",
       "      <td>1</td>\n",
       "      <td>5</td>\n",
       "      <td>3</td>\n",
       "      <td>25</td>\n",
       "      <td>9</td>\n",
       "      <td>5</td>\n",
       "      <td>...</td>\n",
       "      <td>4</td>\n",
       "      <td>4</td>\n",
       "      <td>7</td>\n",
       "      <td>6</td>\n",
       "      <td>3</td>\n",
       "      <td>4</td>\n",
       "      <td>5</td>\n",
       "      <td>3</td>\n",
       "      <td>9</td>\n",
       "      <td>6</td>\n",
       "    </tr>\n",
       "    <tr>\n",
       "      <th>top</th>\n",
       "      <td>RL</td>\n",
       "      <td>Pave</td>\n",
       "      <td>Reg</td>\n",
       "      <td>Lvl</td>\n",
       "      <td>AllPub</td>\n",
       "      <td>Inside</td>\n",
       "      <td>Gtl</td>\n",
       "      <td>NAmes</td>\n",
       "      <td>Norm</td>\n",
       "      <td>Norm</td>\n",
       "      <td>...</td>\n",
       "      <td>SBrkr</td>\n",
       "      <td>TA</td>\n",
       "      <td>Typ</td>\n",
       "      <td>Attchd</td>\n",
       "      <td>Unf</td>\n",
       "      <td>TA</td>\n",
       "      <td>TA</td>\n",
       "      <td>Y</td>\n",
       "      <td>WD</td>\n",
       "      <td>Normal</td>\n",
       "    </tr>\n",
       "    <tr>\n",
       "      <th>freq</th>\n",
       "      <td>1114</td>\n",
       "      <td>1453</td>\n",
       "      <td>934</td>\n",
       "      <td>1311</td>\n",
       "      <td>1457</td>\n",
       "      <td>1081</td>\n",
       "      <td>1396</td>\n",
       "      <td>218</td>\n",
       "      <td>1251</td>\n",
       "      <td>1444</td>\n",
       "      <td>...</td>\n",
       "      <td>1337</td>\n",
       "      <td>757</td>\n",
       "      <td>1357</td>\n",
       "      <td>853</td>\n",
       "      <td>625</td>\n",
       "      <td>1293</td>\n",
       "      <td>1328</td>\n",
       "      <td>1301</td>\n",
       "      <td>1258</td>\n",
       "      <td>1204</td>\n",
       "    </tr>\n",
       "  </tbody>\n",
       "</table>\n",
       "<p>4 rows × 38 columns</p>\n",
       "</div>"
      ],
      "text/plain": [
       "       MSZoning Street LotShape LandContour Utilities LotConfig LandSlope  \\\n",
       "count      1455   1459     1459        1459      1457      1459      1459   \n",
       "unique        5      2        4           4         1         5         3   \n",
       "top          RL   Pave      Reg         Lvl    AllPub    Inside       Gtl   \n",
       "freq       1114   1453      934        1311      1457      1081      1396   \n",
       "\n",
       "       Neighborhood Condition1 Condition2  ... Electrical KitchenQual  \\\n",
       "count          1459       1459       1459  ...       1459        1458   \n",
       "unique           25          9          5  ...          4           4   \n",
       "top           NAmes       Norm       Norm  ...      SBrkr          TA   \n",
       "freq            218       1251       1444  ...       1337         757   \n",
       "\n",
       "       Functional GarageType GarageFinish GarageQual GarageCond PavedDrive  \\\n",
       "count        1457       1383         1381       1381       1381       1459   \n",
       "unique          7          6            3          4          5          3   \n",
       "top           Typ     Attchd          Unf         TA         TA          Y   \n",
       "freq         1357        853          625       1293       1328       1301   \n",
       "\n",
       "       SaleType SaleCondition  \n",
       "count      1458          1459  \n",
       "unique        9             6  \n",
       "top          WD        Normal  \n",
       "freq       1258          1204  \n",
       "\n",
       "[4 rows x 38 columns]"
      ]
     },
     "execution_count": 54,
     "metadata": {},
     "output_type": "execute_result"
    }
   ],
   "source": [
    "# Colunas com os dados categôricos\n",
    "\n",
    "teste_categoricos = teste_data.select_dtypes(include=['object'])\n",
    "teste_categoricos.describe()"
   ]
  },
  {
   "cell_type": "code",
   "execution_count": 55,
   "id": "9baa826d",
   "metadata": {},
   "outputs": [
    {
     "data": {
      "text/plain": [
       "Index(['MSZoning', 'Street', 'LotShape', 'LandContour', 'Utilities',\n",
       "       'LotConfig', 'LandSlope', 'Neighborhood', 'Condition1', 'Condition2',\n",
       "       'BldgType', 'HouseStyle', 'RoofStyle', 'RoofMatl', 'Exterior1st',\n",
       "       'Exterior2nd', 'MasVnrType', 'ExterQual', 'ExterCond', 'Foundation',\n",
       "       'BsmtQual', 'BsmtCond', 'BsmtExposure', 'BsmtFinType1', 'BsmtFinType2',\n",
       "       'Heating', 'HeatingQC', 'CentralAir', 'Electrical', 'KitchenQual',\n",
       "       'Functional', 'GarageType', 'GarageFinish', 'GarageQual', 'GarageCond',\n",
       "       'PavedDrive', 'SaleType', 'SaleCondition'],\n",
       "      dtype='object')"
      ]
     },
     "execution_count": 55,
     "metadata": {},
     "output_type": "execute_result"
    }
   ],
   "source": [
    "# Lista com as colunas categóricas da base de treinamento. As colunas MSSubClass, OverallQuall e OverallCond, foram consideradas\n",
    "# categóricas por representar de forma numérica dados categóricos.\n",
    "\n",
    "teste_categoricos.columns"
   ]
  },
  {
   "cell_type": "markdown",
   "id": "aba5641f",
   "metadata": {},
   "source": [
    "####  Valores Nulos"
   ]
  },
  {
   "cell_type": "markdown",
   "id": "03467a74",
   "metadata": {},
   "source": [
    "#### Tratamento de valores numéricos nulos"
   ]
  },
  {
   "cell_type": "code",
   "execution_count": 56,
   "id": "137ccc44",
   "metadata": {
    "execution": {
     "iopub.execute_input": "2023-06-21T16:49:30.597881Z",
     "iopub.status.busy": "2023-06-21T16:49:30.597491Z",
     "iopub.status.idle": "2023-06-21T16:49:30.612021Z",
     "shell.execute_reply": "2023-06-21T16:49:30.610900Z",
     "shell.execute_reply.started": "2023-06-21T16:49:30.597849Z"
    },
    "scrolled": false
   },
   "outputs": [],
   "source": [
    "# Colunas com valores nulos\n",
    "\n",
    "nulos = teste_numericos.isnull().sum()"
   ]
  },
  {
   "cell_type": "code",
   "execution_count": 57,
   "id": "25296636",
   "metadata": {
    "execution": {
     "iopub.execute_input": "2023-06-21T16:49:30.932340Z",
     "iopub.status.busy": "2023-06-21T16:49:30.931899Z",
     "iopub.status.idle": "2023-06-21T16:49:30.941528Z",
     "shell.execute_reply": "2023-06-21T16:49:30.940317Z",
     "shell.execute_reply.started": "2023-06-21T16:49:30.932304Z"
    },
    "scrolled": false
   },
   "outputs": [
    {
     "data": {
      "text/plain": [
       "Id                0\n",
       "MSSubClass        0\n",
       "LotArea           0\n",
       "OverallQual       0\n",
       "OverallCond       0\n",
       "YearBuilt         0\n",
       "YearRemodAdd      0\n",
       "MasVnrArea       15\n",
       "BsmtFinSF1        1\n",
       "BsmtFinSF2        1\n",
       "BsmtUnfSF         1\n",
       "TotalBsmtSF       1\n",
       "1stFlrSF          0\n",
       "2ndFlrSF          0\n",
       "LowQualFinSF      0\n",
       "GrLivArea         0\n",
       "BsmtFullBath      2\n",
       "BsmtHalfBath      2\n",
       "FullBath          0\n",
       "HalfBath          0\n",
       "BedroomAbvGr      0\n",
       "KitchenAbvGr      0\n",
       "TotRmsAbvGrd      0\n",
       "Fireplaces        0\n",
       "GarageYrBlt      78\n",
       "GarageCars        1\n",
       "GarageArea        1\n",
       "WoodDeckSF        0\n",
       "OpenPorchSF       0\n",
       "EnclosedPorch     0\n",
       "3SsnPorch         0\n",
       "ScreenPorch       0\n",
       "PoolArea          0\n",
       "MoSold            0\n",
       "YrSold            0\n",
       "dtype: int64"
      ]
     },
     "execution_count": 57,
     "metadata": {},
     "output_type": "execute_result"
    }
   ],
   "source": [
    "# Quantidade de valores nulos\n",
    "\n",
    "nulos.head(50)\n",
    " "
   ]
  },
  {
   "cell_type": "code",
   "execution_count": 58,
   "id": "edc0cf5a",
   "metadata": {},
   "outputs": [
    {
     "data": {
      "text/plain": [
       "['MasVnrArea',\n",
       " 'BsmtFinSF1',\n",
       " 'BsmtFinSF2',\n",
       " 'BsmtUnfSF',\n",
       " 'TotalBsmtSF',\n",
       " 'BsmtFullBath',\n",
       " 'BsmtHalfBath',\n",
       " 'GarageYrBlt',\n",
       " 'GarageCars',\n",
       " 'GarageArea']"
      ]
     },
     "execution_count": 58,
     "metadata": {},
     "output_type": "execute_result"
    }
   ],
   "source": [
    "colunastest_com_valores_nulos = []\n",
    "for c in nulos.items():\n",
    "    if c[1] > 0:\n",
    "        colunastest_com_valores_nulos.append(c[0])\n",
    "colunastest_com_valores_nulos"
   ]
  },
  {
   "cell_type": "code",
   "execution_count": 59,
   "id": "57dfc24a",
   "metadata": {},
   "outputs": [],
   "source": [
    "imp_constat = SimpleImputer(missing_values=np.nan, strategy='median')\n",
    "imputer = imp_constat.fit(teste_data[colunastest_com_valores_nulos])\n",
    "teste_data[colunastest_com_valores_nulos] = imputer.transform(teste_data[colunastest_com_valores_nulos])"
   ]
  },
  {
   "cell_type": "code",
   "execution_count": 60,
   "id": "fb102491",
   "metadata": {},
   "outputs": [
    {
     "name": "stdout",
     "output_type": "stream",
     "text": [
      "<class 'pandas.core.frame.DataFrame'>\n",
      "RangeIndex: 1459 entries, 0 to 1458\n",
      "Data columns (total 73 columns):\n",
      " #   Column         Non-Null Count  Dtype  \n",
      "---  ------         --------------  -----  \n",
      " 0   Id             1459 non-null   int64  \n",
      " 1   MSSubClass     1459 non-null   int64  \n",
      " 2   MSZoning       1455 non-null   object \n",
      " 3   LotArea        1459 non-null   int64  \n",
      " 4   Street         1459 non-null   object \n",
      " 5   LotShape       1459 non-null   object \n",
      " 6   LandContour    1459 non-null   object \n",
      " 7   Utilities      1457 non-null   object \n",
      " 8   LotConfig      1459 non-null   object \n",
      " 9   LandSlope      1459 non-null   object \n",
      " 10  Neighborhood   1459 non-null   object \n",
      " 11  Condition1     1459 non-null   object \n",
      " 12  Condition2     1459 non-null   object \n",
      " 13  BldgType       1459 non-null   object \n",
      " 14  HouseStyle     1459 non-null   object \n",
      " 15  OverallQual    1459 non-null   int64  \n",
      " 16  OverallCond    1459 non-null   int64  \n",
      " 17  YearBuilt      1459 non-null   int64  \n",
      " 18  YearRemodAdd   1459 non-null   int64  \n",
      " 19  RoofStyle      1459 non-null   object \n",
      " 20  RoofMatl       1459 non-null   object \n",
      " 21  Exterior1st    1458 non-null   object \n",
      " 22  Exterior2nd    1458 non-null   object \n",
      " 23  MasVnrType     1443 non-null   object \n",
      " 24  MasVnrArea     1459 non-null   float64\n",
      " 25  ExterQual      1459 non-null   object \n",
      " 26  ExterCond      1459 non-null   object \n",
      " 27  Foundation     1459 non-null   object \n",
      " 28  BsmtQual       1415 non-null   object \n",
      " 29  BsmtCond       1414 non-null   object \n",
      " 30  BsmtExposure   1415 non-null   object \n",
      " 31  BsmtFinType1   1417 non-null   object \n",
      " 32  BsmtFinSF1     1459 non-null   float64\n",
      " 33  BsmtFinType2   1417 non-null   object \n",
      " 34  BsmtFinSF2     1459 non-null   float64\n",
      " 35  BsmtUnfSF      1459 non-null   float64\n",
      " 36  TotalBsmtSF    1459 non-null   float64\n",
      " 37  Heating        1459 non-null   object \n",
      " 38  HeatingQC      1459 non-null   object \n",
      " 39  CentralAir     1459 non-null   object \n",
      " 40  Electrical     1459 non-null   object \n",
      " 41  1stFlrSF       1459 non-null   int64  \n",
      " 42  2ndFlrSF       1459 non-null   int64  \n",
      " 43  LowQualFinSF   1459 non-null   int64  \n",
      " 44  GrLivArea      1459 non-null   int64  \n",
      " 45  BsmtFullBath   1459 non-null   float64\n",
      " 46  BsmtHalfBath   1459 non-null   float64\n",
      " 47  FullBath       1459 non-null   int64  \n",
      " 48  HalfBath       1459 non-null   int64  \n",
      " 49  BedroomAbvGr   1459 non-null   int64  \n",
      " 50  KitchenAbvGr   1459 non-null   int64  \n",
      " 51  KitchenQual    1458 non-null   object \n",
      " 52  TotRmsAbvGrd   1459 non-null   int64  \n",
      " 53  Functional     1457 non-null   object \n",
      " 54  Fireplaces     1459 non-null   int64  \n",
      " 55  GarageType     1383 non-null   object \n",
      " 56  GarageYrBlt    1459 non-null   float64\n",
      " 57  GarageFinish   1381 non-null   object \n",
      " 58  GarageCars     1459 non-null   float64\n",
      " 59  GarageArea     1459 non-null   float64\n",
      " 60  GarageQual     1381 non-null   object \n",
      " 61  GarageCond     1381 non-null   object \n",
      " 62  PavedDrive     1459 non-null   object \n",
      " 63  WoodDeckSF     1459 non-null   int64  \n",
      " 64  OpenPorchSF    1459 non-null   int64  \n",
      " 65  EnclosedPorch  1459 non-null   int64  \n",
      " 66  3SsnPorch      1459 non-null   int64  \n",
      " 67  ScreenPorch    1459 non-null   int64  \n",
      " 68  PoolArea       1459 non-null   int64  \n",
      " 69  MoSold         1459 non-null   int64  \n",
      " 70  YrSold         1459 non-null   int64  \n",
      " 71  SaleType       1458 non-null   object \n",
      " 72  SaleCondition  1459 non-null   object \n",
      "dtypes: float64(10), int64(25), object(38)\n",
      "memory usage: 832.2+ KB\n"
     ]
    }
   ],
   "source": [
    "teste_data.info()"
   ]
  },
  {
   "cell_type": "markdown",
   "id": "963d3c5f",
   "metadata": {},
   "source": [
    "#### Tratamento de valores categoricos nulos"
   ]
  },
  {
   "cell_type": "markdown",
   "id": "4b665997",
   "metadata": {},
   "source": [
    "###### O traramento de variáveis categóricas nulas será realizado utilizando o algorítimo simple imputer da biblioteca do Sklearn. Um dos parâmetros do SimpleImputer e a strategy, no qual é definido se você quer usar a média, a mediana, a moda ou constant, para preechencer os dados faltantes, sendo a constant a opção a ser utilizada. Essa estratégia consiste em preencher a célula com o dado faltante, com o valor da célula acíma."
   ]
  },
  {
   "cell_type": "code",
   "execution_count": 61,
   "id": "656cc70e",
   "metadata": {},
   "outputs": [],
   "source": [
    "imp_constat = SimpleImputer(missing_values=np.nan, strategy='constant')"
   ]
  },
  {
   "cell_type": "markdown",
   "id": "6717ddd8",
   "metadata": {},
   "source": [
    "##### Quantidade de valores nulos por coluna categórica"
   ]
  },
  {
   "cell_type": "code",
   "execution_count": 62,
   "id": "7048bd97",
   "metadata": {},
   "outputs": [
    {
     "data": {
      "text/plain": [
       "MSZoning          4\n",
       "Street            0\n",
       "LotShape          0\n",
       "LandContour       0\n",
       "Utilities         2\n",
       "LotConfig         0\n",
       "LandSlope         0\n",
       "Neighborhood      0\n",
       "Condition1        0\n",
       "Condition2        0\n",
       "BldgType          0\n",
       "HouseStyle        0\n",
       "RoofStyle         0\n",
       "RoofMatl          0\n",
       "Exterior1st       1\n",
       "Exterior2nd       1\n",
       "MasVnrType       16\n",
       "ExterQual         0\n",
       "ExterCond         0\n",
       "Foundation        0\n",
       "BsmtQual         44\n",
       "BsmtCond         45\n",
       "BsmtExposure     44\n",
       "BsmtFinType1     42\n",
       "BsmtFinType2     42\n",
       "Heating           0\n",
       "HeatingQC         0\n",
       "CentralAir        0\n",
       "Electrical        0\n",
       "KitchenQual       1\n",
       "Functional        2\n",
       "GarageType       76\n",
       "GarageFinish     78\n",
       "GarageQual       78\n",
       "GarageCond       78\n",
       "PavedDrive        0\n",
       "SaleType          1\n",
       "SaleCondition     0\n",
       "dtype: int64"
      ]
     },
     "execution_count": 62,
     "metadata": {},
     "output_type": "execute_result"
    }
   ],
   "source": [
    "nulos2 = teste_categoricos.isnull().sum()\n",
    "nulos2.head(50)"
   ]
  },
  {
   "cell_type": "code",
   "execution_count": 63,
   "id": "fec6ad4a",
   "metadata": {},
   "outputs": [
    {
     "data": {
      "text/plain": [
       "['MSZoning',\n",
       " 'Utilities',\n",
       " 'Exterior1st',\n",
       " 'Exterior2nd',\n",
       " 'MasVnrType',\n",
       " 'BsmtQual',\n",
       " 'BsmtCond',\n",
       " 'BsmtExposure',\n",
       " 'BsmtFinType1',\n",
       " 'BsmtFinType2',\n",
       " 'KitchenQual',\n",
       " 'Functional',\n",
       " 'GarageType',\n",
       " 'GarageFinish',\n",
       " 'GarageQual',\n",
       " 'GarageCond',\n",
       " 'SaleType']"
      ]
     },
     "execution_count": 63,
     "metadata": {},
     "output_type": "execute_result"
    }
   ],
   "source": [
    "colunas_com_valores_nulos = []\n",
    "for c in nulos2.items():\n",
    "    if c[1] > 0:\n",
    "        colunas_com_valores_nulos.append(c[0])\n",
    "colunas_com_valores_nulos"
   ]
  },
  {
   "cell_type": "code",
   "execution_count": 64,
   "id": "77b497c8",
   "metadata": {},
   "outputs": [],
   "source": [
    "imputer = imp_constat.fit(teste_data[colunas_com_valores_nulos])\n",
    "teste_data[colunas_com_valores_nulos] = imputer.transform(teste_data[colunas_com_valores_nulos])"
   ]
  },
  {
   "cell_type": "code",
   "execution_count": 65,
   "id": "3ec92459",
   "metadata": {
    "scrolled": true
   },
   "outputs": [
    {
     "name": "stdout",
     "output_type": "stream",
     "text": [
      "<class 'pandas.core.frame.DataFrame'>\n",
      "RangeIndex: 1459 entries, 0 to 1458\n",
      "Data columns (total 73 columns):\n",
      " #   Column         Non-Null Count  Dtype  \n",
      "---  ------         --------------  -----  \n",
      " 0   Id             1459 non-null   int64  \n",
      " 1   MSSubClass     1459 non-null   int64  \n",
      " 2   MSZoning       1459 non-null   object \n",
      " 3   LotArea        1459 non-null   int64  \n",
      " 4   Street         1459 non-null   object \n",
      " 5   LotShape       1459 non-null   object \n",
      " 6   LandContour    1459 non-null   object \n",
      " 7   Utilities      1459 non-null   object \n",
      " 8   LotConfig      1459 non-null   object \n",
      " 9   LandSlope      1459 non-null   object \n",
      " 10  Neighborhood   1459 non-null   object \n",
      " 11  Condition1     1459 non-null   object \n",
      " 12  Condition2     1459 non-null   object \n",
      " 13  BldgType       1459 non-null   object \n",
      " 14  HouseStyle     1459 non-null   object \n",
      " 15  OverallQual    1459 non-null   int64  \n",
      " 16  OverallCond    1459 non-null   int64  \n",
      " 17  YearBuilt      1459 non-null   int64  \n",
      " 18  YearRemodAdd   1459 non-null   int64  \n",
      " 19  RoofStyle      1459 non-null   object \n",
      " 20  RoofMatl       1459 non-null   object \n",
      " 21  Exterior1st    1459 non-null   object \n",
      " 22  Exterior2nd    1459 non-null   object \n",
      " 23  MasVnrType     1459 non-null   object \n",
      " 24  MasVnrArea     1459 non-null   float64\n",
      " 25  ExterQual      1459 non-null   object \n",
      " 26  ExterCond      1459 non-null   object \n",
      " 27  Foundation     1459 non-null   object \n",
      " 28  BsmtQual       1459 non-null   object \n",
      " 29  BsmtCond       1459 non-null   object \n",
      " 30  BsmtExposure   1459 non-null   object \n",
      " 31  BsmtFinType1   1459 non-null   object \n",
      " 32  BsmtFinSF1     1459 non-null   float64\n",
      " 33  BsmtFinType2   1459 non-null   object \n",
      " 34  BsmtFinSF2     1459 non-null   float64\n",
      " 35  BsmtUnfSF      1459 non-null   float64\n",
      " 36  TotalBsmtSF    1459 non-null   float64\n",
      " 37  Heating        1459 non-null   object \n",
      " 38  HeatingQC      1459 non-null   object \n",
      " 39  CentralAir     1459 non-null   object \n",
      " 40  Electrical     1459 non-null   object \n",
      " 41  1stFlrSF       1459 non-null   int64  \n",
      " 42  2ndFlrSF       1459 non-null   int64  \n",
      " 43  LowQualFinSF   1459 non-null   int64  \n",
      " 44  GrLivArea      1459 non-null   int64  \n",
      " 45  BsmtFullBath   1459 non-null   float64\n",
      " 46  BsmtHalfBath   1459 non-null   float64\n",
      " 47  FullBath       1459 non-null   int64  \n",
      " 48  HalfBath       1459 non-null   int64  \n",
      " 49  BedroomAbvGr   1459 non-null   int64  \n",
      " 50  KitchenAbvGr   1459 non-null   int64  \n",
      " 51  KitchenQual    1459 non-null   object \n",
      " 52  TotRmsAbvGrd   1459 non-null   int64  \n",
      " 53  Functional     1459 non-null   object \n",
      " 54  Fireplaces     1459 non-null   int64  \n",
      " 55  GarageType     1459 non-null   object \n",
      " 56  GarageYrBlt    1459 non-null   float64\n",
      " 57  GarageFinish   1459 non-null   object \n",
      " 58  GarageCars     1459 non-null   float64\n",
      " 59  GarageArea     1459 non-null   float64\n",
      " 60  GarageQual     1459 non-null   object \n",
      " 61  GarageCond     1459 non-null   object \n",
      " 62  PavedDrive     1459 non-null   object \n",
      " 63  WoodDeckSF     1459 non-null   int64  \n",
      " 64  OpenPorchSF    1459 non-null   int64  \n",
      " 65  EnclosedPorch  1459 non-null   int64  \n",
      " 66  3SsnPorch      1459 non-null   int64  \n",
      " 67  ScreenPorch    1459 non-null   int64  \n",
      " 68  PoolArea       1459 non-null   int64  \n",
      " 69  MoSold         1459 non-null   int64  \n",
      " 70  YrSold         1459 non-null   int64  \n",
      " 71  SaleType       1459 non-null   object \n",
      " 72  SaleCondition  1459 non-null   object \n",
      "dtypes: float64(10), int64(25), object(38)\n",
      "memory usage: 832.2+ KB\n"
     ]
    }
   ],
   "source": [
    "teste_data.info()"
   ]
  },
  {
   "cell_type": "markdown",
   "id": "ab1e7f86",
   "metadata": {},
   "source": [
    "### 4.2 - Pré-processamento dos dados"
   ]
  },
  {
   "cell_type": "code",
   "execution_count": 66,
   "id": "e747b9ce",
   "metadata": {
    "execution": {
     "iopub.execute_input": "2023-06-21T16:49:44.370693Z",
     "iopub.status.busy": "2023-06-21T16:49:44.369852Z",
     "iopub.status.idle": "2023-06-21T16:49:44.391926Z",
     "shell.execute_reply": "2023-06-21T16:49:44.390726Z",
     "shell.execute_reply.started": "2023-06-21T16:49:44.370648Z"
    }
   },
   "outputs": [
    {
     "data": {
      "text/html": [
       "<div>\n",
       "<style scoped>\n",
       "    .dataframe tbody tr th:only-of-type {\n",
       "        vertical-align: middle;\n",
       "    }\n",
       "\n",
       "    .dataframe tbody tr th {\n",
       "        vertical-align: top;\n",
       "    }\n",
       "\n",
       "    .dataframe thead th {\n",
       "        text-align: right;\n",
       "    }\n",
       "</style>\n",
       "<table border=\"1\" class=\"dataframe\">\n",
       "  <thead>\n",
       "    <tr style=\"text-align: right;\">\n",
       "      <th></th>\n",
       "      <th>Id</th>\n",
       "      <th>MSSubClass</th>\n",
       "      <th>MSZoning</th>\n",
       "      <th>LotArea</th>\n",
       "      <th>Street</th>\n",
       "      <th>LotShape</th>\n",
       "      <th>LandContour</th>\n",
       "      <th>Utilities</th>\n",
       "      <th>LotConfig</th>\n",
       "      <th>LandSlope</th>\n",
       "      <th>...</th>\n",
       "      <th>WoodDeckSF</th>\n",
       "      <th>OpenPorchSF</th>\n",
       "      <th>EnclosedPorch</th>\n",
       "      <th>3SsnPorch</th>\n",
       "      <th>ScreenPorch</th>\n",
       "      <th>PoolArea</th>\n",
       "      <th>MoSold</th>\n",
       "      <th>YrSold</th>\n",
       "      <th>SaleType</th>\n",
       "      <th>SaleCondition</th>\n",
       "    </tr>\n",
       "  </thead>\n",
       "  <tbody>\n",
       "    <tr>\n",
       "      <th>0</th>\n",
       "      <td>1461</td>\n",
       "      <td>20</td>\n",
       "      <td>RH</td>\n",
       "      <td>11622</td>\n",
       "      <td>Pave</td>\n",
       "      <td>Reg</td>\n",
       "      <td>Lvl</td>\n",
       "      <td>AllPub</td>\n",
       "      <td>Inside</td>\n",
       "      <td>Gtl</td>\n",
       "      <td>...</td>\n",
       "      <td>140</td>\n",
       "      <td>0</td>\n",
       "      <td>0</td>\n",
       "      <td>0</td>\n",
       "      <td>120</td>\n",
       "      <td>0</td>\n",
       "      <td>6</td>\n",
       "      <td>2010</td>\n",
       "      <td>WD</td>\n",
       "      <td>Normal</td>\n",
       "    </tr>\n",
       "    <tr>\n",
       "      <th>1</th>\n",
       "      <td>1462</td>\n",
       "      <td>20</td>\n",
       "      <td>RL</td>\n",
       "      <td>14267</td>\n",
       "      <td>Pave</td>\n",
       "      <td>IR1</td>\n",
       "      <td>Lvl</td>\n",
       "      <td>AllPub</td>\n",
       "      <td>Corner</td>\n",
       "      <td>Gtl</td>\n",
       "      <td>...</td>\n",
       "      <td>393</td>\n",
       "      <td>36</td>\n",
       "      <td>0</td>\n",
       "      <td>0</td>\n",
       "      <td>0</td>\n",
       "      <td>0</td>\n",
       "      <td>6</td>\n",
       "      <td>2010</td>\n",
       "      <td>WD</td>\n",
       "      <td>Normal</td>\n",
       "    </tr>\n",
       "    <tr>\n",
       "      <th>2</th>\n",
       "      <td>1463</td>\n",
       "      <td>60</td>\n",
       "      <td>RL</td>\n",
       "      <td>13830</td>\n",
       "      <td>Pave</td>\n",
       "      <td>IR1</td>\n",
       "      <td>Lvl</td>\n",
       "      <td>AllPub</td>\n",
       "      <td>Inside</td>\n",
       "      <td>Gtl</td>\n",
       "      <td>...</td>\n",
       "      <td>212</td>\n",
       "      <td>34</td>\n",
       "      <td>0</td>\n",
       "      <td>0</td>\n",
       "      <td>0</td>\n",
       "      <td>0</td>\n",
       "      <td>3</td>\n",
       "      <td>2010</td>\n",
       "      <td>WD</td>\n",
       "      <td>Normal</td>\n",
       "    </tr>\n",
       "    <tr>\n",
       "      <th>3</th>\n",
       "      <td>1464</td>\n",
       "      <td>60</td>\n",
       "      <td>RL</td>\n",
       "      <td>9978</td>\n",
       "      <td>Pave</td>\n",
       "      <td>IR1</td>\n",
       "      <td>Lvl</td>\n",
       "      <td>AllPub</td>\n",
       "      <td>Inside</td>\n",
       "      <td>Gtl</td>\n",
       "      <td>...</td>\n",
       "      <td>360</td>\n",
       "      <td>36</td>\n",
       "      <td>0</td>\n",
       "      <td>0</td>\n",
       "      <td>0</td>\n",
       "      <td>0</td>\n",
       "      <td>6</td>\n",
       "      <td>2010</td>\n",
       "      <td>WD</td>\n",
       "      <td>Normal</td>\n",
       "    </tr>\n",
       "    <tr>\n",
       "      <th>4</th>\n",
       "      <td>1465</td>\n",
       "      <td>120</td>\n",
       "      <td>RL</td>\n",
       "      <td>5005</td>\n",
       "      <td>Pave</td>\n",
       "      <td>IR1</td>\n",
       "      <td>HLS</td>\n",
       "      <td>AllPub</td>\n",
       "      <td>Inside</td>\n",
       "      <td>Gtl</td>\n",
       "      <td>...</td>\n",
       "      <td>0</td>\n",
       "      <td>82</td>\n",
       "      <td>0</td>\n",
       "      <td>0</td>\n",
       "      <td>144</td>\n",
       "      <td>0</td>\n",
       "      <td>1</td>\n",
       "      <td>2010</td>\n",
       "      <td>WD</td>\n",
       "      <td>Normal</td>\n",
       "    </tr>\n",
       "  </tbody>\n",
       "</table>\n",
       "<p>5 rows × 73 columns</p>\n",
       "</div>"
      ],
      "text/plain": [
       "     Id  MSSubClass MSZoning  LotArea Street LotShape LandContour Utilities  \\\n",
       "0  1461          20       RH    11622   Pave      Reg         Lvl    AllPub   \n",
       "1  1462          20       RL    14267   Pave      IR1         Lvl    AllPub   \n",
       "2  1463          60       RL    13830   Pave      IR1         Lvl    AllPub   \n",
       "3  1464          60       RL     9978   Pave      IR1         Lvl    AllPub   \n",
       "4  1465         120       RL     5005   Pave      IR1         HLS    AllPub   \n",
       "\n",
       "  LotConfig LandSlope  ... WoodDeckSF OpenPorchSF EnclosedPorch 3SsnPorch  \\\n",
       "0    Inside       Gtl  ...        140           0             0         0   \n",
       "1    Corner       Gtl  ...        393          36             0         0   \n",
       "2    Inside       Gtl  ...        212          34             0         0   \n",
       "3    Inside       Gtl  ...        360          36             0         0   \n",
       "4    Inside       Gtl  ...          0          82             0         0   \n",
       "\n",
       "  ScreenPorch  PoolArea  MoSold  YrSold  SaleType SaleCondition  \n",
       "0         120         0       6    2010        WD        Normal  \n",
       "1           0         0       6    2010        WD        Normal  \n",
       "2           0         0       3    2010        WD        Normal  \n",
       "3           0         0       6    2010        WD        Normal  \n",
       "4         144         0       1    2010        WD        Normal  \n",
       "\n",
       "[5 rows x 73 columns]"
      ]
     },
     "execution_count": 66,
     "metadata": {},
     "output_type": "execute_result"
    }
   ],
   "source": [
    "teste_data.head()"
   ]
  },
  {
   "cell_type": "code",
   "execution_count": 67,
   "id": "3998afba",
   "metadata": {
    "execution": {
     "iopub.execute_input": "2023-06-21T16:49:44.692611Z",
     "iopub.status.busy": "2023-06-21T16:49:44.691687Z",
     "iopub.status.idle": "2023-06-21T16:49:44.702902Z",
     "shell.execute_reply": "2023-06-21T16:49:44.701611Z",
     "shell.execute_reply.started": "2023-06-21T16:49:44.692573Z"
    }
   },
   "outputs": [],
   "source": [
    "X_teste_data = teste_data.iloc[:, 1:].values"
   ]
  },
  {
   "cell_type": "code",
   "execution_count": 68,
   "id": "98f009ca",
   "metadata": {
    "execution": {
     "iopub.execute_input": "2023-06-21T16:49:45.735396Z",
     "iopub.status.busy": "2023-06-21T16:49:45.734683Z",
     "iopub.status.idle": "2023-06-21T16:49:45.742458Z",
     "shell.execute_reply": "2023-06-21T16:49:45.741182Z",
     "shell.execute_reply.started": "2023-06-21T16:49:45.735357Z"
    },
    "scrolled": false
   },
   "outputs": [
    {
     "data": {
      "text/plain": [
       "array([[20, 'RH', 11622, ..., 2010, 'WD', 'Normal'],\n",
       "       [20, 'RL', 14267, ..., 2010, 'WD', 'Normal'],\n",
       "       [60, 'RL', 13830, ..., 2010, 'WD', 'Normal'],\n",
       "       ...,\n",
       "       [20, 'RL', 20000, ..., 2006, 'WD', 'Abnorml'],\n",
       "       [85, 'RL', 10441, ..., 2006, 'WD', 'Normal'],\n",
       "       [60, 'RL', 9627, ..., 2006, 'WD', 'Normal']], dtype=object)"
      ]
     },
     "execution_count": 68,
     "metadata": {},
     "output_type": "execute_result"
    }
   ],
   "source": [
    "X_teste_data"
   ]
  },
  {
   "cell_type": "markdown",
   "id": "b20502fa",
   "metadata": {},
   "source": [
    "### 4.3 - Tratamento de atributos categóricos"
   ]
  },
  {
   "cell_type": "markdown",
   "id": "e36c2508",
   "metadata": {},
   "source": [
    "#### LabelEncoder"
   ]
  },
  {
   "cell_type": "code",
   "execution_count": 69,
   "id": "56f80fba",
   "metadata": {
    "execution": {
     "iopub.execute_input": "2023-06-21T16:49:53.377925Z",
     "iopub.status.busy": "2023-06-21T16:49:53.377535Z",
     "iopub.status.idle": "2023-06-21T16:49:53.385637Z",
     "shell.execute_reply": "2023-06-21T16:49:53.384443Z",
     "shell.execute_reply.started": "2023-06-21T16:49:53.377893Z"
    }
   },
   "outputs": [
    {
     "data": {
      "text/plain": [
       "array([20, 'RH', 11622, 'Pave', 'Reg', 'Lvl', 'AllPub', 'Inside', 'Gtl',\n",
       "       'NAmes', 'Feedr', 'Norm', '1Fam', '1Story', 5, 6, 1961, 1961,\n",
       "       'Gable', 'CompShg', 'VinylSd', 'VinylSd', 'None', 0.0, 'TA', 'TA',\n",
       "       'CBlock', 'TA', 'TA', 'No', 'Rec', 468.0, 'LwQ', 144.0, 270.0,\n",
       "       882.0, 'GasA', 'TA', 'Y', 'SBrkr', 896, 0, 0, 896, 0.0, 0.0, 1, 0,\n",
       "       2, 1, 'TA', 5, 'Typ', 0, 'Attchd', 1961.0, 'Unf', 1.0, 730.0, 'TA',\n",
       "       'TA', 'Y', 140, 0, 0, 0, 120, 0, 6, 2010, 'WD', 'Normal'],\n",
       "      dtype=object)"
      ]
     },
     "execution_count": 69,
     "metadata": {},
     "output_type": "execute_result"
    }
   ],
   "source": [
    "X_teste_data[0]"
   ]
  },
  {
   "cell_type": "code",
   "execution_count": 70,
   "id": "5870ae53",
   "metadata": {
    "execution": {
     "iopub.execute_input": "2023-06-21T16:49:59.498493Z",
     "iopub.status.busy": "2023-06-21T16:49:59.498079Z",
     "iopub.status.idle": "2023-06-21T16:49:59.527842Z",
     "shell.execute_reply": "2023-06-21T16:49:59.527098Z",
     "shell.execute_reply.started": "2023-06-21T16:49:59.498458Z"
    }
   },
   "outputs": [
    {
     "data": {
      "text/html": [
       "<div>\n",
       "<style scoped>\n",
       "    .dataframe tbody tr th:only-of-type {\n",
       "        vertical-align: middle;\n",
       "    }\n",
       "\n",
       "    .dataframe tbody tr th {\n",
       "        vertical-align: top;\n",
       "    }\n",
       "\n",
       "    .dataframe thead th {\n",
       "        text-align: right;\n",
       "    }\n",
       "</style>\n",
       "<table border=\"1\" class=\"dataframe\">\n",
       "  <thead>\n",
       "    <tr style=\"text-align: right;\">\n",
       "      <th></th>\n",
       "      <th>MSSubClass</th>\n",
       "      <th>MSZoning</th>\n",
       "      <th>LotArea</th>\n",
       "      <th>Street</th>\n",
       "      <th>LotShape</th>\n",
       "      <th>LandContour</th>\n",
       "      <th>Utilities</th>\n",
       "      <th>LotConfig</th>\n",
       "      <th>LandSlope</th>\n",
       "      <th>Neighborhood</th>\n",
       "      <th>...</th>\n",
       "      <th>WoodDeckSF</th>\n",
       "      <th>OpenPorchSF</th>\n",
       "      <th>EnclosedPorch</th>\n",
       "      <th>3SsnPorch</th>\n",
       "      <th>ScreenPorch</th>\n",
       "      <th>PoolArea</th>\n",
       "      <th>MoSold</th>\n",
       "      <th>YrSold</th>\n",
       "      <th>SaleType</th>\n",
       "      <th>SaleCondition</th>\n",
       "    </tr>\n",
       "  </thead>\n",
       "  <tbody>\n",
       "    <tr>\n",
       "      <th>0</th>\n",
       "      <td>20</td>\n",
       "      <td>RH</td>\n",
       "      <td>11622</td>\n",
       "      <td>Pave</td>\n",
       "      <td>Reg</td>\n",
       "      <td>Lvl</td>\n",
       "      <td>AllPub</td>\n",
       "      <td>Inside</td>\n",
       "      <td>Gtl</td>\n",
       "      <td>NAmes</td>\n",
       "      <td>...</td>\n",
       "      <td>140</td>\n",
       "      <td>0</td>\n",
       "      <td>0</td>\n",
       "      <td>0</td>\n",
       "      <td>120</td>\n",
       "      <td>0</td>\n",
       "      <td>6</td>\n",
       "      <td>2010</td>\n",
       "      <td>WD</td>\n",
       "      <td>Normal</td>\n",
       "    </tr>\n",
       "    <tr>\n",
       "      <th>1</th>\n",
       "      <td>20</td>\n",
       "      <td>RL</td>\n",
       "      <td>14267</td>\n",
       "      <td>Pave</td>\n",
       "      <td>IR1</td>\n",
       "      <td>Lvl</td>\n",
       "      <td>AllPub</td>\n",
       "      <td>Corner</td>\n",
       "      <td>Gtl</td>\n",
       "      <td>NAmes</td>\n",
       "      <td>...</td>\n",
       "      <td>393</td>\n",
       "      <td>36</td>\n",
       "      <td>0</td>\n",
       "      <td>0</td>\n",
       "      <td>0</td>\n",
       "      <td>0</td>\n",
       "      <td>6</td>\n",
       "      <td>2010</td>\n",
       "      <td>WD</td>\n",
       "      <td>Normal</td>\n",
       "    </tr>\n",
       "    <tr>\n",
       "      <th>2</th>\n",
       "      <td>60</td>\n",
       "      <td>RL</td>\n",
       "      <td>13830</td>\n",
       "      <td>Pave</td>\n",
       "      <td>IR1</td>\n",
       "      <td>Lvl</td>\n",
       "      <td>AllPub</td>\n",
       "      <td>Inside</td>\n",
       "      <td>Gtl</td>\n",
       "      <td>Gilbert</td>\n",
       "      <td>...</td>\n",
       "      <td>212</td>\n",
       "      <td>34</td>\n",
       "      <td>0</td>\n",
       "      <td>0</td>\n",
       "      <td>0</td>\n",
       "      <td>0</td>\n",
       "      <td>3</td>\n",
       "      <td>2010</td>\n",
       "      <td>WD</td>\n",
       "      <td>Normal</td>\n",
       "    </tr>\n",
       "    <tr>\n",
       "      <th>3</th>\n",
       "      <td>60</td>\n",
       "      <td>RL</td>\n",
       "      <td>9978</td>\n",
       "      <td>Pave</td>\n",
       "      <td>IR1</td>\n",
       "      <td>Lvl</td>\n",
       "      <td>AllPub</td>\n",
       "      <td>Inside</td>\n",
       "      <td>Gtl</td>\n",
       "      <td>Gilbert</td>\n",
       "      <td>...</td>\n",
       "      <td>360</td>\n",
       "      <td>36</td>\n",
       "      <td>0</td>\n",
       "      <td>0</td>\n",
       "      <td>0</td>\n",
       "      <td>0</td>\n",
       "      <td>6</td>\n",
       "      <td>2010</td>\n",
       "      <td>WD</td>\n",
       "      <td>Normal</td>\n",
       "    </tr>\n",
       "    <tr>\n",
       "      <th>4</th>\n",
       "      <td>120</td>\n",
       "      <td>RL</td>\n",
       "      <td>5005</td>\n",
       "      <td>Pave</td>\n",
       "      <td>IR1</td>\n",
       "      <td>HLS</td>\n",
       "      <td>AllPub</td>\n",
       "      <td>Inside</td>\n",
       "      <td>Gtl</td>\n",
       "      <td>StoneBr</td>\n",
       "      <td>...</td>\n",
       "      <td>0</td>\n",
       "      <td>82</td>\n",
       "      <td>0</td>\n",
       "      <td>0</td>\n",
       "      <td>144</td>\n",
       "      <td>0</td>\n",
       "      <td>1</td>\n",
       "      <td>2010</td>\n",
       "      <td>WD</td>\n",
       "      <td>Normal</td>\n",
       "    </tr>\n",
       "    <tr>\n",
       "      <th>...</th>\n",
       "      <td>...</td>\n",
       "      <td>...</td>\n",
       "      <td>...</td>\n",
       "      <td>...</td>\n",
       "      <td>...</td>\n",
       "      <td>...</td>\n",
       "      <td>...</td>\n",
       "      <td>...</td>\n",
       "      <td>...</td>\n",
       "      <td>...</td>\n",
       "      <td>...</td>\n",
       "      <td>...</td>\n",
       "      <td>...</td>\n",
       "      <td>...</td>\n",
       "      <td>...</td>\n",
       "      <td>...</td>\n",
       "      <td>...</td>\n",
       "      <td>...</td>\n",
       "      <td>...</td>\n",
       "      <td>...</td>\n",
       "      <td>...</td>\n",
       "    </tr>\n",
       "    <tr>\n",
       "      <th>1454</th>\n",
       "      <td>160</td>\n",
       "      <td>RM</td>\n",
       "      <td>1936</td>\n",
       "      <td>Pave</td>\n",
       "      <td>Reg</td>\n",
       "      <td>Lvl</td>\n",
       "      <td>AllPub</td>\n",
       "      <td>Inside</td>\n",
       "      <td>Gtl</td>\n",
       "      <td>MeadowV</td>\n",
       "      <td>...</td>\n",
       "      <td>0</td>\n",
       "      <td>0</td>\n",
       "      <td>0</td>\n",
       "      <td>0</td>\n",
       "      <td>0</td>\n",
       "      <td>0</td>\n",
       "      <td>6</td>\n",
       "      <td>2006</td>\n",
       "      <td>WD</td>\n",
       "      <td>Normal</td>\n",
       "    </tr>\n",
       "    <tr>\n",
       "      <th>1455</th>\n",
       "      <td>160</td>\n",
       "      <td>RM</td>\n",
       "      <td>1894</td>\n",
       "      <td>Pave</td>\n",
       "      <td>Reg</td>\n",
       "      <td>Lvl</td>\n",
       "      <td>AllPub</td>\n",
       "      <td>Inside</td>\n",
       "      <td>Gtl</td>\n",
       "      <td>MeadowV</td>\n",
       "      <td>...</td>\n",
       "      <td>0</td>\n",
       "      <td>24</td>\n",
       "      <td>0</td>\n",
       "      <td>0</td>\n",
       "      <td>0</td>\n",
       "      <td>0</td>\n",
       "      <td>4</td>\n",
       "      <td>2006</td>\n",
       "      <td>WD</td>\n",
       "      <td>Abnorml</td>\n",
       "    </tr>\n",
       "    <tr>\n",
       "      <th>1456</th>\n",
       "      <td>20</td>\n",
       "      <td>RL</td>\n",
       "      <td>20000</td>\n",
       "      <td>Pave</td>\n",
       "      <td>Reg</td>\n",
       "      <td>Lvl</td>\n",
       "      <td>AllPub</td>\n",
       "      <td>Inside</td>\n",
       "      <td>Gtl</td>\n",
       "      <td>Mitchel</td>\n",
       "      <td>...</td>\n",
       "      <td>474</td>\n",
       "      <td>0</td>\n",
       "      <td>0</td>\n",
       "      <td>0</td>\n",
       "      <td>0</td>\n",
       "      <td>0</td>\n",
       "      <td>9</td>\n",
       "      <td>2006</td>\n",
       "      <td>WD</td>\n",
       "      <td>Abnorml</td>\n",
       "    </tr>\n",
       "    <tr>\n",
       "      <th>1457</th>\n",
       "      <td>85</td>\n",
       "      <td>RL</td>\n",
       "      <td>10441</td>\n",
       "      <td>Pave</td>\n",
       "      <td>Reg</td>\n",
       "      <td>Lvl</td>\n",
       "      <td>AllPub</td>\n",
       "      <td>Inside</td>\n",
       "      <td>Gtl</td>\n",
       "      <td>Mitchel</td>\n",
       "      <td>...</td>\n",
       "      <td>80</td>\n",
       "      <td>32</td>\n",
       "      <td>0</td>\n",
       "      <td>0</td>\n",
       "      <td>0</td>\n",
       "      <td>0</td>\n",
       "      <td>7</td>\n",
       "      <td>2006</td>\n",
       "      <td>WD</td>\n",
       "      <td>Normal</td>\n",
       "    </tr>\n",
       "    <tr>\n",
       "      <th>1458</th>\n",
       "      <td>60</td>\n",
       "      <td>RL</td>\n",
       "      <td>9627</td>\n",
       "      <td>Pave</td>\n",
       "      <td>Reg</td>\n",
       "      <td>Lvl</td>\n",
       "      <td>AllPub</td>\n",
       "      <td>Inside</td>\n",
       "      <td>Mod</td>\n",
       "      <td>Mitchel</td>\n",
       "      <td>...</td>\n",
       "      <td>190</td>\n",
       "      <td>48</td>\n",
       "      <td>0</td>\n",
       "      <td>0</td>\n",
       "      <td>0</td>\n",
       "      <td>0</td>\n",
       "      <td>11</td>\n",
       "      <td>2006</td>\n",
       "      <td>WD</td>\n",
       "      <td>Normal</td>\n",
       "    </tr>\n",
       "  </tbody>\n",
       "</table>\n",
       "<p>1459 rows × 72 columns</p>\n",
       "</div>"
      ],
      "text/plain": [
       "      MSSubClass MSZoning  LotArea Street LotShape LandContour Utilities  \\\n",
       "0             20       RH    11622   Pave      Reg         Lvl    AllPub   \n",
       "1             20       RL    14267   Pave      IR1         Lvl    AllPub   \n",
       "2             60       RL    13830   Pave      IR1         Lvl    AllPub   \n",
       "3             60       RL     9978   Pave      IR1         Lvl    AllPub   \n",
       "4            120       RL     5005   Pave      IR1         HLS    AllPub   \n",
       "...          ...      ...      ...    ...      ...         ...       ...   \n",
       "1454         160       RM     1936   Pave      Reg         Lvl    AllPub   \n",
       "1455         160       RM     1894   Pave      Reg         Lvl    AllPub   \n",
       "1456          20       RL    20000   Pave      Reg         Lvl    AllPub   \n",
       "1457          85       RL    10441   Pave      Reg         Lvl    AllPub   \n",
       "1458          60       RL     9627   Pave      Reg         Lvl    AllPub   \n",
       "\n",
       "     LotConfig LandSlope Neighborhood  ... WoodDeckSF OpenPorchSF  \\\n",
       "0       Inside       Gtl        NAmes  ...        140           0   \n",
       "1       Corner       Gtl        NAmes  ...        393          36   \n",
       "2       Inside       Gtl      Gilbert  ...        212          34   \n",
       "3       Inside       Gtl      Gilbert  ...        360          36   \n",
       "4       Inside       Gtl      StoneBr  ...          0          82   \n",
       "...        ...       ...          ...  ...        ...         ...   \n",
       "1454    Inside       Gtl      MeadowV  ...          0           0   \n",
       "1455    Inside       Gtl      MeadowV  ...          0          24   \n",
       "1456    Inside       Gtl      Mitchel  ...        474           0   \n",
       "1457    Inside       Gtl      Mitchel  ...         80          32   \n",
       "1458    Inside       Mod      Mitchel  ...        190          48   \n",
       "\n",
       "     EnclosedPorch 3SsnPorch  ScreenPorch  PoolArea  MoSold  YrSold SaleType  \\\n",
       "0                0         0          120         0       6    2010       WD   \n",
       "1                0         0            0         0       6    2010       WD   \n",
       "2                0         0            0         0       3    2010       WD   \n",
       "3                0         0            0         0       6    2010       WD   \n",
       "4                0         0          144         0       1    2010       WD   \n",
       "...            ...       ...          ...       ...     ...     ...      ...   \n",
       "1454             0         0            0         0       6    2006       WD   \n",
       "1455             0         0            0         0       4    2006       WD   \n",
       "1456             0         0            0         0       9    2006       WD   \n",
       "1457             0         0            0         0       7    2006       WD   \n",
       "1458             0         0            0         0      11    2006       WD   \n",
       "\n",
       "     SaleCondition  \n",
       "0           Normal  \n",
       "1           Normal  \n",
       "2           Normal  \n",
       "3           Normal  \n",
       "4           Normal  \n",
       "...            ...  \n",
       "1454        Normal  \n",
       "1455       Abnorml  \n",
       "1456       Abnorml  \n",
       "1457        Normal  \n",
       "1458        Normal  \n",
       "\n",
       "[1459 rows x 72 columns]"
      ]
     },
     "execution_count": 70,
     "metadata": {},
     "output_type": "execute_result"
    }
   ],
   "source": [
    "teste_data.columns\n",
    "teste_data_X_teste = teste_data.drop(columns=['Id'], axis=1)\n",
    "teste_data_X_teste"
   ]
  },
  {
   "cell_type": "code",
   "execution_count": 71,
   "id": "beb60ffe",
   "metadata": {
    "execution": {
     "iopub.execute_input": "2023-06-21T16:50:04.322056Z",
     "iopub.status.busy": "2023-06-21T16:50:04.321238Z",
     "iopub.status.idle": "2023-06-21T16:50:04.328969Z",
     "shell.execute_reply": "2023-06-21T16:50:04.328140Z",
     "shell.execute_reply.started": "2023-06-21T16:50:04.322006Z"
    },
    "scrolled": false
   },
   "outputs": [
    {
     "data": {
      "text/plain": [
       "['MSZoning',\n",
       " 'Street',\n",
       " 'LotShape',\n",
       " 'LandContour',\n",
       " 'Utilities',\n",
       " 'LotConfig',\n",
       " 'LandSlope',\n",
       " 'Neighborhood',\n",
       " 'Condition1',\n",
       " 'Condition2',\n",
       " 'BldgType',\n",
       " 'HouseStyle',\n",
       " 'RoofStyle',\n",
       " 'RoofMatl',\n",
       " 'Exterior1st',\n",
       " 'Exterior2nd',\n",
       " 'MasVnrType',\n",
       " 'ExterQual',\n",
       " 'ExterCond',\n",
       " 'Foundation',\n",
       " 'BsmtQual',\n",
       " 'BsmtCond',\n",
       " 'BsmtExposure',\n",
       " 'BsmtFinType1',\n",
       " 'BsmtFinType2',\n",
       " 'Heating',\n",
       " 'HeatingQC',\n",
       " 'CentralAir',\n",
       " 'Electrical',\n",
       " 'KitchenQual',\n",
       " 'Functional',\n",
       " 'GarageType',\n",
       " 'GarageFinish',\n",
       " 'GarageQual',\n",
       " 'GarageCond',\n",
       " 'PavedDrive',\n",
       " 'SaleType',\n",
       " 'SaleCondition']"
      ]
     },
     "execution_count": 71,
     "metadata": {},
     "output_type": "execute_result"
    }
   ],
   "source": [
    "lista = list(teste_categoricos.columns)\n",
    "lista"
   ]
  },
  {
   "cell_type": "code",
   "execution_count": 72,
   "id": "8add9bfe",
   "metadata": {
    "execution": {
     "iopub.execute_input": "2023-06-21T16:50:15.833995Z",
     "iopub.status.busy": "2023-06-21T16:50:15.833407Z",
     "iopub.status.idle": "2023-06-21T16:50:15.841106Z",
     "shell.execute_reply": "2023-06-21T16:50:15.839866Z",
     "shell.execute_reply.started": "2023-06-21T16:50:15.833954Z"
    },
    "scrolled": false
   },
   "outputs": [
    {
     "name": "stdout",
     "output_type": "stream",
     "text": [
      "label_encoder_MSZoning = LabelEncoder()\n",
      "label_encoder_Street = LabelEncoder()\n",
      "label_encoder_LotShape = LabelEncoder()\n",
      "label_encoder_LandContour = LabelEncoder()\n",
      "label_encoder_Utilities = LabelEncoder()\n",
      "label_encoder_LotConfig = LabelEncoder()\n",
      "label_encoder_LandSlope = LabelEncoder()\n",
      "label_encoder_Neighborhood = LabelEncoder()\n",
      "label_encoder_Condition1 = LabelEncoder()\n",
      "label_encoder_Condition2 = LabelEncoder()\n",
      "label_encoder_BldgType = LabelEncoder()\n",
      "label_encoder_HouseStyle = LabelEncoder()\n",
      "label_encoder_RoofStyle = LabelEncoder()\n",
      "label_encoder_RoofMatl = LabelEncoder()\n",
      "label_encoder_Exterior1st = LabelEncoder()\n",
      "label_encoder_Exterior2nd = LabelEncoder()\n",
      "label_encoder_MasVnrType = LabelEncoder()\n",
      "label_encoder_ExterQual = LabelEncoder()\n",
      "label_encoder_ExterCond = LabelEncoder()\n",
      "label_encoder_Foundation = LabelEncoder()\n",
      "label_encoder_BsmtQual = LabelEncoder()\n",
      "label_encoder_BsmtCond = LabelEncoder()\n",
      "label_encoder_BsmtExposure = LabelEncoder()\n",
      "label_encoder_BsmtFinType1 = LabelEncoder()\n",
      "label_encoder_BsmtFinType2 = LabelEncoder()\n",
      "label_encoder_Heating = LabelEncoder()\n",
      "label_encoder_HeatingQC = LabelEncoder()\n",
      "label_encoder_CentralAir = LabelEncoder()\n",
      "label_encoder_Electrical = LabelEncoder()\n",
      "label_encoder_KitchenQual = LabelEncoder()\n",
      "label_encoder_Functional = LabelEncoder()\n",
      "label_encoder_GarageType = LabelEncoder()\n",
      "label_encoder_GarageFinish = LabelEncoder()\n",
      "label_encoder_GarageQual = LabelEncoder()\n",
      "label_encoder_GarageCond = LabelEncoder()\n",
      "label_encoder_PavedDrive = LabelEncoder()\n",
      "label_encoder_SaleType = LabelEncoder()\n",
      "label_encoder_SaleCondition = LabelEncoder()\n"
     ]
    }
   ],
   "source": [
    "for c in lista:\n",
    "    print(f'label_encoder_{c} = LabelEncoder()')"
   ]
  },
  {
   "cell_type": "code",
   "execution_count": 73,
   "id": "894d7b32",
   "metadata": {
    "execution": {
     "iopub.execute_input": "2023-06-21T16:50:42.708587Z",
     "iopub.status.busy": "2023-06-21T16:50:42.707974Z",
     "iopub.status.idle": "2023-06-21T16:50:42.717833Z",
     "shell.execute_reply": "2023-06-21T16:50:42.716725Z",
     "shell.execute_reply.started": "2023-06-21T16:50:42.708544Z"
    }
   },
   "outputs": [],
   "source": [
    "label_encoder_MSZoning = LabelEncoder()\n",
    "label_encoder_Street = LabelEncoder()\n",
    "label_encoder_LotShape = LabelEncoder()\n",
    "label_encoder_LandContour = LabelEncoder()\n",
    "label_encoder_Utilities = LabelEncoder()\n",
    "label_encoder_LotConfig = LabelEncoder()\n",
    "label_encoder_LandSlope = LabelEncoder()\n",
    "label_encoder_Neighborhood = LabelEncoder()\n",
    "label_encoder_Condition1 = LabelEncoder()\n",
    "label_encoder_Condition2 = LabelEncoder()\n",
    "label_encoder_BldgType = LabelEncoder()\n",
    "label_encoder_HouseStyle = LabelEncoder()\n",
    "label_encoder_RoofStyle = LabelEncoder()\n",
    "label_encoder_RoofMatl = LabelEncoder()\n",
    "label_encoder_Exterior1st = LabelEncoder()\n",
    "label_encoder_Exterior2nd = LabelEncoder()\n",
    "label_encoder_MasVnrType = LabelEncoder()\n",
    "label_encoder_ExterQual = LabelEncoder()\n",
    "label_encoder_ExterCond = LabelEncoder()\n",
    "label_encoder_Foundation = LabelEncoder()\n",
    "label_encoder_BsmtQual = LabelEncoder()\n",
    "label_encoder_BsmtCond = LabelEncoder()\n",
    "label_encoder_BsmtExposure = LabelEncoder()\n",
    "label_encoder_BsmtFinType1 = LabelEncoder()\n",
    "label_encoder_BsmtFinType2 = LabelEncoder()\n",
    "label_encoder_Heating = LabelEncoder()\n",
    "label_encoder_HeatingQC = LabelEncoder()\n",
    "label_encoder_CentralAir = LabelEncoder()\n",
    "label_encoder_Electrical = LabelEncoder()\n",
    "label_encoder_KitchenQual = LabelEncoder()\n",
    "label_encoder_Functional = LabelEncoder()\n",
    "label_encoder_GarageType = LabelEncoder()\n",
    "label_encoder_GarageFinish = LabelEncoder()\n",
    "label_encoder_GarageQual = LabelEncoder()\n",
    "label_encoder_GarageCond = LabelEncoder()\n",
    "label_encoder_PavedDrive = LabelEncoder()\n",
    "label_encoder_SaleType = LabelEncoder()\n",
    "label_encoder_SaleCondition = LabelEncoder()"
   ]
  },
  {
   "cell_type": "code",
   "execution_count": 74,
   "id": "a5c0d2ed",
   "metadata": {
    "execution": {
     "iopub.execute_input": "2023-06-21T16:50:49.573336Z",
     "iopub.status.busy": "2023-06-21T16:50:49.572899Z",
     "iopub.status.idle": "2023-06-21T16:50:49.580972Z",
     "shell.execute_reply": "2023-06-21T16:50:49.579881Z",
     "shell.execute_reply.started": "2023-06-21T16:50:49.573304Z"
    },
    "scrolled": true
   },
   "outputs": [
    {
     "data": {
      "text/plain": [
       "{'MSZoning': 'label_encoder_MSZoning',\n",
       " 'Street': 'label_encoder_Street',\n",
       " 'LotShape': 'label_encoder_LotShape',\n",
       " 'LandContour': 'label_encoder_LandContour',\n",
       " 'Utilities': 'label_encoder_Utilities',\n",
       " 'LotConfig': 'label_encoder_LotConfig',\n",
       " 'LandSlope': 'label_encoder_LandSlope',\n",
       " 'Neighborhood': 'label_encoder_Neighborhood',\n",
       " 'Condition1': 'label_encoder_Condition1',\n",
       " 'Condition2': 'label_encoder_Condition2',\n",
       " 'BldgType': 'label_encoder_BldgType',\n",
       " 'HouseStyle': 'label_encoder_HouseStyle',\n",
       " 'RoofStyle': 'label_encoder_RoofStyle',\n",
       " 'RoofMatl': 'label_encoder_RoofMatl',\n",
       " 'Exterior1st': 'label_encoder_Exterior1st',\n",
       " 'Exterior2nd': 'label_encoder_Exterior2nd',\n",
       " 'MasVnrType': 'label_encoder_MasVnrType',\n",
       " 'ExterQual': 'label_encoder_ExterQual',\n",
       " 'ExterCond': 'label_encoder_ExterCond',\n",
       " 'Foundation': 'label_encoder_Foundation',\n",
       " 'BsmtQual': 'label_encoder_BsmtQual',\n",
       " 'BsmtCond': 'label_encoder_BsmtCond',\n",
       " 'BsmtExposure': 'label_encoder_BsmtExposure',\n",
       " 'BsmtFinType1': 'label_encoder_BsmtFinType1',\n",
       " 'BsmtFinType2': 'label_encoder_BsmtFinType2',\n",
       " 'Heating': 'label_encoder_Heating',\n",
       " 'HeatingQC': 'label_encoder_HeatingQC',\n",
       " 'CentralAir': 'label_encoder_CentralAir',\n",
       " 'Electrical': 'label_encoder_Electrical',\n",
       " 'KitchenQual': 'label_encoder_KitchenQual',\n",
       " 'Functional': 'label_encoder_Functional',\n",
       " 'GarageType': 'label_encoder_GarageType',\n",
       " 'GarageFinish': 'label_encoder_GarageFinish',\n",
       " 'GarageQual': 'label_encoder_GarageQual',\n",
       " 'GarageCond': 'label_encoder_GarageCond',\n",
       " 'PavedDrive': 'label_encoder_PavedDrive',\n",
       " 'SaleType': 'label_encoder_SaleType',\n",
       " 'SaleCondition': 'label_encoder_SaleCondition'}"
      ]
     },
     "execution_count": 74,
     "metadata": {},
     "output_type": "execute_result"
    }
   ],
   "source": [
    "dict_label_cat = dict()\n",
    "\n",
    "for c in lista:\n",
    "    dict_label_cat[c] = f'label_encoder_{c}'\n",
    "dict_label_cat"
   ]
  },
  {
   "cell_type": "code",
   "execution_count": 75,
   "id": "6d987830",
   "metadata": {
    "execution": {
     "iopub.execute_input": "2023-06-21T16:50:52.927706Z",
     "iopub.status.busy": "2023-06-21T16:50:52.927333Z",
     "iopub.status.idle": "2023-06-21T16:50:52.935281Z",
     "shell.execute_reply": "2023-06-21T16:50:52.934084Z",
     "shell.execute_reply.started": "2023-06-21T16:50:52.927677Z"
    },
    "scrolled": true
   },
   "outputs": [
    {
     "name": "stdout",
     "output_type": "stream",
     "text": [
      "X_teste_data[:,1] = label_encoder_MSZoning.fit_transform(X_teste_data[:,1])\n",
      "X_teste_data[:,3] = label_encoder_Street.fit_transform(X_teste_data[:,3])\n",
      "X_teste_data[:,4] = label_encoder_LotShape.fit_transform(X_teste_data[:,4])\n",
      "X_teste_data[:,5] = label_encoder_LandContour.fit_transform(X_teste_data[:,5])\n",
      "X_teste_data[:,6] = label_encoder_Utilities.fit_transform(X_teste_data[:,6])\n",
      "X_teste_data[:,7] = label_encoder_LotConfig.fit_transform(X_teste_data[:,7])\n",
      "X_teste_data[:,8] = label_encoder_LandSlope.fit_transform(X_teste_data[:,8])\n",
      "X_teste_data[:,9] = label_encoder_Neighborhood.fit_transform(X_teste_data[:,9])\n",
      "X_teste_data[:,10] = label_encoder_Condition1.fit_transform(X_teste_data[:,10])\n",
      "X_teste_data[:,11] = label_encoder_Condition2.fit_transform(X_teste_data[:,11])\n",
      "X_teste_data[:,12] = label_encoder_BldgType.fit_transform(X_teste_data[:,12])\n",
      "X_teste_data[:,13] = label_encoder_HouseStyle.fit_transform(X_teste_data[:,13])\n",
      "X_teste_data[:,18] = label_encoder_RoofStyle.fit_transform(X_teste_data[:,18])\n",
      "X_teste_data[:,19] = label_encoder_RoofMatl.fit_transform(X_teste_data[:,19])\n",
      "X_teste_data[:,20] = label_encoder_Exterior1st.fit_transform(X_teste_data[:,20])\n",
      "X_teste_data[:,21] = label_encoder_Exterior2nd.fit_transform(X_teste_data[:,21])\n",
      "X_teste_data[:,22] = label_encoder_MasVnrType.fit_transform(X_teste_data[:,22])\n",
      "X_teste_data[:,24] = label_encoder_ExterQual.fit_transform(X_teste_data[:,24])\n",
      "X_teste_data[:,25] = label_encoder_ExterCond.fit_transform(X_teste_data[:,25])\n",
      "X_teste_data[:,26] = label_encoder_Foundation.fit_transform(X_teste_data[:,26])\n",
      "X_teste_data[:,27] = label_encoder_BsmtQual.fit_transform(X_teste_data[:,27])\n",
      "X_teste_data[:,28] = label_encoder_BsmtCond.fit_transform(X_teste_data[:,28])\n",
      "X_teste_data[:,29] = label_encoder_BsmtExposure.fit_transform(X_teste_data[:,29])\n",
      "X_teste_data[:,30] = label_encoder_BsmtFinType1.fit_transform(X_teste_data[:,30])\n",
      "X_teste_data[:,32] = label_encoder_BsmtFinType2.fit_transform(X_teste_data[:,32])\n",
      "X_teste_data[:,36] = label_encoder_Heating.fit_transform(X_teste_data[:,36])\n",
      "X_teste_data[:,37] = label_encoder_HeatingQC.fit_transform(X_teste_data[:,37])\n",
      "X_teste_data[:,38] = label_encoder_CentralAir.fit_transform(X_teste_data[:,38])\n",
      "X_teste_data[:,39] = label_encoder_Electrical.fit_transform(X_teste_data[:,39])\n",
      "X_teste_data[:,50] = label_encoder_KitchenQual.fit_transform(X_teste_data[:,50])\n",
      "X_teste_data[:,52] = label_encoder_Functional.fit_transform(X_teste_data[:,52])\n",
      "X_teste_data[:,54] = label_encoder_GarageType.fit_transform(X_teste_data[:,54])\n",
      "X_teste_data[:,56] = label_encoder_GarageFinish.fit_transform(X_teste_data[:,56])\n",
      "X_teste_data[:,59] = label_encoder_GarageQual.fit_transform(X_teste_data[:,59])\n",
      "X_teste_data[:,60] = label_encoder_GarageCond.fit_transform(X_teste_data[:,60])\n",
      "X_teste_data[:,61] = label_encoder_PavedDrive.fit_transform(X_teste_data[:,61])\n",
      "X_teste_data[:,70] = label_encoder_SaleType.fit_transform(X_teste_data[:,70])\n",
      "X_teste_data[:,71] = label_encoder_SaleCondition.fit_transform(X_teste_data[:,71])\n"
     ]
    }
   ],
   "source": [
    "lista_train_data = list()\n",
    "count = 0\n",
    "for c in teste_data_X_teste.columns:\n",
    "    for d in lista:\n",
    "        if c == d:\n",
    "            for a in dict_label_cat.keys():\n",
    "                if d == a:\n",
    "                    print(f'X_teste_data[:,{count}] = {dict_label_cat[a]}.fit_transform(X_teste_data[:,{count}])')\n",
    "    count+=1"
   ]
  },
  {
   "cell_type": "code",
   "execution_count": 76,
   "id": "1f17ce98",
   "metadata": {
    "execution": {
     "iopub.execute_input": "2023-06-21T16:51:22.262651Z",
     "iopub.status.busy": "2023-06-21T16:51:22.262217Z",
     "iopub.status.idle": "2023-06-21T16:51:22.297392Z",
     "shell.execute_reply": "2023-06-21T16:51:22.296257Z",
     "shell.execute_reply.started": "2023-06-21T16:51:22.262617Z"
    }
   },
   "outputs": [],
   "source": [
    "X_teste_data[:,1] = label_encoder_MSZoning.fit_transform(X_teste_data[:,1])\n",
    "X_teste_data[:,3] = label_encoder_Street.fit_transform(X_teste_data[:,3])\n",
    "X_teste_data[:,4] = label_encoder_LotShape.fit_transform(X_teste_data[:,4])\n",
    "X_teste_data[:,5] = label_encoder_LandContour.fit_transform(X_teste_data[:,5])\n",
    "X_teste_data[:,6] = label_encoder_Utilities.fit_transform(X_teste_data[:,6])\n",
    "X_teste_data[:,7] = label_encoder_LotConfig.fit_transform(X_teste_data[:,7])\n",
    "X_teste_data[:,8] = label_encoder_LandSlope.fit_transform(X_teste_data[:,8])\n",
    "X_teste_data[:,9] = label_encoder_Neighborhood.fit_transform(X_teste_data[:,9])\n",
    "X_teste_data[:,10] = label_encoder_Condition1.fit_transform(X_teste_data[:,10])\n",
    "X_teste_data[:,11] = label_encoder_Condition2.fit_transform(X_teste_data[:,11])\n",
    "X_teste_data[:,12] = label_encoder_BldgType.fit_transform(X_teste_data[:,12])\n",
    "X_teste_data[:,13] = label_encoder_HouseStyle.fit_transform(X_teste_data[:,13])\n",
    "X_teste_data[:,18] = label_encoder_RoofStyle.fit_transform(X_teste_data[:,18])\n",
    "X_teste_data[:,19] = label_encoder_RoofMatl.fit_transform(X_teste_data[:,19])\n",
    "X_teste_data[:,20] = label_encoder_Exterior1st.fit_transform(X_teste_data[:,20])\n",
    "X_teste_data[:,21] = label_encoder_Exterior2nd.fit_transform(X_teste_data[:,21])\n",
    "X_teste_data[:,22] = label_encoder_MasVnrType.fit_transform(X_teste_data[:,22])\n",
    "X_teste_data[:,24] = label_encoder_ExterQual.fit_transform(X_teste_data[:,24])\n",
    "X_teste_data[:,25] = label_encoder_ExterCond.fit_transform(X_teste_data[:,25])\n",
    "X_teste_data[:,26] = label_encoder_Foundation.fit_transform(X_teste_data[:,26])\n",
    "X_teste_data[:,27] = label_encoder_BsmtQual.fit_transform(X_teste_data[:,27])\n",
    "X_teste_data[:,28] = label_encoder_BsmtCond.fit_transform(X_teste_data[:,28])\n",
    "X_teste_data[:,29] = label_encoder_BsmtExposure.fit_transform(X_teste_data[:,29])\n",
    "X_teste_data[:,30] = label_encoder_BsmtFinType1.fit_transform(X_teste_data[:,30])\n",
    "X_teste_data[:,32] = label_encoder_BsmtFinType2.fit_transform(X_teste_data[:,32])\n",
    "X_teste_data[:,36] = label_encoder_Heating.fit_transform(X_teste_data[:,36])\n",
    "X_teste_data[:,37] = label_encoder_HeatingQC.fit_transform(X_teste_data[:,37])\n",
    "X_teste_data[:,38] = label_encoder_CentralAir.fit_transform(X_teste_data[:,38])\n",
    "X_teste_data[:,39] = label_encoder_Electrical.fit_transform(X_teste_data[:,39])\n",
    "X_teste_data[:,50] = label_encoder_KitchenQual.fit_transform(X_teste_data[:,50])\n",
    "X_teste_data[:,52] = label_encoder_Functional.fit_transform(X_teste_data[:,52])\n",
    "X_teste_data[:,54] = label_encoder_GarageType.fit_transform(X_teste_data[:,54])\n",
    "X_teste_data[:,56] = label_encoder_GarageFinish.fit_transform(X_teste_data[:,56])\n",
    "X_teste_data[:,59] = label_encoder_GarageQual.fit_transform(X_teste_data[:,59])\n",
    "X_teste_data[:,60] = label_encoder_GarageCond.fit_transform(X_teste_data[:,60])\n",
    "X_teste_data[:,61] = label_encoder_PavedDrive.fit_transform(X_teste_data[:,61])\n",
    "X_teste_data[:,70] = label_encoder_SaleType.fit_transform(X_teste_data[:,70])\n",
    "X_teste_data[:,71] = label_encoder_SaleCondition.fit_transform(X_teste_data[:,71])"
   ]
  },
  {
   "cell_type": "code",
   "execution_count": 77,
   "id": "4560b78f",
   "metadata": {
    "execution": {
     "iopub.execute_input": "2023-06-21T16:51:26.812606Z",
     "iopub.status.busy": "2023-06-21T16:51:26.811863Z",
     "iopub.status.idle": "2023-06-21T16:51:26.820048Z",
     "shell.execute_reply": "2023-06-21T16:51:26.818783Z",
     "shell.execute_reply.started": "2023-06-21T16:51:26.812565Z"
    },
    "scrolled": true
   },
   "outputs": [
    {
     "name": "stdout",
     "output_type": "stream",
     "text": [
      "1, 3, 4, 5, 6, 7, 8, 9, 10, 11, 12, 13, 18, 19, 20, 21, 22, 24, 25, 26, 27, 28, 29, 30, 32, 36, 37, 38, 39, 50, 52, 54, 56, 59, 60, 61, 70, 71, "
     ]
    }
   ],
   "source": [
    "count = 0\n",
    "for c in teste_data_X_teste.columns:\n",
    "    for d in lista:\n",
    "        if c == d:\n",
    "            print(f'{count}, ', end='')\n",
    "    count+=1"
   ]
  },
  {
   "cell_type": "code",
   "execution_count": 78,
   "id": "3dbfdd30",
   "metadata": {
    "execution": {
     "iopub.execute_input": "2023-06-21T16:51:29.437626Z",
     "iopub.status.busy": "2023-06-21T16:51:29.437237Z",
     "iopub.status.idle": "2023-06-21T16:51:29.445078Z",
     "shell.execute_reply": "2023-06-21T16:51:29.443951Z",
     "shell.execute_reply.started": "2023-06-21T16:51:29.437596Z"
    }
   },
   "outputs": [
    {
     "data": {
      "text/plain": [
       "array([60, 3, 13830, 1, 0, 3, 0, 4, 0, 8, 2, 2, 0, 4, 5, 5, 1997, 1998, 1,\n",
       "       0, 10, 12, 2, 0.0, 3, 4, 2, 2, 3, 3, 2, 791.0, 5, 0.0, 137.0,\n",
       "       928.0, 0, 2, 1, 3, 928, 701, 0, 1629, 0.0, 0.0, 2, 1, 3, 1, 3, 6,\n",
       "       6, 1, 1, 1997.0, 0, 2.0, 482.0, 3, 4, 2, 212, 34, 0, 0, 0, 0, 3,\n",
       "       2010, 8, 4], dtype=object)"
      ]
     },
     "execution_count": 78,
     "metadata": {},
     "output_type": "execute_result"
    }
   ],
   "source": [
    "X_teste_data[2]"
   ]
  },
  {
   "cell_type": "markdown",
   "id": "5fc81080",
   "metadata": {},
   "source": [
    "#### OneHotEncoder "
   ]
  },
  {
   "cell_type": "code",
   "execution_count": 79,
   "id": "f9825b29",
   "metadata": {
    "execution": {
     "iopub.execute_input": "2023-06-21T16:52:10.192474Z",
     "iopub.status.busy": "2023-06-21T16:52:10.192067Z",
     "iopub.status.idle": "2023-06-21T16:52:10.199288Z",
     "shell.execute_reply": "2023-06-21T16:52:10.198012Z",
     "shell.execute_reply.started": "2023-06-21T16:52:10.192441Z"
    }
   },
   "outputs": [],
   "source": [
    "onehotencoder_teste_data = ColumnTransformer(transformers=[('OneHot', OneHotEncoder(), [1, 3, 4, 5, 6, 7, 8, 9, 10, 11, 12, 13, 18, 19, 20, 21, 22, 24, 25, 26, 27, 28, 29, 30, 32, 36, 37, 38, 39, 50, 52, 54, 56, 59, 60, 61, 70, 71])], remainder='passthrough')"
   ]
  },
  {
   "cell_type": "code",
   "execution_count": 80,
   "id": "1d04db0b",
   "metadata": {
    "execution": {
     "iopub.execute_input": "2023-06-21T16:52:12.476776Z",
     "iopub.status.busy": "2023-06-21T16:52:12.476406Z",
     "iopub.status.idle": "2023-06-21T16:52:12.523800Z",
     "shell.execute_reply": "2023-06-21T16:52:12.522713Z",
     "shell.execute_reply.started": "2023-06-21T16:52:12.476749Z"
    }
   },
   "outputs": [
    {
     "data": {
      "text/plain": [
       "array([[0.000e+00, 0.000e+00, 1.000e+00, ..., 0.000e+00, 6.000e+00,\n",
       "        2.010e+03],\n",
       "       [0.000e+00, 0.000e+00, 0.000e+00, ..., 0.000e+00, 6.000e+00,\n",
       "        2.010e+03],\n",
       "       [0.000e+00, 0.000e+00, 0.000e+00, ..., 0.000e+00, 3.000e+00,\n",
       "        2.010e+03],\n",
       "       ...,\n",
       "       [0.000e+00, 0.000e+00, 0.000e+00, ..., 0.000e+00, 9.000e+00,\n",
       "        2.006e+03],\n",
       "       [0.000e+00, 0.000e+00, 0.000e+00, ..., 0.000e+00, 7.000e+00,\n",
       "        2.006e+03],\n",
       "       [0.000e+00, 0.000e+00, 0.000e+00, ..., 0.000e+00, 1.100e+01,\n",
       "        2.006e+03]])"
      ]
     },
     "execution_count": 80,
     "metadata": {},
     "output_type": "execute_result"
    }
   ],
   "source": [
    "X_teste_data\n",
    "X_teste_data = onehotencoder_teste_data.fit_transform(X_teste_data).toarray()\n",
    "X_teste_data"
   ]
  },
  {
   "cell_type": "code",
   "execution_count": 81,
   "id": "0b340950",
   "metadata": {
    "execution": {
     "iopub.execute_input": "2023-06-21T16:52:17.581433Z",
     "iopub.status.busy": "2023-06-21T16:52:17.581020Z",
     "iopub.status.idle": "2023-06-21T16:52:17.591405Z",
     "shell.execute_reply": "2023-06-21T16:52:17.590209Z",
     "shell.execute_reply.started": "2023-06-21T16:52:17.581404Z"
    }
   },
   "outputs": [
    {
     "data": {
      "text/plain": [
       "array([0.0000e+00, 0.0000e+00, 1.0000e+00, 0.0000e+00, 0.0000e+00,\n",
       "       0.0000e+00, 0.0000e+00, 1.0000e+00, 0.0000e+00, 0.0000e+00,\n",
       "       0.0000e+00, 1.0000e+00, 0.0000e+00, 0.0000e+00, 0.0000e+00,\n",
       "       1.0000e+00, 1.0000e+00, 0.0000e+00, 0.0000e+00, 0.0000e+00,\n",
       "       0.0000e+00, 0.0000e+00, 1.0000e+00, 1.0000e+00, 0.0000e+00,\n",
       "       0.0000e+00, 0.0000e+00, 0.0000e+00, 0.0000e+00, 0.0000e+00,\n",
       "       0.0000e+00, 0.0000e+00, 0.0000e+00, 0.0000e+00, 0.0000e+00,\n",
       "       0.0000e+00, 0.0000e+00, 0.0000e+00, 1.0000e+00, 0.0000e+00,\n",
       "       0.0000e+00, 0.0000e+00, 0.0000e+00, 0.0000e+00, 0.0000e+00,\n",
       "       0.0000e+00, 0.0000e+00, 0.0000e+00, 0.0000e+00, 0.0000e+00,\n",
       "       0.0000e+00, 0.0000e+00, 1.0000e+00, 0.0000e+00, 0.0000e+00,\n",
       "       0.0000e+00, 0.0000e+00, 0.0000e+00, 0.0000e+00, 0.0000e+00,\n",
       "       0.0000e+00, 0.0000e+00, 1.0000e+00, 0.0000e+00, 0.0000e+00,\n",
       "       1.0000e+00, 0.0000e+00, 0.0000e+00, 0.0000e+00, 0.0000e+00,\n",
       "       0.0000e+00, 0.0000e+00, 1.0000e+00, 0.0000e+00, 0.0000e+00,\n",
       "       0.0000e+00, 0.0000e+00, 0.0000e+00, 1.0000e+00, 0.0000e+00,\n",
       "       0.0000e+00, 0.0000e+00, 0.0000e+00, 1.0000e+00, 0.0000e+00,\n",
       "       0.0000e+00, 0.0000e+00, 0.0000e+00, 0.0000e+00, 0.0000e+00,\n",
       "       0.0000e+00, 0.0000e+00, 0.0000e+00, 0.0000e+00, 0.0000e+00,\n",
       "       0.0000e+00, 0.0000e+00, 1.0000e+00, 0.0000e+00, 0.0000e+00,\n",
       "       0.0000e+00, 0.0000e+00, 0.0000e+00, 0.0000e+00, 0.0000e+00,\n",
       "       0.0000e+00, 0.0000e+00, 0.0000e+00, 0.0000e+00, 0.0000e+00,\n",
       "       0.0000e+00, 0.0000e+00, 0.0000e+00, 1.0000e+00, 0.0000e+00,\n",
       "       0.0000e+00, 0.0000e+00, 0.0000e+00, 0.0000e+00, 1.0000e+00,\n",
       "       0.0000e+00, 0.0000e+00, 0.0000e+00, 0.0000e+00, 0.0000e+00,\n",
       "       1.0000e+00, 0.0000e+00, 0.0000e+00, 0.0000e+00, 0.0000e+00,\n",
       "       1.0000e+00, 0.0000e+00, 1.0000e+00, 0.0000e+00, 0.0000e+00,\n",
       "       0.0000e+00, 0.0000e+00, 0.0000e+00, 0.0000e+00, 0.0000e+00,\n",
       "       1.0000e+00, 0.0000e+00, 0.0000e+00, 0.0000e+00, 0.0000e+00,\n",
       "       1.0000e+00, 0.0000e+00, 0.0000e+00, 0.0000e+00, 0.0000e+00,\n",
       "       1.0000e+00, 0.0000e+00, 0.0000e+00, 0.0000e+00, 0.0000e+00,\n",
       "       0.0000e+00, 1.0000e+00, 0.0000e+00, 0.0000e+00, 0.0000e+00,\n",
       "       0.0000e+00, 0.0000e+00, 1.0000e+00, 0.0000e+00, 0.0000e+00,\n",
       "       0.0000e+00, 1.0000e+00, 0.0000e+00, 0.0000e+00, 0.0000e+00,\n",
       "       0.0000e+00, 0.0000e+00, 0.0000e+00, 0.0000e+00, 1.0000e+00,\n",
       "       0.0000e+00, 1.0000e+00, 0.0000e+00, 0.0000e+00, 0.0000e+00,\n",
       "       1.0000e+00, 0.0000e+00, 0.0000e+00, 0.0000e+00, 1.0000e+00,\n",
       "       0.0000e+00, 0.0000e+00, 0.0000e+00, 0.0000e+00, 0.0000e+00,\n",
       "       0.0000e+00, 0.0000e+00, 1.0000e+00, 0.0000e+00, 0.0000e+00,\n",
       "       1.0000e+00, 0.0000e+00, 0.0000e+00, 0.0000e+00, 0.0000e+00,\n",
       "       0.0000e+00, 0.0000e+00, 0.0000e+00, 1.0000e+00, 0.0000e+00,\n",
       "       0.0000e+00, 0.0000e+00, 0.0000e+00, 1.0000e+00, 0.0000e+00,\n",
       "       0.0000e+00, 0.0000e+00, 0.0000e+00, 0.0000e+00, 1.0000e+00,\n",
       "       0.0000e+00, 0.0000e+00, 0.0000e+00, 1.0000e+00, 0.0000e+00,\n",
       "       0.0000e+00, 0.0000e+00, 0.0000e+00, 0.0000e+00, 0.0000e+00,\n",
       "       0.0000e+00, 0.0000e+00, 1.0000e+00, 0.0000e+00, 0.0000e+00,\n",
       "       0.0000e+00, 0.0000e+00, 0.0000e+00, 1.0000e+00, 0.0000e+00,\n",
       "       2.0000e+01, 1.1622e+04, 5.0000e+00, 6.0000e+00, 1.9610e+03,\n",
       "       1.9610e+03, 0.0000e+00, 4.6800e+02, 1.4400e+02, 2.7000e+02,\n",
       "       8.8200e+02, 8.9600e+02, 0.0000e+00, 0.0000e+00, 8.9600e+02,\n",
       "       0.0000e+00, 0.0000e+00, 1.0000e+00, 0.0000e+00, 2.0000e+00,\n",
       "       1.0000e+00, 5.0000e+00, 0.0000e+00, 1.9610e+03, 1.0000e+00,\n",
       "       7.3000e+02, 1.4000e+02, 0.0000e+00, 0.0000e+00, 0.0000e+00,\n",
       "       1.2000e+02, 0.0000e+00, 6.0000e+00, 2.0100e+03])"
      ]
     },
     "execution_count": 81,
     "metadata": {},
     "output_type": "execute_result"
    }
   ],
   "source": [
    "X_teste_data[0]"
   ]
  },
  {
   "cell_type": "code",
   "execution_count": 82,
   "id": "c5931d77",
   "metadata": {
    "execution": {
     "iopub.execute_input": "2023-06-21T16:52:22.263013Z",
     "iopub.status.busy": "2023-06-21T16:52:22.262618Z",
     "iopub.status.idle": "2023-06-21T16:52:22.269358Z",
     "shell.execute_reply": "2023-06-21T16:52:22.268232Z",
     "shell.execute_reply.started": "2023-06-21T16:52:22.262981Z"
    }
   },
   "outputs": [
    {
     "data": {
      "text/plain": [
       "(1459, 269)"
      ]
     },
     "execution_count": 82,
     "metadata": {},
     "output_type": "execute_result"
    }
   ],
   "source": [
    "X_teste_data.shape"
   ]
  },
  {
   "cell_type": "markdown",
   "id": "f3709328",
   "metadata": {},
   "source": [
    "### 4.4 - Escalonamento dos Valores"
   ]
  },
  {
   "cell_type": "code",
   "execution_count": 83,
   "id": "7a9220b5",
   "metadata": {
    "execution": {
     "iopub.execute_input": "2023-06-21T16:52:27.120325Z",
     "iopub.status.busy": "2023-06-21T16:52:27.119789Z",
     "iopub.status.idle": "2023-06-21T16:52:27.135505Z",
     "shell.execute_reply": "2023-06-21T16:52:27.134254Z",
     "shell.execute_reply.started": "2023-06-21T16:52:27.120284Z"
    }
   },
   "outputs": [],
   "source": [
    "scaler_census = StandardScaler()\n",
    "X_teste_data = scaler_census.fit_transform(X_teste_data)"
   ]
  },
  {
   "cell_type": "code",
   "execution_count": 84,
   "id": "9e24293f",
   "metadata": {
    "execution": {
     "iopub.execute_input": "2023-06-21T16:52:29.942249Z",
     "iopub.status.busy": "2023-06-21T16:52:29.941838Z",
     "iopub.status.idle": "2023-06-21T16:52:29.951339Z",
     "shell.execute_reply": "2023-06-21T16:52:29.950200Z",
     "shell.execute_reply.started": "2023-06-21T16:52:29.942216Z"
    }
   },
   "outputs": [
    {
     "data": {
      "text/plain": [
       "array([-0.10192061, -0.23114844, 12.03744159, -1.79693781, -0.44592559,\n",
       "       -0.05243225, -0.06426031,  0.06426031, -0.70456388, -0.1567758 ,\n",
       "       -0.06426031,  0.74973229, -0.19604633, -0.22449046, -0.12932416,\n",
       "        0.33599244,  0.03704974, -0.03704974, -0.45253666, -0.24402817,\n",
       "       -0.16352899, -0.08307413,  0.59133428,  0.21243573, -0.20709364,\n",
       "       -0.04539206, -0.08715896, -0.07425254, -0.09843059, -0.18837771,\n",
       "       -0.10529963, -0.2952682 , -0.19224481, -0.2624204 , -0.25027298,\n",
       "       -0.19978606, -0.11789207, -0.21593612,  2.3859297 , -0.09843059,\n",
       "       -0.20346744, -0.14489204, -0.25487939, -0.30744696, -0.12655715,\n",
       "       -0.23604312, -0.21766891, -0.26539192, -0.13469875, -0.15446569,\n",
       "       -0.09481729, -0.1763389 ,  4.07164749, -2.45243207, -0.09106602,\n",
       "       -0.11789207, -0.108578  , -0.12932416, -0.05243225, -0.05243225,\n",
       "       -0.04539206, -0.06943297,  0.10192061, -0.04539206, -0.03704974,\n",
       "        0.45911696, -0.14733867, -0.20163384, -0.19415352, -0.28974549,\n",
       "       -0.35095822, -0.05864119,  0.97897358, -0.09481729, -0.64324155,\n",
       "       -0.18042962, -0.21243573, -0.06943297,  0.49807156, -0.08715896,\n",
       "       -0.47110832, -0.05243225, -0.04539206,  0.108578  , -0.09106602,\n",
       "       -0.05243225, -0.02618914, -0.12932416, -0.02618914, -0.05243225,\n",
       "       -0.1613062 , -0.02618914, -0.21593612, -0.42138172, -0.43260146,\n",
       "       -0.28974549, -0.1117646 ,  1.36410568, -0.40432273, -0.14489204,\n",
       "       -0.02618914, -0.1117646 , -0.02618914, -0.10192061, -0.12373226,\n",
       "       -0.03704974, -0.21766891, -0.39741226, -0.05864119, -0.43594603,\n",
       "       -0.31011013, -0.02618914, -0.12084542,  1.36410568, -0.39161165,\n",
       "       -0.17426196, -0.02618914, -0.08307413, -0.65070318,  0.81346863,\n",
       "       -0.3007216 , -0.10529963, -0.1979237 , -0.12084542, -0.7122018 ,\n",
       "        0.79727676, -0.07878386, -0.16572504, -0.34227417, -0.03704974,\n",
       "        0.40202513, -0.35708765,  1.1948308 , -0.91012131, -0.13203693,\n",
       "       -0.05864119, -0.03704974, -0.32191748, -0.19415352, -0.82515185,\n",
       "        1.14072864, -0.1763389 , -0.20528726, -0.20163384, -0.04539206,\n",
       "        0.35586644, -0.17839454, -0.39509673, -0.32836078, -0.3061097 ,\n",
       "        0.73087246, -0.1763389 , -0.40890097, -0.3007216 , -0.64750344,\n",
       "       -0.24085899,  2.90050051, -0.63685765, -0.17216296, -0.15212381,\n",
       "       -0.1567758 , -0.11789207,  5.8809324 , -0.19031971, -2.36052369,\n",
       "       -0.17216296,  0.09481729, -0.07878386, -0.03704974, -0.03704974,\n",
       "       -1.03133371, -0.17426196, -0.43594603, -0.03704974,  1.54949424,\n",
       "       -0.27271612,  0.27271612, -0.2624204 , -0.12655715, -0.05864119,\n",
       "        0.3020746 , -0.27847443, -0.14733867, -0.79497865,  0.96298743,\n",
       "       -0.02618914, -0.05864119, -0.05243225, -0.15446569, -0.15905554,\n",
       "       -0.11789207, -0.02618914,  0.27416383, -0.03704974, -0.108578  ,\n",
       "        0.84287233, -0.108578  , -0.26833911, -0.06426031, -0.60612308,\n",
       "       -0.23442056, -0.57972458, -0.60295224,  1.15516233, -0.23765692,\n",
       "       -0.23442056, -0.08307413, -0.03704974,  0.35830658, -0.23765692,\n",
       "       -0.02618914, -0.16572504, -0.06426031, -0.06943297,  0.31407734,\n",
       "       -0.23765692, -0.30744696, -0.14974868,  0.34848966, -0.1763389 ,\n",
       "       -0.07425254, -0.04539206, -0.108578  , -0.05243225, -0.04539206,\n",
       "       -0.2952682 , -0.05243225,  0.39972168, -0.02618914, -0.25487939,\n",
       "       -0.07425254, -0.09106602, -0.13469875,  0.46021084, -0.29936452,\n",
       "       -0.87471081,  0.36392912, -0.75110125,  0.40076604, -0.34094461,\n",
       "       -1.07288463, -0.56331591,  0.06342751,  0.51753682, -0.65046072,\n",
       "       -0.3707163 , -0.65456132, -0.77525351, -0.08048311, -1.21558782,\n",
       "       -0.81806846, -0.2581598 , -1.02871967, -0.75103955, -1.02954254,\n",
       "       -0.20390986, -0.91833473, -0.89805519, -0.65310698, -0.98818867,\n",
       "        1.18592129,  0.36667832, -0.70162774, -0.3607383 , -0.08882665,\n",
       "        1.81895951, -0.05722694, -0.03828073,  1.71390537])"
      ]
     },
     "execution_count": 84,
     "metadata": {},
     "output_type": "execute_result"
    }
   ],
   "source": [
    "X_teste_data[0]"
   ]
  },
  {
   "cell_type": "markdown",
   "id": "fa4500d7",
   "metadata": {},
   "source": [
    "## 5. Teste de Algorítimos de Regressão"
   ]
  },
  {
   "cell_type": "markdown",
   "id": "3f3dad6a",
   "metadata": {},
   "source": [
    "### 5.1 Divisão das bases X_train_data e y_train_data para as variáveis de treinamento e teste"
   ]
  },
  {
   "cell_type": "code",
   "execution_count": 97,
   "id": "232a61ad",
   "metadata": {},
   "outputs": [],
   "source": [
    "from sklearn.model_selection import train_test_split\n",
    "from sklearn.metrics import mean_squared_error, r2_score"
   ]
  },
  {
   "cell_type": "code",
   "execution_count": 171,
   "id": "b51a6b63",
   "metadata": {},
   "outputs": [],
   "source": [
    "X_train_data_treinamento, X_train_data_teste, y_train_data_treinamento, y_train_data_teste = train_test_split(X_train_data, y_train_data, test_size=0.25, random_state=0)"
   ]
  },
  {
   "cell_type": "code",
   "execution_count": 172,
   "id": "34be56ea",
   "metadata": {},
   "outputs": [
    {
     "data": {
      "text/plain": [
       "((1095, 279), (1095,))"
      ]
     },
     "execution_count": 172,
     "metadata": {},
     "output_type": "execute_result"
    }
   ],
   "source": [
    "X_train_data_treinamento.shape, y_train_data_treinamento.shape"
   ]
  },
  {
   "cell_type": "code",
   "execution_count": 173,
   "id": "a56ed831",
   "metadata": {},
   "outputs": [
    {
     "data": {
      "text/plain": [
       "((365, 279), (365,))"
      ]
     },
     "execution_count": 173,
     "metadata": {},
     "output_type": "execute_result"
    }
   ],
   "source": [
    "X_train_data_teste.shape, y_train_data_teste.shape"
   ]
  },
  {
   "cell_type": "markdown",
   "id": "8c035640",
   "metadata": {},
   "source": [
    "### 5.2 Algorítimo de Regressão Random Forest - 85.47%"
   ]
  },
  {
   "cell_type": "code",
   "execution_count": 248,
   "id": "7dd7cfb0",
   "metadata": {},
   "outputs": [],
   "source": [
    "from sklearn.ensemble import RandomForestRegressor\n",
    "RandomForestRegressor = RandomForestRegressor(n_estimators=100, criterion='poison', random_state=0)\n",
    "RandomForestRegressor = RandomForestRegressor.fit(X_train_data_treinamento, y_train_data_treinamento)"
   ]
  },
  {
   "cell_type": "code",
   "execution_count": 249,
   "id": "7e95784b",
   "metadata": {},
   "outputs": [],
   "source": [
    "predict = RandomForestRegressor.predict(X_train_data_teste)"
   ]
  },
  {
   "cell_type": "code",
   "execution_count": 250,
   "id": "fa3834e3",
   "metadata": {},
   "outputs": [
    {
     "name": "stdout",
     "output_type": "stream",
     "text": [
      "0.8547101018178183\n"
     ]
    }
   ],
   "source": [
    "print(r2_score(y_train_data_teste, predict))"
   ]
  },
  {
   "cell_type": "markdown",
   "id": "de285dc1",
   "metadata": {},
   "source": [
    "### 5.3. Algoritimo de Regressão Linear - 62,72%"
   ]
  },
  {
   "cell_type": "code",
   "execution_count": 251,
   "id": "f2d3f31d",
   "metadata": {},
   "outputs": [],
   "source": [
    "from sklearn.linear_model import Ridge"
   ]
  },
  {
   "cell_type": "code",
   "execution_count": 252,
   "id": "de91729f",
   "metadata": {},
   "outputs": [],
   "source": [
    "Ridge = Ridge()\n",
    "Ridge = Ridge.fit(X_train_data_treinamento, y_train_data_treinamento)"
   ]
  },
  {
   "cell_type": "code",
   "execution_count": 253,
   "id": "1d7b20bf",
   "metadata": {},
   "outputs": [],
   "source": [
    "predict_ridge = Ridge.predict(X_train_data_teste)"
   ]
  },
  {
   "cell_type": "code",
   "execution_count": 254,
   "id": "a0abc9f8",
   "metadata": {},
   "outputs": [
    {
     "name": "stdout",
     "output_type": "stream",
     "text": [
      "0.6272923734116987\n",
      "2460584738.2645426\n"
     ]
    }
   ],
   "source": [
    "print(r2_score(y_train_data_teste, predict_ridge))\n",
    "print(mean_squared_error(y_train_data_teste, predict_ridge))"
   ]
  },
  {
   "cell_type": "markdown",
   "id": "9a96fb9a",
   "metadata": {},
   "source": [
    "### 5.4. Algoritimo de Regressão com Lasso"
   ]
  },
  {
   "cell_type": "code",
   "execution_count": 256,
   "id": "28bbbff9",
   "metadata": {},
   "outputs": [],
   "source": [
    "from sklearn.linear_model import Lasso"
   ]
  },
  {
   "cell_type": "code",
   "execution_count": 257,
   "id": "df13076e",
   "metadata": {},
   "outputs": [
    {
     "name": "stderr",
     "output_type": "stream",
     "text": [
      "C:\\Users\\caien\\anaconda3\\lib\\site-packages\\sklearn\\linear_model\\_coordinate_descent.py:648: ConvergenceWarning: Objective did not converge. You might want to increase the number of iterations, check the scale of the features or consider increasing regularisation. Duality gap: 1.363e+10, tolerance: 6.798e+08\n",
      "  model = cd_fast.enet_coordinate_descent(\n"
     ]
    }
   ],
   "source": [
    "Lasso = Lasso()\n",
    "Lasso = Lasso.fit(X_train_data_treinamento, y_train_data_treinamento)"
   ]
  },
  {
   "cell_type": "code",
   "execution_count": 258,
   "id": "77b857aa",
   "metadata": {},
   "outputs": [],
   "source": [
    "predict_lasso = Lasso.predict(X_train_data_teste)"
   ]
  },
  {
   "cell_type": "code",
   "execution_count": 259,
   "id": "19c33be2",
   "metadata": {},
   "outputs": [
    {
     "name": "stdout",
     "output_type": "stream",
     "text": [
      "0.6228200659698664\n",
      "2490110539.861179\n"
     ]
    }
   ],
   "source": [
    "print(r2_score(y_train_data_teste, predict_lasso))\n",
    "print(mean_squared_error(y_train_data_teste, predict_lasso))"
   ]
  },
  {
   "cell_type": "markdown",
   "id": "e683e08e",
   "metadata": {},
   "source": [
    "#### Salvar as variáveis"
   ]
  },
  {
   "cell_type": "code",
   "execution_count": 93,
   "id": "63ca735a",
   "metadata": {},
   "outputs": [],
   "source": [
    "import pickle"
   ]
  },
  {
   "cell_type": "code",
   "execution_count": null,
   "id": "e392e539",
   "metadata": {},
   "outputs": [],
   "source": [
    "with open('train_data.pkl', mode='wb') as f:\n",
    "    pickle.dump([X_train_data_treinamento, y_train_data_treinamento, X_train_data_teste, y_train_data_teste],f)"
   ]
  },
  {
   "cell_type": "code",
   "execution_count": null,
   "id": "366e80ed",
   "metadata": {},
   "outputs": [],
   "source": []
  }
 ],
 "metadata": {
  "kernelspec": {
   "display_name": "Python 3 (ipykernel)",
   "language": "python",
   "name": "python3"
  },
  "language_info": {
   "codemirror_mode": {
    "name": "ipython",
    "version": 3
   },
   "file_extension": ".py",
   "mimetype": "text/x-python",
   "name": "python",
   "nbconvert_exporter": "python",
   "pygments_lexer": "ipython3",
   "version": "3.9.12"
  }
 },
 "nbformat": 4,
 "nbformat_minor": 5
}
